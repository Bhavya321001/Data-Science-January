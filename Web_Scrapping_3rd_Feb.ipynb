{
  "nbformat": 4,
  "nbformat_minor": 0,
  "metadata": {
    "colab": {
      "name": "Web Scrapping - 3rd Feb.ipynb",
      "provenance": [],
      "authorship_tag": "ABX9TyNFg/8exRiNaybVW/gXqh71",
      "include_colab_link": true
    },
    "kernelspec": {
      "name": "python3",
      "display_name": "Python 3"
    },
    "language_info": {
      "name": "python"
    }
  },
  "cells": [
    {
      "cell_type": "markdown",
      "metadata": {
        "id": "view-in-github",
        "colab_type": "text"
      },
      "source": [
        "<a href=\"https://colab.research.google.com/github/Pepcoders/Data-Science-January/blob/main/Web_Scrapping_3rd_Feb.ipynb\" target=\"_parent\"><img src=\"https://colab.research.google.com/assets/colab-badge.svg\" alt=\"Open In Colab\"/></a>"
      ]
    },
    {
      "cell_type": "code",
      "execution_count": 1,
      "metadata": {
        "id": "RuA56ce0M2G6"
      },
      "outputs": [],
      "source": [
        "from bs4 import BeautifulSoup"
      ]
    },
    {
      "cell_type": "code",
      "source": [
        "import requests"
      ],
      "metadata": {
        "id": "WJQYTXtMSg5K"
      },
      "execution_count": 2,
      "outputs": []
    },
    {
      "cell_type": "code",
      "source": [
        "flipkart = requests.get(\"https://www.flipkart.com/search?q=realme+mobile\")"
      ],
      "metadata": {
        "id": "K8O4vapFSqvv"
      },
      "execution_count": 43,
      "outputs": []
    },
    {
      "cell_type": "code",
      "source": [
        "print(flipkart.content)"
      ],
      "metadata": {
        "id": "N8btC5azTVZL"
      },
      "execution_count": null,
      "outputs": []
    },
    {
      "cell_type": "code",
      "source": [
        "type(flipkart.content)"
      ],
      "metadata": {
        "id": "y_dNbihoTY1w"
      },
      "execution_count": null,
      "outputs": []
    },
    {
      "cell_type": "code",
      "source": [
        "flipkart.text"
      ],
      "metadata": {
        "id": "sW3kEvTgT4Pi"
      },
      "execution_count": null,
      "outputs": []
    },
    {
      "cell_type": "code",
      "source": [
        "type(flipkart.content)"
      ],
      "metadata": {
        "colab": {
          "base_uri": "https://localhost:8080/"
        },
        "id": "vMvffZA1T-Rl",
        "outputId": "4c94e68b-f520-448e-b90f-ca8bfa5201ba"
      },
      "execution_count": 47,
      "outputs": [
        {
          "output_type": "execute_result",
          "data": {
            "text/plain": [
              "bytes"
            ]
          },
          "metadata": {},
          "execution_count": 47
        }
      ]
    },
    {
      "cell_type": "code",
      "source": [
        "soup = BeautifulSoup(flipkart.text, \"html.parser\")"
      ],
      "metadata": {
        "id": "6JQTYyeJUCdn"
      },
      "execution_count": 48,
      "outputs": []
    },
    {
      "cell_type": "code",
      "source": [
        "print(soup.prettify)"
      ],
      "metadata": {
        "id": "QXLsAzJUU4Dc"
      },
      "execution_count": null,
      "outputs": []
    },
    {
      "cell_type": "code",
      "source": [
        "soup.title"
      ],
      "metadata": {
        "id": "jiPO_WUYU41-"
      },
      "execution_count": null,
      "outputs": []
    },
    {
      "cell_type": "code",
      "source": [
        "soup.title.text\n"
      ],
      "metadata": {
        "id": "WzVywth3Wwlk"
      },
      "execution_count": null,
      "outputs": []
    },
    {
      "cell_type": "code",
      "source": [
        "soup.p"
      ],
      "metadata": {
        "id": "kK0w45A_W8Bl"
      },
      "execution_count": null,
      "outputs": []
    },
    {
      "cell_type": "code",
      "source": [
        "soup.div.text"
      ],
      "metadata": {
        "id": "S_fApnV_W_Pe"
      },
      "execution_count": null,
      "outputs": []
    },
    {
      "cell_type": "code",
      "source": [
        "mobile = soup.find(\"div\", class_=\"_1AtVbE\")"
      ],
      "metadata": {
        "id": "Ap8B6it3XDps"
      },
      "execution_count": 33,
      "outputs": []
    },
    {
      "cell_type": "code",
      "source": [
        "mobile"
      ],
      "metadata": {
        "id": "b0TOCz3cXcr3"
      },
      "execution_count": null,
      "outputs": []
    },
    {
      "cell_type": "code",
      "source": [
        "mobiles = soup.find_all(\"div\", attrs = {\"class\": \"_13oc-S\"})"
      ],
      "metadata": {
        "id": "3iCte_HPXgFP"
      },
      "execution_count": 29,
      "outputs": []
    },
    {
      "cell_type": "code",
      "source": [
        "len(mobiles)"
      ],
      "metadata": {
        "id": "_P4eje3NXjSD"
      },
      "execution_count": null,
      "outputs": []
    },
    {
      "cell_type": "code",
      "source": [
        "mobile = mobiles[0]\n",
        "name = mobile.find(\"div\", attrs = {\"class\": \"_4rR01T\"})"
      ],
      "metadata": {
        "id": "fism0N1vXpN5"
      },
      "execution_count": 54,
      "outputs": []
    },
    {
      "cell_type": "code",
      "source": [
        "name.text"
      ],
      "metadata": {
        "id": "wxF_pdOBZLQv"
      },
      "execution_count": null,
      "outputs": []
    },
    {
      "cell_type": "code",
      "source": [
        "price = mobile.find(\"div\", class_= \"_30jeq3 _1_WHN1\")"
      ],
      "metadata": {
        "id": "jM4BHFjCZLxO"
      },
      "execution_count": 58,
      "outputs": []
    },
    {
      "cell_type": "code",
      "source": [
        "price.text"
      ],
      "metadata": {
        "id": "l2_qpyDRafER"
      },
      "execution_count": null,
      "outputs": []
    },
    {
      "cell_type": "code",
      "source": [
        "ram = mobile.find_all(\"li\")[0]"
      ],
      "metadata": {
        "id": "i2I4qSD4aiVA"
      },
      "execution_count": 80,
      "outputs": []
    },
    {
      "cell_type": "code",
      "source": [
        "ram.text.split('|')[0]"
      ],
      "metadata": {
        "id": "ZvJbuJkcawE7"
      },
      "execution_count": null,
      "outputs": []
    }
  ]
}