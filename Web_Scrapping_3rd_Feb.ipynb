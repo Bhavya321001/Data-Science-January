{
  "nbformat": 4,
  "nbformat_minor": 0,
  "metadata": {
    "colab": {
      "name": "Web Scrapping - 3rd Feb.ipynb",
      "provenance": [],
      "authorship_tag": "ABX9TyPZicobp+SSUf4MbPoR18Lg",
      "include_colab_link": true
    },
    "kernelspec": {
      "name": "python3",
      "display_name": "Python 3"
    },
    "language_info": {
      "name": "python"
    }
  },
  "cells": [
    {
      "cell_type": "markdown",
      "metadata": {
        "id": "view-in-github",
        "colab_type": "text"
      },
      "source": [
        "<a href=\"https://colab.research.google.com/github/Pepcoders/Data-Science-January/blob/main/Web_Scrapping_3rd_Feb.ipynb\" target=\"_parent\"><img src=\"https://colab.research.google.com/assets/colab-badge.svg\" alt=\"Open In Colab\"/></a>"
      ]
    },
    {
      "cell_type": "code",
      "execution_count": 1,
      "metadata": {
        "id": "RuA56ce0M2G6"
      },
      "outputs": [],
      "source": [
        "from bs4 import BeautifulSoup"
      ]
    },
    {
      "cell_type": "code",
      "source": [
        "import requests"
      ],
      "metadata": {
        "id": "WJQYTXtMSg5K"
      },
      "execution_count": 2,
      "outputs": []
    },
    {
      "cell_type": "code",
      "source": [
        "flipkart = requests.get(\"https://www.flipkart.com/search?q=realme+mobile\")"
      ],
      "metadata": {
        "id": "K8O4vapFSqvv"
      },
      "execution_count": 43,
      "outputs": []
    },
    {
      "cell_type": "code",
      "source": [
        "print(flipkart.content)"
      ],
      "metadata": {
        "id": "N8btC5azTVZL"
      },
      "execution_count": null,
      "outputs": []
    },
    {
      "cell_type": "code",
      "source": [
        "type(flipkart.content)"
      ],
      "metadata": {
        "id": "y_dNbihoTY1w"
      },
      "execution_count": null,
      "outputs": []
    },
    {
      "cell_type": "code",
      "source": [
        "flipkart.text"
      ],
      "metadata": {
        "id": "sW3kEvTgT4Pi"
      },
      "execution_count": null,
      "outputs": []
    },
    {
      "cell_type": "code",
      "source": [
        "type(flipkart.content)"
      ],
      "metadata": {
        "colab": {
          "base_uri": "https://localhost:8080/"
        },
        "id": "vMvffZA1T-Rl",
        "outputId": "4c94e68b-f520-448e-b90f-ca8bfa5201ba"
      },
      "execution_count": 47,
      "outputs": [
        {
          "output_type": "execute_result",
          "data": {
            "text/plain": [
              "bytes"
            ]
          },
          "metadata": {},
          "execution_count": 47
        }
      ]
    },
    {
      "cell_type": "code",
      "source": [
        "soup = BeautifulSoup(flipkart.text, \"html.parser\")"
      ],
      "metadata": {
        "id": "6JQTYyeJUCdn"
      },
      "execution_count": 48,
      "outputs": []
    },
    {
      "cell_type": "code",
      "source": [
        "print(soup.prettify)"
      ],
      "metadata": {
        "id": "QXLsAzJUU4Dc"
      },
      "execution_count": null,
      "outputs": []
    },
    {
      "cell_type": "code",
      "source": [
        "soup.title"
      ],
      "metadata": {
        "id": "jiPO_WUYU41-"
      },
      "execution_count": null,
      "outputs": []
    },
    {
      "cell_type": "code",
      "source": [
        "soup.title.text\n"
      ],
      "metadata": {
        "id": "WzVywth3Wwlk"
      },
      "execution_count": null,
      "outputs": []
    },
    {
      "cell_type": "code",
      "source": [
        "soup.p"
      ],
      "metadata": {
        "id": "kK0w45A_W8Bl"
      },
      "execution_count": null,
      "outputs": []
    },
    {
      "cell_type": "code",
      "source": [
        "soup.div.text"
      ],
      "metadata": {
        "id": "S_fApnV_W_Pe"
      },
      "execution_count": null,
      "outputs": []
    },
    {
      "cell_type": "code",
      "source": [
        "mobile = soup.find(\"div\", class_=\"_1AtVbE\")"
      ],
      "metadata": {
        "id": "Ap8B6it3XDps"
      },
      "execution_count": 33,
      "outputs": []
    },
    {
      "cell_type": "code",
      "source": [
        "mobile"
      ],
      "metadata": {
        "id": "b0TOCz3cXcr3"
      },
      "execution_count": null,
      "outputs": []
    },
    {
      "cell_type": "code",
      "source": [
        "mobiles = soup.find_all(\"div\", attrs = {\"class\": \"_13oc-S\"})"
      ],
      "metadata": {
        "id": "3iCte_HPXgFP"
      },
      "execution_count": 29,
      "outputs": []
    },
    {
      "cell_type": "code",
      "source": [
        "len(mobiles)"
      ],
      "metadata": {
        "id": "_P4eje3NXjSD"
      },
      "execution_count": null,
      "outputs": []
    },
    {
      "cell_type": "code",
      "source": [
        "mobile = mobiles[0]\n",
        "name = mobile.find(\"div\", attrs = {\"class\": \"_4rR01T\"})"
      ],
      "metadata": {
        "id": "fism0N1vXpN5"
      },
      "execution_count": 54,
      "outputs": []
    },
    {
      "cell_type": "code",
      "source": [
        "name.text"
      ],
      "metadata": {
        "id": "wxF_pdOBZLQv"
      },
      "execution_count": null,
      "outputs": []
    },
    {
      "cell_type": "code",
      "source": [
        "price = mobile.find(\"div\", class_= \"_30jeq3 _1_WHN1\")"
      ],
      "metadata": {
        "id": "jM4BHFjCZLxO"
      },
      "execution_count": 58,
      "outputs": []
    },
    {
      "cell_type": "code",
      "source": [
        "price.text"
      ],
      "metadata": {
        "id": "l2_qpyDRafER"
      },
      "execution_count": null,
      "outputs": []
    },
    {
      "cell_type": "code",
      "source": [
        "propeties = mobile.find_all(\"li\")"
      ],
      "metadata": {
        "id": "i2I4qSD4aiVA"
      },
      "execution_count": 92,
      "outputs": []
    },
    {
      "cell_type": "code",
      "source": [
        "propeties"
      ],
      "metadata": {
        "colab": {
          "base_uri": "https://localhost:8080/"
        },
        "id": "ZvJbuJkcawE7",
        "outputId": "f940cb11-65c4-40ae-dd1c-27bf07c79101"
      },
      "execution_count": 95,
      "outputs": [
        {
          "output_type": "execute_result",
          "data": {
            "text/plain": [
              "[<li class=\"rgWa7D\">4 GB RAM | 64 GB ROM | Expandable Upto 256 GB</li>,\n",
              " <li class=\"rgWa7D\">16.51 cm (6.5 inch) HD+ Display</li>,\n",
              " <li class=\"rgWa7D\">50MP + 2MP + 2MP | 8MP Front Camera</li>,\n",
              " <li class=\"rgWa7D\">6000 mAh Battery</li>,\n",
              " <li class=\"rgWa7D\">MediaTek Helio G85 Processor</li>,\n",
              " <li class=\"rgWa7D\">1 Year Warranty for Mobile and 6 Months for Accessories</li>]"
            ]
          },
          "metadata": {},
          "execution_count": 95
        }
      ]
    },
    {
      "cell_type": "code",
      "source": [
        "len(propeties)"
      ],
      "metadata": {
        "colab": {
          "base_uri": "https://localhost:8080/"
        },
        "id": "cHoR7cGTiBrl",
        "outputId": "00e3ff2f-6156-4ede-eeb4-cc149ce6eed9"
      },
      "execution_count": 96,
      "outputs": [
        {
          "output_type": "execute_result",
          "data": {
            "text/plain": [
              "6"
            ]
          },
          "metadata": {},
          "execution_count": 96
        }
      ]
    },
    {
      "cell_type": "code",
      "source": [
        "ram = propeties[0]\n",
        "ram"
      ],
      "metadata": {
        "colab": {
          "base_uri": "https://localhost:8080/"
        },
        "id": "vEDWsKHaiBk8",
        "outputId": "690f96c8-1afb-418a-ad43-d340830154c8"
      },
      "execution_count": 99,
      "outputs": [
        {
          "output_type": "execute_result",
          "data": {
            "text/plain": [
              "<li class=\"rgWa7D\">4 GB RAM | 64 GB ROM | Expandable Upto 256 GB</li>"
            ]
          },
          "metadata": {},
          "execution_count": 99
        }
      ]
    },
    {
      "cell_type": "code",
      "source": [
        "ram.text"
      ],
      "metadata": {
        "colab": {
          "base_uri": "https://localhost:8080/",
          "height": 35
        },
        "id": "66Rcb982iBef",
        "outputId": "9abefad5-1b1c-4918-9755-a517491652c1"
      },
      "execution_count": 100,
      "outputs": [
        {
          "output_type": "execute_result",
          "data": {
            "application/vnd.google.colaboratory.intrinsic+json": {
              "type": "string"
            },
            "text/plain": [
              "'4 GB RAM | 64 GB ROM | Expandable Upto 256 GB'"
            ]
          },
          "metadata": {},
          "execution_count": 100
        }
      ]
    },
    {
      "cell_type": "code",
      "source": [
        "ram.text.split(\" \")"
      ],
      "metadata": {
        "colab": {
          "base_uri": "https://localhost:8080/"
        },
        "id": "UIBRWZKaiBaD",
        "outputId": "7e9a46c4-1ac0-4b02-8610-d7069bb6f405"
      },
      "execution_count": 102,
      "outputs": [
        {
          "output_type": "execute_result",
          "data": {
            "text/plain": [
              "['4',\n",
              " 'GB',\n",
              " 'RAM',\n",
              " '|',\n",
              " '64',\n",
              " 'GB',\n",
              " 'ROM',\n",
              " '|',\n",
              " 'Expandable',\n",
              " 'Upto',\n",
              " '256',\n",
              " 'GB']"
            ]
          },
          "metadata": {},
          "execution_count": 102
        }
      ]
    },
    {
      "cell_type": "code",
      "source": [
        "ram.text.split(\" | \")"
      ],
      "metadata": {
        "colab": {
          "base_uri": "https://localhost:8080/"
        },
        "id": "fi5E8YYqiBUV",
        "outputId": "2132c94f-5bb5-4068-f04f-81cdfda6cffa"
      },
      "execution_count": 103,
      "outputs": [
        {
          "output_type": "execute_result",
          "data": {
            "text/plain": [
              "['4 GB RAM', '64 GB ROM', 'Expandable Upto 256 GB']"
            ]
          },
          "metadata": {},
          "execution_count": 103
        }
      ]
    },
    {
      "cell_type": "code",
      "source": [
        "ram.text.split(\" | \")[0]"
      ],
      "metadata": {
        "colab": {
          "base_uri": "https://localhost:8080/",
          "height": 35
        },
        "id": "en0i3fMUiBQI",
        "outputId": "c09f8743-02a6-4c57-ed2c-02a04c43193c"
      },
      "execution_count": 104,
      "outputs": [
        {
          "output_type": "execute_result",
          "data": {
            "application/vnd.google.colaboratory.intrinsic+json": {
              "type": "string"
            },
            "text/plain": [
              "'4 GB RAM'"
            ]
          },
          "metadata": {},
          "execution_count": 104
        }
      ]
    },
    {
      "cell_type": "code",
      "source": [
        ""
      ],
      "metadata": {
        "id": "W3-RZpuCiBMO"
      },
      "execution_count": null,
      "outputs": []
    },
    {
      "cell_type": "code",
      "source": [
        "names = []\n",
        "prices = []\n",
        "rams = []\n",
        "\n",
        "for mobile in mobiles:\n",
        "  name = mobile.find(\"div\", attrs = {\"class\": \"_4rR01T\"}).text\n",
        "  price = mobile.find(\"div\", class_= \"_30jeq3 _1_WHN1\").text\n",
        "  ram = mobile.find_all(\"li\")[0].text.split(\" | \")[0]\n",
        "  names.append(name)\n",
        "  prices.append(price)\n",
        "  rams.append(ram)\n"
      ],
      "metadata": {
        "id": "zH88uOM5g9p1"
      },
      "execution_count": 108,
      "outputs": []
    },
    {
      "cell_type": "code",
      "source": [
        "names"
      ],
      "metadata": {
        "colab": {
          "base_uri": "https://localhost:8080/"
        },
        "id": "lIvzDCshhrlD",
        "outputId": "94cc0a1f-4596-4d5c-9661-8facb26627bb"
      },
      "execution_count": 109,
      "outputs": [
        {
          "output_type": "execute_result",
          "data": {
            "text/plain": [
              "['realme Narzo 50A (Oxygen Blue, 64 GB)',\n",
              " 'realme Narzo 50A (Oxygen Green, 64 GB)',\n",
              " 'realme Narzo 50A (Oxygen Green, 128 GB)',\n",
              " 'realme Narzo 50A (Oxygen Blue, 128 GB)',\n",
              " 'realme 8i (Space Purple, 64 GB)',\n",
              " 'realme 8i (Space Black, 64 GB)',\n",
              " 'realme 8i (Space Black, 128 GB)',\n",
              " 'realme 8i (Space Purple, 128 GB)',\n",
              " 'realme C21Y (Cross Blue, 64 GB)',\n",
              " 'realme C21Y (Cross Blue, 32 GB)',\n",
              " 'realme C21Y (Cross Black, 32 GB)',\n",
              " 'realme C21Y (Cross Black, 64 GB)',\n",
              " 'realme C11 2021 (Cool Grey, 32 GB)',\n",
              " 'realme C11 2021 (Cool Blue, 64 GB)',\n",
              " 'realme C11 2021 (Cool Blue, 32 GB)',\n",
              " 'realme 9i (Prism Black, 128 GB)',\n",
              " 'realme 9i (Prism Blue, 128 GB)',\n",
              " 'realme 9i (Prism Blue, 64 GB)',\n",
              " 'realme 9i (Prism Black, 64 GB)',\n",
              " 'realme C11 2021 (Cool Grey, 64 GB)',\n",
              " 'realme 8 (Cyber Black, 128 GB)',\n",
              " 'realme 8 (Cyber Silver, 128 GB)',\n",
              " 'realme 8 (Cyber Silver, 128 GB)',\n",
              " 'realme 8 (Cyber Black, 128 GB)']"
            ]
          },
          "metadata": {},
          "execution_count": 109
        }
      ]
    },
    {
      "cell_type": "code",
      "source": [
        "dist = {\"Model\": names, \"Price\": price, \"RAM\": ram}"
      ],
      "metadata": {
        "id": "0uedUMl6hzFw"
      },
      "execution_count": 110,
      "outputs": []
    },
    {
      "cell_type": "code",
      "source": [
        "import pandas as pd\n",
        "df = pd.DataFrame(dist)"
      ],
      "metadata": {
        "id": "kCiatfVth0cR"
      },
      "execution_count": 113,
      "outputs": []
    },
    {
      "cell_type": "code",
      "source": [
        "df"
      ],
      "metadata": {
        "id": "ufRp8jWNh1TI"
      },
      "execution_count": null,
      "outputs": []
    },
    {
      "cell_type": "code",
      "source": [
        ""
      ],
      "metadata": {
        "id": "-rKsaHVujd70"
      },
      "execution_count": null,
      "outputs": []
    }
  ]
}