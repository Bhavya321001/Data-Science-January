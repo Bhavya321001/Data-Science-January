{
  "nbformat": 4,
  "nbformat_minor": 0,
  "metadata": {
    "colab": {
      "name": "Web Scraping - 3rd Feb.ipynb",
      "provenance": [],
      "authorship_tag": "ABX9TyOhZD5E8dufFhf/asC0Xpuv",
      "include_colab_link": true
    },
    "kernelspec": {
      "name": "python3",
      "display_name": "Python 3"
    },
    "language_info": {
      "name": "python"
    }
  },
  "cells": [
    {
      "cell_type": "markdown",
      "metadata": {
        "id": "view-in-github",
        "colab_type": "text"
      },
      "source": [
        "<a href=\"https://colab.research.google.com/github/Pepcoders/Data-Science-January/blob/main/Web%20Scarping/Web_Scraping_3rd_Feb.ipynb\" target=\"_parent\"><img src=\"https://colab.research.google.com/assets/colab-badge.svg\" alt=\"Open In Colab\"/></a>"
      ]
    },
    {
      "cell_type": "markdown",
      "source": [
        "### BeautifulSoup"
      ],
      "metadata": {
        "id": "FU1l2b7C4XTW"
      }
    },
    {
      "cell_type": "code",
      "execution_count": 1,
      "metadata": {
        "id": "RuA56ce0M2G6"
      },
      "outputs": [],
      "source": [
        "from bs4 import BeautifulSoup"
      ]
    },
    {
      "cell_type": "code",
      "source": [
        "import requests"
      ],
      "metadata": {
        "id": "WJQYTXtMSg5K"
      },
      "execution_count": 2,
      "outputs": []
    },
    {
      "cell_type": "code",
      "source": [
        "flipkart = requests.get(\"https://www.flipkart.com/search?q=realme+mobile\")"
      ],
      "metadata": {
        "id": "K8O4vapFSqvv"
      },
      "execution_count": 43,
      "outputs": []
    },
    {
      "cell_type": "code",
      "source": [
        "print(flipkart.content)"
      ],
      "metadata": {
        "id": "N8btC5azTVZL"
      },
      "execution_count": null,
      "outputs": []
    },
    {
      "cell_type": "code",
      "source": [
        "type(flipkart.content)"
      ],
      "metadata": {
        "id": "y_dNbihoTY1w"
      },
      "execution_count": null,
      "outputs": []
    },
    {
      "cell_type": "code",
      "source": [
        "flipkart.text"
      ],
      "metadata": {
        "id": "sW3kEvTgT4Pi"
      },
      "execution_count": null,
      "outputs": []
    },
    {
      "cell_type": "code",
      "source": [
        "type(flipkart.content)"
      ],
      "metadata": {
        "colab": {
          "base_uri": "https://localhost:8080/"
        },
        "id": "vMvffZA1T-Rl",
        "outputId": "4c94e68b-f520-448e-b90f-ca8bfa5201ba"
      },
      "execution_count": 47,
      "outputs": [
        {
          "output_type": "execute_result",
          "data": {
            "text/plain": [
              "bytes"
            ]
          },
          "metadata": {},
          "execution_count": 47
        }
      ]
    },
    {
      "cell_type": "code",
      "source": [
        "soup = BeautifulSoup(flipkart.text, \"html.parser\")"
      ],
      "metadata": {
        "id": "6JQTYyeJUCdn"
      },
      "execution_count": 48,
      "outputs": []
    },
    {
      "cell_type": "code",
      "source": [
        "print(soup.prettify)"
      ],
      "metadata": {
        "id": "QXLsAzJUU4Dc"
      },
      "execution_count": null,
      "outputs": []
    },
    {
      "cell_type": "code",
      "source": [
        "soup.title"
      ],
      "metadata": {
        "id": "jiPO_WUYU41-"
      },
      "execution_count": null,
      "outputs": []
    },
    {
      "cell_type": "code",
      "source": [
        "soup.title.text\n"
      ],
      "metadata": {
        "id": "WzVywth3Wwlk"
      },
      "execution_count": null,
      "outputs": []
    },
    {
      "cell_type": "code",
      "source": [
        "soup.p"
      ],
      "metadata": {
        "id": "kK0w45A_W8Bl"
      },
      "execution_count": null,
      "outputs": []
    },
    {
      "cell_type": "code",
      "source": [
        "soup.div.text"
      ],
      "metadata": {
        "id": "S_fApnV_W_Pe"
      },
      "execution_count": null,
      "outputs": []
    },
    {
      "cell_type": "code",
      "source": [
        "mobile = soup.find(\"div\", class_=\"_1AtVbE\")"
      ],
      "metadata": {
        "id": "Ap8B6it3XDps"
      },
      "execution_count": 33,
      "outputs": []
    },
    {
      "cell_type": "code",
      "source": [
        "mobile"
      ],
      "metadata": {
        "id": "b0TOCz3cXcr3"
      },
      "execution_count": null,
      "outputs": []
    },
    {
      "cell_type": "code",
      "source": [
        "mobiles = soup.find_all(\"div\", attrs = {\"class\": \"_13oc-S\"})"
      ],
      "metadata": {
        "id": "3iCte_HPXgFP"
      },
      "execution_count": 29,
      "outputs": []
    },
    {
      "cell_type": "code",
      "source": [
        "len(mobiles)"
      ],
      "metadata": {
        "id": "_P4eje3NXjSD"
      },
      "execution_count": null,
      "outputs": []
    },
    {
      "cell_type": "code",
      "source": [
        "mobile = mobiles[0]\n",
        "name = mobile.find(\"div\", attrs = {\"class\": \"_4rR01T\"})"
      ],
      "metadata": {
        "id": "fism0N1vXpN5"
      },
      "execution_count": 54,
      "outputs": []
    },
    {
      "cell_type": "code",
      "source": [
        "name.text"
      ],
      "metadata": {
        "id": "wxF_pdOBZLQv"
      },
      "execution_count": null,
      "outputs": []
    },
    {
      "cell_type": "code",
      "source": [
        "price = mobile.find(\"div\", class_= \"_30jeq3 _1_WHN1\")"
      ],
      "metadata": {
        "id": "jM4BHFjCZLxO"
      },
      "execution_count": 58,
      "outputs": []
    },
    {
      "cell_type": "code",
      "source": [
        "price.text"
      ],
      "metadata": {
        "id": "l2_qpyDRafER"
      },
      "execution_count": null,
      "outputs": []
    },
    {
      "cell_type": "code",
      "source": [
        "propeties = mobile.find_all(\"li\")"
      ],
      "metadata": {
        "id": "i2I4qSD4aiVA"
      },
      "execution_count": 92,
      "outputs": []
    },
    {
      "cell_type": "code",
      "source": [
        "propeties"
      ],
      "metadata": {
        "colab": {
          "base_uri": "https://localhost:8080/"
        },
        "id": "ZvJbuJkcawE7",
        "outputId": "f940cb11-65c4-40ae-dd1c-27bf07c79101"
      },
      "execution_count": 95,
      "outputs": [
        {
          "output_type": "execute_result",
          "data": {
            "text/plain": [
              "[<li class=\"rgWa7D\">4 GB RAM | 64 GB ROM | Expandable Upto 256 GB</li>,\n",
              " <li class=\"rgWa7D\">16.51 cm (6.5 inch) HD+ Display</li>,\n",
              " <li class=\"rgWa7D\">50MP + 2MP + 2MP | 8MP Front Camera</li>,\n",
              " <li class=\"rgWa7D\">6000 mAh Battery</li>,\n",
              " <li class=\"rgWa7D\">MediaTek Helio G85 Processor</li>,\n",
              " <li class=\"rgWa7D\">1 Year Warranty for Mobile and 6 Months for Accessories</li>]"
            ]
          },
          "metadata": {},
          "execution_count": 95
        }
      ]
    },
    {
      "cell_type": "code",
      "source": [
        "len(propeties)"
      ],
      "metadata": {
        "colab": {
          "base_uri": "https://localhost:8080/"
        },
        "id": "cHoR7cGTiBrl",
        "outputId": "00e3ff2f-6156-4ede-eeb4-cc149ce6eed9"
      },
      "execution_count": 96,
      "outputs": [
        {
          "output_type": "execute_result",
          "data": {
            "text/plain": [
              "6"
            ]
          },
          "metadata": {},
          "execution_count": 96
        }
      ]
    },
    {
      "cell_type": "code",
      "source": [
        "ram = propeties[0]\n",
        "ram"
      ],
      "metadata": {
        "colab": {
          "base_uri": "https://localhost:8080/"
        },
        "id": "vEDWsKHaiBk8",
        "outputId": "690f96c8-1afb-418a-ad43-d340830154c8"
      },
      "execution_count": 99,
      "outputs": [
        {
          "output_type": "execute_result",
          "data": {
            "text/plain": [
              "<li class=\"rgWa7D\">4 GB RAM | 64 GB ROM | Expandable Upto 256 GB</li>"
            ]
          },
          "metadata": {},
          "execution_count": 99
        }
      ]
    },
    {
      "cell_type": "code",
      "source": [
        "ram.text"
      ],
      "metadata": {
        "colab": {
          "base_uri": "https://localhost:8080/",
          "height": 35
        },
        "id": "66Rcb982iBef",
        "outputId": "9abefad5-1b1c-4918-9755-a517491652c1"
      },
      "execution_count": 100,
      "outputs": [
        {
          "output_type": "execute_result",
          "data": {
            "application/vnd.google.colaboratory.intrinsic+json": {
              "type": "string"
            },
            "text/plain": [
              "'4 GB RAM | 64 GB ROM | Expandable Upto 256 GB'"
            ]
          },
          "metadata": {},
          "execution_count": 100
        }
      ]
    },
    {
      "cell_type": "code",
      "source": [
        "ram.text.split(\" \")"
      ],
      "metadata": {
        "colab": {
          "base_uri": "https://localhost:8080/"
        },
        "id": "UIBRWZKaiBaD",
        "outputId": "7e9a46c4-1ac0-4b02-8610-d7069bb6f405"
      },
      "execution_count": 102,
      "outputs": [
        {
          "output_type": "execute_result",
          "data": {
            "text/plain": [
              "['4',\n",
              " 'GB',\n",
              " 'RAM',\n",
              " '|',\n",
              " '64',\n",
              " 'GB',\n",
              " 'ROM',\n",
              " '|',\n",
              " 'Expandable',\n",
              " 'Upto',\n",
              " '256',\n",
              " 'GB']"
            ]
          },
          "metadata": {},
          "execution_count": 102
        }
      ]
    },
    {
      "cell_type": "code",
      "source": [
        "ram.text.split(\" | \")"
      ],
      "metadata": {
        "colab": {
          "base_uri": "https://localhost:8080/"
        },
        "id": "fi5E8YYqiBUV",
        "outputId": "2132c94f-5bb5-4068-f04f-81cdfda6cffa"
      },
      "execution_count": 103,
      "outputs": [
        {
          "output_type": "execute_result",
          "data": {
            "text/plain": [
              "['4 GB RAM', '64 GB ROM', 'Expandable Upto 256 GB']"
            ]
          },
          "metadata": {},
          "execution_count": 103
        }
      ]
    },
    {
      "cell_type": "code",
      "source": [
        "ram.text.split(\" | \")[0]"
      ],
      "metadata": {
        "colab": {
          "base_uri": "https://localhost:8080/",
          "height": 35
        },
        "id": "en0i3fMUiBQI",
        "outputId": "c09f8743-02a6-4c57-ed2c-02a04c43193c"
      },
      "execution_count": 104,
      "outputs": [
        {
          "output_type": "execute_result",
          "data": {
            "application/vnd.google.colaboratory.intrinsic+json": {
              "type": "string"
            },
            "text/plain": [
              "'4 GB RAM'"
            ]
          },
          "metadata": {},
          "execution_count": 104
        }
      ]
    },
    {
      "cell_type": "code",
      "source": [
        ""
      ],
      "metadata": {
        "id": "W3-RZpuCiBMO"
      },
      "execution_count": null,
      "outputs": []
    },
    {
      "cell_type": "code",
      "source": [
        "names = []\n",
        "prices = []\n",
        "rams = []\n",
        "\n",
        "for mobile in mobiles:\n",
        "  name = mobile.find(\"div\", attrs = {\"class\": \"_4rR01T\"}).text\n",
        "  price = mobile.find(\"div\", class_= \"_30jeq3 _1_WHN1\").text\n",
        "  ram = mobile.find_all(\"li\")[0].text.split(\" | \")[0]\n",
        "\n",
        "  names.append(name)\n",
        "  prices.append(price)\n",
        "  rams.append(ram)\n"
      ],
      "metadata": {
        "id": "zH88uOM5g9p1"
      },
      "execution_count": 108,
      "outputs": []
    },
    {
      "cell_type": "code",
      "source": [
        "names"
      ],
      "metadata": {
        "colab": {
          "base_uri": "https://localhost:8080/"
        },
        "id": "lIvzDCshhrlD",
        "outputId": "94cc0a1f-4596-4d5c-9661-8facb26627bb"
      },
      "execution_count": 109,
      "outputs": [
        {
          "output_type": "execute_result",
          "data": {
            "text/plain": [
              "['realme Narzo 50A (Oxygen Blue, 64 GB)',\n",
              " 'realme Narzo 50A (Oxygen Green, 64 GB)',\n",
              " 'realme Narzo 50A (Oxygen Green, 128 GB)',\n",
              " 'realme Narzo 50A (Oxygen Blue, 128 GB)',\n",
              " 'realme 8i (Space Purple, 64 GB)',\n",
              " 'realme 8i (Space Black, 64 GB)',\n",
              " 'realme 8i (Space Black, 128 GB)',\n",
              " 'realme 8i (Space Purple, 128 GB)',\n",
              " 'realme C21Y (Cross Blue, 64 GB)',\n",
              " 'realme C21Y (Cross Blue, 32 GB)',\n",
              " 'realme C21Y (Cross Black, 32 GB)',\n",
              " 'realme C21Y (Cross Black, 64 GB)',\n",
              " 'realme C11 2021 (Cool Grey, 32 GB)',\n",
              " 'realme C11 2021 (Cool Blue, 64 GB)',\n",
              " 'realme C11 2021 (Cool Blue, 32 GB)',\n",
              " 'realme 9i (Prism Black, 128 GB)',\n",
              " 'realme 9i (Prism Blue, 128 GB)',\n",
              " 'realme 9i (Prism Blue, 64 GB)',\n",
              " 'realme 9i (Prism Black, 64 GB)',\n",
              " 'realme C11 2021 (Cool Grey, 64 GB)',\n",
              " 'realme 8 (Cyber Black, 128 GB)',\n",
              " 'realme 8 (Cyber Silver, 128 GB)',\n",
              " 'realme 8 (Cyber Silver, 128 GB)',\n",
              " 'realme 8 (Cyber Black, 128 GB)']"
            ]
          },
          "metadata": {},
          "execution_count": 109
        }
      ]
    },
    {
      "cell_type": "code",
      "source": [
        "dist = {\"Model\": names, \"Price\": price, \"RAM\": ram}"
      ],
      "metadata": {
        "id": "0uedUMl6hzFw"
      },
      "execution_count": 110,
      "outputs": []
    },
    {
      "cell_type": "code",
      "source": [
        "import pandas as pd\n",
        "df = pd.DataFrame(dist)"
      ],
      "metadata": {
        "id": "kCiatfVth0cR"
      },
      "execution_count": 113,
      "outputs": []
    },
    {
      "cell_type": "code",
      "source": [
        "df"
      ],
      "metadata": {
        "colab": {
          "base_uri": "https://localhost:8080/",
          "height": 802
        },
        "id": "ufRp8jWNh1TI",
        "outputId": "ccc0f417-11d8-4e16-aae8-ed81471643e0"
      },
      "execution_count": 141,
      "outputs": [
        {
          "output_type": "execute_result",
          "data": {
            "text/html": [
              "\n",
              "  <div id=\"df-ce41e901-16fa-4223-acf3-2150d7b4c1d1\">\n",
              "    <div class=\"colab-df-container\">\n",
              "      <div>\n",
              "<style scoped>\n",
              "    .dataframe tbody tr th:only-of-type {\n",
              "        vertical-align: middle;\n",
              "    }\n",
              "\n",
              "    .dataframe tbody tr th {\n",
              "        vertical-align: top;\n",
              "    }\n",
              "\n",
              "    .dataframe thead th {\n",
              "        text-align: right;\n",
              "    }\n",
              "</style>\n",
              "<table border=\"1\" class=\"dataframe\">\n",
              "  <thead>\n",
              "    <tr style=\"text-align: right;\">\n",
              "      <th></th>\n",
              "      <th>Model</th>\n",
              "      <th>Price</th>\n",
              "      <th>RAM</th>\n",
              "    </tr>\n",
              "  </thead>\n",
              "  <tbody>\n",
              "    <tr>\n",
              "      <th>0</th>\n",
              "      <td>realme Narzo 50A (Oxygen Blue, 64 GB)</td>\n",
              "      <td>₹17,999</td>\n",
              "      <td>8 GB RAM</td>\n",
              "    </tr>\n",
              "    <tr>\n",
              "      <th>1</th>\n",
              "      <td>realme Narzo 50A (Oxygen Green, 64 GB)</td>\n",
              "      <td>₹17,999</td>\n",
              "      <td>8 GB RAM</td>\n",
              "    </tr>\n",
              "    <tr>\n",
              "      <th>2</th>\n",
              "      <td>realme Narzo 50A (Oxygen Green, 128 GB)</td>\n",
              "      <td>₹17,999</td>\n",
              "      <td>8 GB RAM</td>\n",
              "    </tr>\n",
              "    <tr>\n",
              "      <th>3</th>\n",
              "      <td>realme Narzo 50A (Oxygen Blue, 128 GB)</td>\n",
              "      <td>₹17,999</td>\n",
              "      <td>8 GB RAM</td>\n",
              "    </tr>\n",
              "    <tr>\n",
              "      <th>4</th>\n",
              "      <td>realme 8i (Space Purple, 64 GB)</td>\n",
              "      <td>₹17,999</td>\n",
              "      <td>8 GB RAM</td>\n",
              "    </tr>\n",
              "    <tr>\n",
              "      <th>5</th>\n",
              "      <td>realme 8i (Space Black, 64 GB)</td>\n",
              "      <td>₹17,999</td>\n",
              "      <td>8 GB RAM</td>\n",
              "    </tr>\n",
              "    <tr>\n",
              "      <th>6</th>\n",
              "      <td>realme 8i (Space Black, 128 GB)</td>\n",
              "      <td>₹17,999</td>\n",
              "      <td>8 GB RAM</td>\n",
              "    </tr>\n",
              "    <tr>\n",
              "      <th>7</th>\n",
              "      <td>realme 8i (Space Purple, 128 GB)</td>\n",
              "      <td>₹17,999</td>\n",
              "      <td>8 GB RAM</td>\n",
              "    </tr>\n",
              "    <tr>\n",
              "      <th>8</th>\n",
              "      <td>realme C21Y (Cross Blue, 64 GB)</td>\n",
              "      <td>₹17,999</td>\n",
              "      <td>8 GB RAM</td>\n",
              "    </tr>\n",
              "    <tr>\n",
              "      <th>9</th>\n",
              "      <td>realme C21Y (Cross Blue, 32 GB)</td>\n",
              "      <td>₹17,999</td>\n",
              "      <td>8 GB RAM</td>\n",
              "    </tr>\n",
              "    <tr>\n",
              "      <th>10</th>\n",
              "      <td>realme C21Y (Cross Black, 32 GB)</td>\n",
              "      <td>₹17,999</td>\n",
              "      <td>8 GB RAM</td>\n",
              "    </tr>\n",
              "    <tr>\n",
              "      <th>11</th>\n",
              "      <td>realme C21Y (Cross Black, 64 GB)</td>\n",
              "      <td>₹17,999</td>\n",
              "      <td>8 GB RAM</td>\n",
              "    </tr>\n",
              "    <tr>\n",
              "      <th>12</th>\n",
              "      <td>realme C11 2021 (Cool Grey, 32 GB)</td>\n",
              "      <td>₹17,999</td>\n",
              "      <td>8 GB RAM</td>\n",
              "    </tr>\n",
              "    <tr>\n",
              "      <th>13</th>\n",
              "      <td>realme C11 2021 (Cool Blue, 64 GB)</td>\n",
              "      <td>₹17,999</td>\n",
              "      <td>8 GB RAM</td>\n",
              "    </tr>\n",
              "    <tr>\n",
              "      <th>14</th>\n",
              "      <td>realme C11 2021 (Cool Blue, 32 GB)</td>\n",
              "      <td>₹17,999</td>\n",
              "      <td>8 GB RAM</td>\n",
              "    </tr>\n",
              "    <tr>\n",
              "      <th>15</th>\n",
              "      <td>realme 9i (Prism Black, 128 GB)</td>\n",
              "      <td>₹17,999</td>\n",
              "      <td>8 GB RAM</td>\n",
              "    </tr>\n",
              "    <tr>\n",
              "      <th>16</th>\n",
              "      <td>realme 9i (Prism Blue, 128 GB)</td>\n",
              "      <td>₹17,999</td>\n",
              "      <td>8 GB RAM</td>\n",
              "    </tr>\n",
              "    <tr>\n",
              "      <th>17</th>\n",
              "      <td>realme 9i (Prism Blue, 64 GB)</td>\n",
              "      <td>₹17,999</td>\n",
              "      <td>8 GB RAM</td>\n",
              "    </tr>\n",
              "    <tr>\n",
              "      <th>18</th>\n",
              "      <td>realme 9i (Prism Black, 64 GB)</td>\n",
              "      <td>₹17,999</td>\n",
              "      <td>8 GB RAM</td>\n",
              "    </tr>\n",
              "    <tr>\n",
              "      <th>19</th>\n",
              "      <td>realme C11 2021 (Cool Grey, 64 GB)</td>\n",
              "      <td>₹17,999</td>\n",
              "      <td>8 GB RAM</td>\n",
              "    </tr>\n",
              "    <tr>\n",
              "      <th>20</th>\n",
              "      <td>realme 8 (Cyber Black, 128 GB)</td>\n",
              "      <td>₹17,999</td>\n",
              "      <td>8 GB RAM</td>\n",
              "    </tr>\n",
              "    <tr>\n",
              "      <th>21</th>\n",
              "      <td>realme 8 (Cyber Silver, 128 GB)</td>\n",
              "      <td>₹17,999</td>\n",
              "      <td>8 GB RAM</td>\n",
              "    </tr>\n",
              "    <tr>\n",
              "      <th>22</th>\n",
              "      <td>realme 8 (Cyber Silver, 128 GB)</td>\n",
              "      <td>₹17,999</td>\n",
              "      <td>8 GB RAM</td>\n",
              "    </tr>\n",
              "    <tr>\n",
              "      <th>23</th>\n",
              "      <td>realme 8 (Cyber Black, 128 GB)</td>\n",
              "      <td>₹17,999</td>\n",
              "      <td>8 GB RAM</td>\n",
              "    </tr>\n",
              "  </tbody>\n",
              "</table>\n",
              "</div>\n",
              "      <button class=\"colab-df-convert\" onclick=\"convertToInteractive('df-ce41e901-16fa-4223-acf3-2150d7b4c1d1')\"\n",
              "              title=\"Convert this dataframe to an interactive table.\"\n",
              "              style=\"display:none;\">\n",
              "        \n",
              "  <svg xmlns=\"http://www.w3.org/2000/svg\" height=\"24px\"viewBox=\"0 0 24 24\"\n",
              "       width=\"24px\">\n",
              "    <path d=\"M0 0h24v24H0V0z\" fill=\"none\"/>\n",
              "    <path d=\"M18.56 5.44l.94 2.06.94-2.06 2.06-.94-2.06-.94-.94-2.06-.94 2.06-2.06.94zm-11 1L8.5 8.5l.94-2.06 2.06-.94-2.06-.94L8.5 2.5l-.94 2.06-2.06.94zm10 10l.94 2.06.94-2.06 2.06-.94-2.06-.94-.94-2.06-.94 2.06-2.06.94z\"/><path d=\"M17.41 7.96l-1.37-1.37c-.4-.4-.92-.59-1.43-.59-.52 0-1.04.2-1.43.59L10.3 9.45l-7.72 7.72c-.78.78-.78 2.05 0 2.83L4 21.41c.39.39.9.59 1.41.59.51 0 1.02-.2 1.41-.59l7.78-7.78 2.81-2.81c.8-.78.8-2.07 0-2.86zM5.41 20L4 18.59l7.72-7.72 1.47 1.35L5.41 20z\"/>\n",
              "  </svg>\n",
              "      </button>\n",
              "      \n",
              "  <style>\n",
              "    .colab-df-container {\n",
              "      display:flex;\n",
              "      flex-wrap:wrap;\n",
              "      gap: 12px;\n",
              "    }\n",
              "\n",
              "    .colab-df-convert {\n",
              "      background-color: #E8F0FE;\n",
              "      border: none;\n",
              "      border-radius: 50%;\n",
              "      cursor: pointer;\n",
              "      display: none;\n",
              "      fill: #1967D2;\n",
              "      height: 32px;\n",
              "      padding: 0 0 0 0;\n",
              "      width: 32px;\n",
              "    }\n",
              "\n",
              "    .colab-df-convert:hover {\n",
              "      background-color: #E2EBFA;\n",
              "      box-shadow: 0px 1px 2px rgba(60, 64, 67, 0.3), 0px 1px 3px 1px rgba(60, 64, 67, 0.15);\n",
              "      fill: #174EA6;\n",
              "    }\n",
              "\n",
              "    [theme=dark] .colab-df-convert {\n",
              "      background-color: #3B4455;\n",
              "      fill: #D2E3FC;\n",
              "    }\n",
              "\n",
              "    [theme=dark] .colab-df-convert:hover {\n",
              "      background-color: #434B5C;\n",
              "      box-shadow: 0px 1px 3px 1px rgba(0, 0, 0, 0.15);\n",
              "      filter: drop-shadow(0px 1px 2px rgba(0, 0, 0, 0.3));\n",
              "      fill: #FFFFFF;\n",
              "    }\n",
              "  </style>\n",
              "\n",
              "      <script>\n",
              "        const buttonEl =\n",
              "          document.querySelector('#df-ce41e901-16fa-4223-acf3-2150d7b4c1d1 button.colab-df-convert');\n",
              "        buttonEl.style.display =\n",
              "          google.colab.kernel.accessAllowed ? 'block' : 'none';\n",
              "\n",
              "        async function convertToInteractive(key) {\n",
              "          const element = document.querySelector('#df-ce41e901-16fa-4223-acf3-2150d7b4c1d1');\n",
              "          const dataTable =\n",
              "            await google.colab.kernel.invokeFunction('convertToInteractive',\n",
              "                                                     [key], {});\n",
              "          if (!dataTable) return;\n",
              "\n",
              "          const docLinkHtml = 'Like what you see? Visit the ' +\n",
              "            '<a target=\"_blank\" href=https://colab.research.google.com/notebooks/data_table.ipynb>data table notebook</a>'\n",
              "            + ' to learn more about interactive tables.';\n",
              "          element.innerHTML = '';\n",
              "          dataTable['output_type'] = 'display_data';\n",
              "          await google.colab.output.renderOutput(dataTable, element);\n",
              "          const docLink = document.createElement('div');\n",
              "          docLink.innerHTML = docLinkHtml;\n",
              "          element.appendChild(docLink);\n",
              "        }\n",
              "      </script>\n",
              "    </div>\n",
              "  </div>\n",
              "  "
            ],
            "text/plain": [
              "                                      Model    Price       RAM\n",
              "0     realme Narzo 50A (Oxygen Blue, 64 GB)  ₹17,999  8 GB RAM\n",
              "1    realme Narzo 50A (Oxygen Green, 64 GB)  ₹17,999  8 GB RAM\n",
              "2   realme Narzo 50A (Oxygen Green, 128 GB)  ₹17,999  8 GB RAM\n",
              "3    realme Narzo 50A (Oxygen Blue, 128 GB)  ₹17,999  8 GB RAM\n",
              "4           realme 8i (Space Purple, 64 GB)  ₹17,999  8 GB RAM\n",
              "5            realme 8i (Space Black, 64 GB)  ₹17,999  8 GB RAM\n",
              "6           realme 8i (Space Black, 128 GB)  ₹17,999  8 GB RAM\n",
              "7          realme 8i (Space Purple, 128 GB)  ₹17,999  8 GB RAM\n",
              "8           realme C21Y (Cross Blue, 64 GB)  ₹17,999  8 GB RAM\n",
              "9           realme C21Y (Cross Blue, 32 GB)  ₹17,999  8 GB RAM\n",
              "10         realme C21Y (Cross Black, 32 GB)  ₹17,999  8 GB RAM\n",
              "11         realme C21Y (Cross Black, 64 GB)  ₹17,999  8 GB RAM\n",
              "12       realme C11 2021 (Cool Grey, 32 GB)  ₹17,999  8 GB RAM\n",
              "13       realme C11 2021 (Cool Blue, 64 GB)  ₹17,999  8 GB RAM\n",
              "14       realme C11 2021 (Cool Blue, 32 GB)  ₹17,999  8 GB RAM\n",
              "15          realme 9i (Prism Black, 128 GB)  ₹17,999  8 GB RAM\n",
              "16           realme 9i (Prism Blue, 128 GB)  ₹17,999  8 GB RAM\n",
              "17            realme 9i (Prism Blue, 64 GB)  ₹17,999  8 GB RAM\n",
              "18           realme 9i (Prism Black, 64 GB)  ₹17,999  8 GB RAM\n",
              "19       realme C11 2021 (Cool Grey, 64 GB)  ₹17,999  8 GB RAM\n",
              "20           realme 8 (Cyber Black, 128 GB)  ₹17,999  8 GB RAM\n",
              "21          realme 8 (Cyber Silver, 128 GB)  ₹17,999  8 GB RAM\n",
              "22          realme 8 (Cyber Silver, 128 GB)  ₹17,999  8 GB RAM\n",
              "23           realme 8 (Cyber Black, 128 GB)  ₹17,999  8 GB RAM"
            ]
          },
          "metadata": {},
          "execution_count": 141
        }
      ]
    },
    {
      "cell_type": "markdown",
      "source": [
        "**Extract Url**"
      ],
      "metadata": {
        "id": "67DCsD7y4xG8"
      }
    },
    {
      "cell_type": "code",
      "source": [
        "mobile.a"
      ],
      "metadata": {
        "colab": {
          "base_uri": "https://localhost:8080/"
        },
        "id": "gjYdrtYClnIn",
        "outputId": "e1f9adae-59ab-4521-b619-25530ee9cb8b"
      },
      "execution_count": 142,
      "outputs": [
        {
          "output_type": "execute_result",
          "data": {
            "text/plain": [
              "<a class=\"_1fQZEK\" href=\"/realme-8-cyber-black-128-gb/p/itm63bda3bf5b1db?pid=MOBGYV98456KWXBC&amp;lid=LSTMOBGYV98456KWXBCQGNEHZ&amp;marketplace=FLIPKART&amp;q=realme+mobile&amp;store=tyy%2F4io&amp;srno=s_1_24&amp;otracker=search&amp;fm=organic&amp;iid=dede6945-a3b2-4a3f-8744-c25ad28e2c82.MOBGYV98456KWXBC.SEARCH&amp;ppt=None&amp;ppn=None&amp;ssid=k5eefwvgz40000001643903802430&amp;qH=1fa38e164777fe68\" rel=\"noopener noreferrer\" target=\"_blank\"><div class=\"MIXNux\"><div class=\"_2QcLo-\"><div><div class=\"CXW8mj\" style=\"height:200px;width:200px\"><img alt=\"realme 8 (Cyber Black, 128 GB)\" class=\"_396cs4 _3exPp9\" src=\"https://rukminim1.flixcart.com/image/312/312/kmmcrrk0/mobile/4/g/a/8-rmx3085-realme-original-imagfgpfdkyc29zc.jpeg?q=70\"/></div></div></div><div class=\"_3wLduG\"><div class=\"_3PzNI-\"><span class=\"f3A4_V\"><label class=\"_2iDkf8\"><input class=\"_30VH1S\" readonly=\"\" type=\"checkbox\"/><div class=\"_24_Dny\"></div></label></span><label class=\"_6Up2sF\"><span>Add to Compare</span></label></div></div><div class=\"_2hVSre _3nq8ih\"><div class=\"_36FSn5\"><svg class=\"_1l0elc\" height=\"16\" viewbox=\"0 0 20 16\" width=\"16\" xmlns=\"http://www.w3.org/2000/svg\"><path class=\"eX72wL\" d=\"M8.695 16.682C4.06 12.382 1 9.536 1 6.065 1 3.219 3.178 1 5.95 1c1.566 0 3.069.746 4.05 1.915C10.981 1.745 12.484 1 14.05 1 16.822 1 19 3.22 19 6.065c0 3.471-3.06 6.316-7.695 10.617L10 17.897l-1.305-1.215z\" fill=\"#2874F0\" fill-rule=\"evenodd\" opacity=\".9\" stroke=\"#FFF\"></path></svg></div></div></div><div class=\"_3pLy-c row\"><div class=\"col col-7-12\"><div class=\"_4rR01T\">realme 8 (Cyber Black, 128 GB)</div><div class=\"gUuXy-\"><span class=\"_1lRcqv\" id=\"productRating_LSTMOBGYV98456KWXBCQGNEHZ_MOBGYV98456KWXBC_\"><div class=\"_3LWZlK\">4.4<img class=\"_1wB99o\" src=\"data:image/svg+xml;base64,PHN2ZyB4bWxucz0iaHR0cDovL3d3dy53My5vcmcvMjAwMC9zdmciIHdpZHRoPSIxMyIgaGVpZ2h0PSIxMiI+PHBhdGggZmlsbD0iI0ZGRiIgZD0iTTYuNSA5LjQzOWwtMy42NzQgMi4yMy45NC00LjI2LTMuMjEtMi44ODMgNC4yNTQtLjQwNEw2LjUuMTEybDEuNjkgNC4wMSA0LjI1NC40MDQtMy4yMSAyLjg4Mi45NCA0LjI2eiIvPjwvc3ZnPg==\"/></div></span><span class=\"_2_R_DZ\"><span><span>80,423 Ratings </span><span class=\"_13vcmD\">&amp;</span><span> 7,104 Reviews</span></span></span></div><div class=\"fMghEO\"><ul class=\"_1xgFaf\"><li class=\"rgWa7D\">8 GB RAM | 128 GB ROM | Expandable Upto 256 GB</li><li class=\"rgWa7D\">16.26 cm (6.4 inch) Full HD+ Display</li><li class=\"rgWa7D\">64MP + 8MP + 2MP + 2MP | 16MP Front Camera</li><li class=\"rgWa7D\">5000 mAh Battery</li><li class=\"rgWa7D\">MediaTek Helio G95 Processor</li><li class=\"rgWa7D\">Super AMOLED Display</li><li class=\"rgWa7D\">1 Year Warranty for Mobile and 6 Months for Accessories</li></ul></div></div><div class=\"col col-5-12 nlI3QM\"><div class=\"_3tbKJL\"><div class=\"_25b18c\"><div class=\"_30jeq3 _1_WHN1\">₹17,999</div><div class=\"_3I9_wc _27UcVY\">₹<!-- -->18,999</div><div class=\"_3Ay6Sb\"><span>5% off</span></div></div><div class=\"_3tcB5a p8ucoS\"><div><div class=\"_2Tpdn3\" style=\"color:#000000;font-size:12px;font-style:normal;font-weight:400\">Free delivery</div></div></div></div><div class=\"_13J9qT\"><img height=\"21\" src=\"//static-assets-web.flixcart.com/www/linchpin/fk-cp-zion/img/fa_62673a.png\"/></div><div class=\"_2ZdXDB\"><div class=\"_3xFhiH\"><div class=\"_2Tpdn3 _18hQoS\" style=\"color:#000000;font-size:14px;font-style:normal;font-weight:400\">Upto </div><div class=\"_2Tpdn3 _18hQoS\" style=\"color:#000000;font-size:14px;font-style:normal;font-weight:700\">₹15,850</div><div class=\"_2Tpdn3 _18hQoS\" style=\"color:#000000;font-size:14px;font-style:normal;font-weight:400\"> Off on Exchange</div></div></div></div></div></a>"
            ]
          },
          "metadata": {},
          "execution_count": 142
        }
      ]
    },
    {
      "cell_type": "code",
      "source": [
        "mobile.a.text"
      ],
      "metadata": {
        "colab": {
          "base_uri": "https://localhost:8080/",
          "height": 70
        },
        "id": "6A9vTV-plpmC",
        "outputId": "b610cd6b-55cc-42e4-ddcc-d2fa47e9e134"
      },
      "execution_count": 143,
      "outputs": [
        {
          "output_type": "execute_result",
          "data": {
            "application/vnd.google.colaboratory.intrinsic+json": {
              "type": "string"
            },
            "text/plain": [
              "'Add to Comparerealme 8 (Cyber Black, 128 GB)4.480,423 Ratings\\xa0&\\xa07,104 Reviews8 GB RAM | 128 GB ROM | Expandable Upto 256 GB16.26 cm (6.4 inch) Full HD+ Display64MP + 8MP + 2MP + 2MP | 16MP Front Camera5000 mAh BatteryMediaTek Helio G95 ProcessorSuper AMOLED Display1 Year Warranty for Mobile and 6 Months for Accessories₹17,999₹18,9995% offFree deliveryUpto ₹15,850 Off on Exchange'"
            ]
          },
          "metadata": {},
          "execution_count": 143
        }
      ]
    },
    {
      "cell_type": "code",
      "source": [
        "url = mobile.a[\"href\"]"
      ],
      "metadata": {
        "id": "-rKsaHVujd70"
      },
      "execution_count": 136,
      "outputs": []
    },
    {
      "cell_type": "code",
      "source": [
        "url"
      ],
      "metadata": {
        "colab": {
          "base_uri": "https://localhost:8080/",
          "height": 53
        },
        "id": "_eUI1qVbkFeP",
        "outputId": "5e1253ff-1a2b-44a5-fc38-7a57a89150f1"
      },
      "execution_count": 137,
      "outputs": [
        {
          "output_type": "execute_result",
          "data": {
            "application/vnd.google.colaboratory.intrinsic+json": {
              "type": "string"
            },
            "text/plain": [
              "'/realme-8-cyber-black-128-gb/p/itm63bda3bf5b1db?pid=MOBGYV98456KWXBC&lid=LSTMOBGYV98456KWXBCQGNEHZ&marketplace=FLIPKART&q=realme+mobile&store=tyy%2F4io&srno=s_1_24&otracker=search&fm=organic&iid=dede6945-a3b2-4a3f-8744-c25ad28e2c82.MOBGYV98456KWXBC.SEARCH&ppt=None&ppn=None&ssid=k5eefwvgz40000001643903802430&qH=1fa38e164777fe68'"
            ]
          },
          "metadata": {},
          "execution_count": 137
        }
      ]
    },
    {
      "cell_type": "code",
      "source": [
        "url = url.split(\"?\")[0]"
      ],
      "metadata": {
        "id": "forbNN3pkGMF"
      },
      "execution_count": 138,
      "outputs": []
    },
    {
      "cell_type": "code",
      "source": [
        "url = \"https://www.flipkart.com\" + url"
      ],
      "metadata": {
        "id": "wsO5T0Kukg02"
      },
      "execution_count": 139,
      "outputs": []
    },
    {
      "cell_type": "code",
      "source": [
        "url"
      ],
      "metadata": {
        "colab": {
          "base_uri": "https://localhost:8080/",
          "height": 35
        },
        "id": "KxO7o5SekhbX",
        "outputId": "b0c8a702-7973-43df-b2bc-3c1ac4517657"
      },
      "execution_count": 140,
      "outputs": [
        {
          "output_type": "execute_result",
          "data": {
            "application/vnd.google.colaboratory.intrinsic+json": {
              "type": "string"
            },
            "text/plain": [
              "'https://www.flipkart.com/realme-8-cyber-black-128-gb/p/itm63bda3bf5b1db'"
            ]
          },
          "metadata": {},
          "execution_count": 140
        }
      ]
    },
    {
      "cell_type": "markdown",
      "source": [
        "### **Extract GSOC Organizations Data**"
      ],
      "metadata": {
        "id": "assR2b_U422q"
      }
    },
    {
      "cell_type": "code",
      "source": [
        "page = requests.get(\"https://summerofcode.withgoogle.com/archive/2021/organizations\")"
      ],
      "metadata": {
        "id": "kX58w6JMkw4C"
      },
      "execution_count": 154,
      "outputs": []
    },
    {
      "cell_type": "code",
      "source": [
        "page"
      ],
      "metadata": {
        "colab": {
          "base_uri": "https://localhost:8080/"
        },
        "id": "skjJkl5XpLJx",
        "outputId": "55da4fdc-bb1a-4541-bc55-d2682457c7df"
      },
      "execution_count": 155,
      "outputs": [
        {
          "output_type": "execute_result",
          "data": {
            "text/plain": [
              "<Response [200]>"
            ]
          },
          "metadata": {},
          "execution_count": 155
        }
      ]
    },
    {
      "cell_type": "code",
      "source": [
        "soup = BeautifulSoup(page.text, \"html.parser\")"
      ],
      "metadata": {
        "id": "uPt4MsDjpMJ2"
      },
      "execution_count": 156,
      "outputs": []
    },
    {
      "cell_type": "code",
      "source": [
        "soup.title"
      ],
      "metadata": {
        "colab": {
          "base_uri": "https://localhost:8080/"
        },
        "id": "-jMvfPK_pWqo",
        "outputId": "b87c6e44-e91d-4d99-f895-6b66484f3d0f"
      },
      "execution_count": 157,
      "outputs": [
        {
          "output_type": "execute_result",
          "data": {
            "text/plain": [
              "<title>Google Summer of Code</title>"
            ]
          },
          "metadata": {},
          "execution_count": 157
        }
      ]
    },
    {
      "cell_type": "markdown",
      "source": [
        "**Automation**"
      ],
      "metadata": {
        "id": "GLD2oKBU5DiO"
      }
    },
    {
      "cell_type": "code",
      "source": [
        "!pip install selenium"
      ],
      "metadata": {
        "id": "NJZjvlKBpa8J"
      },
      "execution_count": null,
      "outputs": []
    },
    {
      "cell_type": "code",
      "source": [
        "!apt install chromium-chromedriver"
      ],
      "metadata": {
        "id": "N1p1tmj6qcng"
      },
      "execution_count": null,
      "outputs": []
    },
    {
      "cell_type": "code",
      "source": [
        "!cp /usr/lib/chromium-browser/chromedriver /usr/bin"
      ],
      "metadata": {
        "colab": {
          "base_uri": "https://localhost:8080/"
        },
        "id": "UDJGYsE7r490",
        "outputId": "d7e037b6-22c6-4301-9e46-878dc2c36e07"
      },
      "execution_count": 165,
      "outputs": [
        {
          "output_type": "stream",
          "name": "stdout",
          "text": [
            "cp: '/usr/lib/chromium-browser/chromedriver' and '/usr/bin/chromedriver' are the same file\n"
          ]
        }
      ]
    },
    {
      "cell_type": "code",
      "source": [
        "from selenium import webdriver\n",
        "import sys\n",
        "\n",
        "sys.path.insert(0,'/usr/lib/chromium-browser/chromedriver')\n",
        "\n",
        "chrome_options = webdriver.ChromeOptions()\n",
        "\n",
        "chrome_options.add_argument('--headless')\n",
        "chrome_options.add_argument('--no-sandbox')\n",
        "\n",
        "driver = webdriver.Chrome('chromedriver',chrome_options=chrome_options)"
      ],
      "metadata": {
        "colab": {
          "base_uri": "https://localhost:8080/"
        },
        "id": "-2eF4jSgqrf0",
        "outputId": "3ee43ef3-110a-4860-e3d9-751ec99a646b"
      },
      "execution_count": 167,
      "outputs": [
        {
          "output_type": "stream",
          "name": "stderr",
          "text": [
            "/usr/local/lib/python3.7/dist-packages/ipykernel_launcher.py:11: DeprecationWarning: use options instead of chrome_options\n",
            "  # This is added back by InteractiveShellApp.init_path()\n"
          ]
        }
      ]
    },
    {
      "cell_type": "code",
      "source": [
        "import time\n",
        "driver.get(\"https://summerofcode.withgoogle.com/archive/2021/organizations\")\n",
        "time.sleep(2)"
      ],
      "metadata": {
        "id": "jcT5RyNIq4ci"
      },
      "execution_count": 169,
      "outputs": []
    },
    {
      "cell_type": "code",
      "source": [
        "page = driver.page_source\n"
      ],
      "metadata": {
        "id": "q3Mp6_aWtFi3"
      },
      "execution_count": 170,
      "outputs": []
    },
    {
      "cell_type": "code",
      "source": [
        "page"
      ],
      "metadata": {
        "colab": {
          "base_uri": "https://localhost:8080/",
          "height": 122
        },
        "id": "aX5GDfPFtZAi",
        "outputId": "b654931f-34c6-494c-f45e-2c006b3dc516"
      },
      "execution_count": 171,
      "outputs": [
        {
          "output_type": "execute_result",
          "data": {
            "application/vnd.google.colaboratory.intrinsic+json": {
              "type": "string"
            },
            "text/plain": [
              "'<html lang=\"en\"><head>\\n        <meta charset=\"utf-8\">\\n        <meta property=\"og:title\" content=\"Google Summer of Code\">\\n        <meta property=\"og:description\" content=\"Google Summer of Code is a global program focused on bringing more developers into open source software development.\">\\n        <meta property=\"og:type\" content=\"website\">\\n        <meta property=\"og:url\" content=\"https://summerofcode.withgoogle.com\">\\n        <meta property=\"og:image\" content=\"https://summerofcode.withgoogle.com/static/img/og-image.png\">\\n        <title>Archive Organizations | Google Summer of Code</title>\\n        <base href=\"/\">\\n        <meta name=\"viewport\" content=\"width=device-width, initial-scale=1\">\\n\\n        <!-- FAVICONS: START  -->\\n        <link rel=\"apple-touch-icon\" sizes=\"180x180\" href=\"/assets/favicons/apple-touch-icon.png\">\\n        <link rel=\"icon\" type=\"image/png\" sizes=\"32x32\" href=\"/assets/favicons/favicon-32x32.png\">\\n        <link rel=\"icon\" type=\"image/png\" sizes=\"16x16\" href=\"/assets/favicons/favicon-16x16.png\">\\n        <link rel=\"manifest\" href=\"/assets/favicons/site.webmanifest\">\\n        <link rel=\"mask-icon\" href=\"/assets/favicons/safari-pinned-tab.svg\" color=\"#e37400\">\\n        <link rel=\"shortcut icon\" href=\"/assets/favicons/favicon.ico\">\\n        <meta name=\"msapplication-TileColor\" content=\"#ff0000\">\\n        <meta name=\"msapplication-config\" content=\"/assets/favicons/browserconfig.xml\">\\n        <meta name=\"theme-color\" content=\"#ffffff\">\\n        <!-- FAVICONS: END  -->\\n\\n        <link rel=\"preconnect\" href=\"https://fonts.googleapis.com\">\\n        <link rel=\"preconnect\" href=\"https://fonts.gstatic.com\" crossorigin=\"\">\\n        <style type=\"text/css\">@font-face{font-family:\\'Google Sans\\';font-style:normal;font-weight:400;font-display:swap;src:url(https://fonts.gstatic.com/s/googlesans/v36/4UaGrENHsxJlGDuGo1OIlL3Kwp5eKQtGBlc.woff2) format(\\'woff2\\');unicode-range:U+0400-045F, U+0490-0491, U+04B0-04B1, U+2116;}@font-face{font-family:\\'Google Sans\\';font-style:normal;font-weight:400;font-display:swap;src:url(https://fonts.gstatic.com/s/googlesans/v36/4UaGrENHsxJlGDuGo1OIlL3Nwp5eKQtGBlc.woff2) format(\\'woff2\\');unicode-range:U+0370-03FF;}@font-face{font-family:\\'Google Sans\\';font-style:normal;font-weight:400;font-display:swap;src:url(https://fonts.gstatic.com/s/googlesans/v36/4UaGrENHsxJlGDuGo1OIlL3Bwp5eKQtGBlc.woff2) format(\\'woff2\\');unicode-range:U+0102-0103, U+0110-0111, U+0128-0129, U+0168-0169, U+01A0-01A1, U+01AF-01B0, U+1EA0-1EF9, U+20AB;}@font-face{font-family:\\'Google Sans\\';font-style:normal;font-weight:400;font-display:swap;src:url(https://fonts.gstatic.com/s/googlesans/v36/4UaGrENHsxJlGDuGo1OIlL3Awp5eKQtGBlc.woff2) format(\\'woff2\\');unicode-range:U+0100-024F, U+0259, U+1E00-1EFF, U+2020, U+20A0-20AB, U+20AD-20CF, U+2113, U+2C60-2C7F, U+A720-A7FF;}@font-face{font-family:\\'Google Sans\\';font-style:normal;font-weight:400;font-display:swap;src:url(https://fonts.gstatic.com/s/googlesans/v36/4UaGrENHsxJlGDuGo1OIlL3Owp5eKQtG.woff2) format(\\'woff2\\');unicode-range:U+0000-00FF, U+0131, U+0152-0153, U+02BB-02BC, U+02C6, U+02DA, U+02DC, U+2000-206F, U+2074, U+20AC, U+2122, U+2191, U+2193, U+2212, U+2215, U+FEFF, U+FFFD;}@font-face{font-family:\\'Google Sans\\';font-style:normal;font-weight:500;font-display:swap;src:url(https://fonts.gstatic.com/s/googlesans/v36/4UabrENHsxJlGDuGo1OIlLU94Yt3CwZsPF4oxIs.woff2) format(\\'woff2\\');unicode-range:U+0400-045F, U+0490-0491, U+04B0-04B1, U+2116;}@font-face{font-family:\\'Google Sans\\';font-style:normal;font-weight:500;font-display:swap;src:url(https://fonts.gstatic.com/s/googlesans/v36/4UabrENHsxJlGDuGo1OIlLU94YtwCwZsPF4oxIs.woff2) format(\\'woff2\\');unicode-range:U+0370-03FF;}@font-face{font-family:\\'Google Sans\\';font-style:normal;font-weight:500;font-display:swap;src:url(https://fonts.gstatic.com/s/googlesans/v36/4UabrENHsxJlGDuGo1OIlLU94Yt8CwZsPF4oxIs.woff2) format(\\'woff2\\');unicode-range:U+0102-0103, U+0110-0111, U+0128-0129, U+0168-0169, U+01A0-01A1, U+01AF-01B0, U+1EA0-1EF9, U+20AB;}@font-face{font-family:\\'Google Sans\\';font-style:normal;font-weight:500;font-display:swap;src:url(https://fonts.gstatic.com/s/googlesans/v36/4UabrENHsxJlGDuGo1OIlLU94Yt9CwZsPF4oxIs.woff2) format(\\'woff2\\');unicode-range:U+0100-024F, U+0259, U+1E00-1EFF, U+2020, U+20A0-20AB, U+20AD-20CF, U+2113, U+2C60-2C7F, U+A720-A7FF;}@font-face{font-family:\\'Google Sans\\';font-style:normal;font-weight:500;font-display:swap;src:url(https://fonts.gstatic.com/s/googlesans/v36/4UabrENHsxJlGDuGo1OIlLU94YtzCwZsPF4o.woff2) format(\\'woff2\\');unicode-range:U+0000-00FF, U+0131, U+0152-0153, U+02BB-02BC, U+02C6, U+02DA, U+02DC, U+2000-206F, U+2074, U+20AC, U+2122, U+2191, U+2193, U+2212, U+2215, U+FEFF, U+FFFD;}@font-face{font-family:\\'Google Sans\\';font-style:normal;font-weight:700;font-display:swap;src:url(https://fonts.gstatic.com/s/googlesans/v36/4UabrENHsxJlGDuGo1OIlLV154t3CwZsPF4oxIs.woff2) format(\\'woff2\\');unicode-range:U+0400-045F, U+0490-0491, U+04B0-04B1, U+2116;}@font-face{font-family:\\'Google Sans\\';font-style:normal;font-weight:700;font-display:swap;src:url(https://fonts.gstatic.com/s/googlesans/v36/4UabrENHsxJlGDuGo1OIlLV154twCwZsPF4oxIs.woff2) format(\\'woff2\\');unicode-range:U+0370-03FF;}@font-face{font-family:\\'Google Sans\\';font-style:normal;font-weight:700;font-display:swap;src:url(https://fonts.gstatic.com/s/googlesans/v36/4UabrENHsxJlGDuGo1OIlLV154t8CwZsPF4oxIs.woff2) format(\\'woff2\\');unicode-range:U+0102-0103, U+0110-0111, U+0128-0129, U+0168-0169, U+01A0-01A1, U+01AF-01B0, U+1EA0-1EF9, U+20AB;}@font-face{font-family:\\'Google Sans\\';font-style:normal;font-weight:700;font-display:swap;src:url(https://fonts.gstatic.com/s/googlesans/v36/4UabrENHsxJlGDuGo1OIlLV154t9CwZsPF4oxIs.woff2) format(\\'woff2\\');unicode-range:U+0100-024F, U+0259, U+1E00-1EFF, U+2020, U+20A0-20AB, U+20AD-20CF, U+2113, U+2C60-2C7F, U+A720-A7FF;}@font-face{font-family:\\'Google Sans\\';font-style:normal;font-weight:700;font-display:swap;src:url(https://fonts.gstatic.com/s/googlesans/v36/4UabrENHsxJlGDuGo1OIlLV154tzCwZsPF4o.woff2) format(\\'woff2\\');unicode-range:U+0000-00FF, U+0131, U+0152-0153, U+02BB-02BC, U+02C6, U+02DA, U+02DC, U+2000-206F, U+2074, U+20AC, U+2122, U+2191, U+2193, U+2212, U+2215, U+FEFF, U+FFFD;}@font-face{font-family:\\'Roboto\\';font-style:normal;font-weight:300;font-display:swap;src:url(https://fonts.gstatic.com/s/roboto/v29/KFOlCnqEu92Fr1MmSU5fCRc4AMP6lbBP.woff2) format(\\'woff2\\');unicode-range:U+0460-052F, U+1C80-1C88, U+20B4, U+2DE0-2DFF, U+A640-A69F, U+FE2E-FE2F;}@font-face{font-family:\\'Roboto\\';font-style:normal;font-weight:300;font-display:swap;src:url(https://fonts.gstatic.com/s/roboto/v29/KFOlCnqEu92Fr1MmSU5fABc4AMP6lbBP.woff2) format(\\'woff2\\');unicode-range:U+0400-045F, U+0490-0491, U+04B0-04B1, U+2116;}@font-face{font-family:\\'Roboto\\';font-style:normal;font-weight:300;font-display:swap;src:url(https://fonts.gstatic.com/s/roboto/v29/KFOlCnqEu92Fr1MmSU5fCBc4AMP6lbBP.woff2) format(\\'woff2\\');unicode-range:U+1F00-1FFF;}@font-face{font-family:\\'Roboto\\';font-style:normal;font-weight:300;font-display:swap;src:url(https://fonts.gstatic.com/s/roboto/v29/KFOlCnqEu92Fr1MmSU5fBxc4AMP6lbBP.woff2) format(\\'woff2\\');unicode-range:U+0370-03FF;}@font-face{font-family:\\'Roboto\\';font-style:normal;font-weight:300;font-display:swap;src:url(https://fonts.gstatic.com/s/roboto/v29/KFOlCnqEu92Fr1MmSU5fCxc4AMP6lbBP.woff2) format(\\'woff2\\');unicode-range:U+0102-0103, U+0110-0111, U+0128-0129, U+0168-0169, U+01A0-01A1, U+01AF-01B0, U+1EA0-1EF9, U+20AB;}@font-face{font-family:\\'Roboto\\';font-style:normal;font-weight:300;font-display:swap;src:url(https://fonts.gstatic.com/s/roboto/v29/KFOlCnqEu92Fr1MmSU5fChc4AMP6lbBP.woff2) format(\\'woff2\\');unicode-range:U+0100-024F, U+0259, U+1E00-1EFF, U+2020, U+20A0-20AB, U+20AD-20CF, U+2113, U+2C60-2C7F, U+A720-A7FF;}@font-face{font-family:\\'Roboto\\';font-style:normal;font-weight:300;font-display:swap;src:url(https://fonts.gstatic.com/s/roboto/v29/KFOlCnqEu92Fr1MmSU5fBBc4AMP6lQ.woff2) format(\\'woff2\\');unicode-range:U+0000-00FF, U+0131, U+0152-0153, U+02BB-02BC, U+02C6, U+02DA, U+02DC, U+2000-206F, U+2074, U+20AC, U+2122, U+2191, U+2193, U+2212, U+2215, U+FEFF, U+FFFD;}@font-face{font-family:\\'Roboto\\';font-style:normal;font-weight:400;font-display:swap;src:url(https://fonts.gstatic.com/s/roboto/v29/KFOmCnqEu92Fr1Mu72xKKTU1Kvnz.woff2) format(\\'woff2\\');unicode-range:U+0460-052F, U+1C80-1C88, U+20B4, U+2DE0-2DFF, U+A640-A69F, U+FE2E-FE2F;}@font-face{font-family:\\'Roboto\\';font-style:normal;font-weight:400;font-display:swap;src:url(https://fonts.gstatic.com/s/roboto/v29/KFOmCnqEu92Fr1Mu5mxKKTU1Kvnz.woff2) format(\\'woff2\\');unicode-range:U+0400-045F, U+0490-0491, U+04B0-04B1, U+2116;}@font-face{font-family:\\'Roboto\\';font-style:normal;font-weight:400;font-display:swap;src:url(https://fonts.gstatic.com/s/roboto/v29/KFOmCnqEu92Fr1Mu7mxKKTU1Kvnz.woff2) format(\\'woff2\\');unicode-range:U+1F00-1FFF;}@font-face{font-family:\\'Roboto\\';font-style:normal;font-weight:400;font-display:swap;src:url(https://fonts.gstatic.com/s/roboto/v29/KFOmCnqEu92Fr1Mu4WxKKTU1Kvnz.woff2) format(\\'woff2\\');unicode-range:U+0370-03FF;}@font-face{font-family:\\'Roboto\\';font-style:normal;font-weight:400;font-display:swap;src:url(https://fonts.gstatic.com/s/roboto/v29/KFOmCnqEu92Fr1Mu7WxKKTU1Kvnz.woff2) format(\\'woff2\\');unicode-range:U+0102-0103, U+0110-0111, U+0128-0129, U+0168-0169, U+01A0-01A1, U+01AF-01B0, U+1EA0-1EF9, U+20AB;}@font-face{font-family:\\'Roboto\\';font-style:normal;font-weight:400;font-display:swap;src:url(https://fonts.gstatic.com/s/roboto/v29/KFOmCnqEu92Fr1Mu7GxKKTU1Kvnz.woff2) format(\\'woff2\\');unicode-range:U+0100-024F, U+0259, U+1E00-1EFF, U+2020, U+20A0-20AB, U+20AD-20CF, U+2113, U+2C60-2C7F, U+A720-A7FF;}@font-face{font-family:\\'Roboto\\';font-style:normal;font-weight:400;font-display:swap;src:url(https://fonts.gstatic.com/s/roboto/v29/KFOmCnqEu92Fr1Mu4mxKKTU1Kg.woff2) format(\\'woff2\\');unicode-range:U+0000-00FF, U+0131, U+0152-0153, U+02BB-02BC, U+02C6, U+02DA, U+02DC, U+2000-206F, U+2074, U+20AC, U+2122, U+2191, U+2193, U+2212, U+2215, U+FEFF, U+FFFD;}@font-face{font-family:\\'Roboto\\';font-style:normal;font-weight:500;font-display:swap;src:url(https://fonts.gstatic.com/s/roboto/v29/KFOlCnqEu92Fr1MmEU9fCRc4AMP6lbBP.woff2) format(\\'woff2\\');unicode-range:U+0460-052F, U+1C80-1C88, U+20B4, U+2DE0-2DFF, U+A640-A69F, U+FE2E-FE2F;}@font-face{font-family:\\'Roboto\\';font-style:normal;font-weight:500;font-display:swap;src:url(https://fonts.gstatic.com/s/roboto/v29/KFOlCnqEu92Fr1MmEU9fABc4AMP6lbBP.woff2) format(\\'woff2\\');unicode-range:U+0400-045F, U+0490-0491, U+04B0-04B1, U+2116;}@font-face{font-family:\\'Roboto\\';font-style:normal;font-weight:500;font-display:swap;src:url(https://fonts.gstatic.com/s/roboto/v29/KFOlCnqEu92Fr1MmEU9fCBc4AMP6lbBP.woff2) format(\\'woff2\\');unicode-range:U+1F00-1FFF;}@font-face{font-family:\\'Roboto\\';font-style:normal;font-weight:500;font-display:swap;src:url(https://fonts.gstatic.com/s/roboto/v29/KFOlCnqEu92Fr1MmEU9fBxc4AMP6lbBP.woff2) format(\\'woff2\\');unicode-range:U+0370-03FF;}@font-face{font-family:\\'Roboto\\';font-style:normal;font-weight:500;font-display:swap;src:url(https://fonts.gstatic.com/s/roboto/v29/KFOlCnqEu92Fr1MmEU9fCxc4AMP6lbBP.woff2) format(\\'woff2\\');unicode-range:U+0102-0103, U+0110-0111, U+0128-0129, U+0168-0169, U+01A0-01A1, U+01AF-01B0, U+1EA0-1EF9, U+20AB;}@font-face{font-family:\\'Roboto\\';font-style:normal;font-weight:500;font-display:swap;src:url(https://fonts.gstatic.com/s/roboto/v29/KFOlCnqEu92Fr1MmEU9fChc4AMP6lbBP.woff2) format(\\'woff2\\');unicode-range:U+0100-024F, U+0259, U+1E00-1EFF, U+2020, U+20A0-20AB, U+20AD-20CF, U+2113, U+2C60-2C7F, U+A720-A7FF;}@font-face{font-family:\\'Roboto\\';font-style:normal;font-weight:500;font-display:swap;src:url(https://fonts.gstatic.com/s/roboto/v29/KFOlCnqEu92Fr1MmEU9fBBc4AMP6lQ.woff2) format(\\'woff2\\');unicode-range:U+0000-00FF, U+0131, U+0152-0153, U+02BB-02BC, U+02C6, U+02DA, U+02DC, U+2000-206F, U+2074, U+20AC, U+2122, U+2191, U+2193, U+2212, U+2215, U+FEFF, U+FFFD;}</style>\\n    <link rel=\"stylesheet\" href=\"styles.3801fa3c9e8c40d29e8b.css\"><link rel=\"stylesheet\" href=\"https://fonts.googleapis.com/icon?family=Google+Material+Icons|Google+Material+Icons+Filled\"><script type=\"text/javascript\" async=\"\" src=\"https://www.google-analytics.com/analytics.js\"></script><script src=\"https://apis.google.com/_/scs/apps-static/_/js/k=oz.gapi.en_US.J6wwVzZFlys.O/m=auth2/rt=j/sv=1/d=1/ed=1/am=AQ/rs=AGLTcCNJLWaj6_C-48nmIacOG08UNqZiFA/cb=gapi.loaded_0?le=oz\" async=\"\"></script><script async=\"\" src=\"https://apis.google.com/js/platform.js\" gapi_processed=\"true\"></script><script async=\"\" src=\"https://www.googletagmanager.com/gtag/js?id=UA-53341410-6\"></script><link rel=\"stylesheet\" href=\"https://fonts.googleapis.com/icon?family=Google+Material+Icons|Google+Material+Icons+Filled\"><style>.site[_ngcontent-serverApp-c76]{background:transparent}@media only screen and (min-width: 768px){.site[_ngcontent-serverApp-c76]{padding-left:125px}}@media only screen and (max-width: calc(768px - 1px)){.site[_ngcontent-serverApp-c76]{padding-top:56px}}.site__main[_ngcontent-serverApp-c76]{display:flex;flex-direction:column;min-height:100vh;overflow:hidden}[name=sidebar-left][_ngcontent-serverApp-c76], [name=sidebar-right][_ngcontent-serverApp-c76]{display:none}</style><style>.toolbar-side[_ngcontent-serverApp-c51]{align-items:center;background-color:#fff;display:flex;flex-direction:column;height:100vh;left:0;position:fixed;top:0;width:125px;z-index:var(--z-toolbar-side)}@media only screen and (max-width: calc(768px - 1px)){.toolbar-side[_ngcontent-serverApp-c51]{display:none}}.toolbar-side__toggle[_ngcontent-serverApp-c51]{color:var(--grey600);flex-shrink:0;height:45px;margin:40px;width:45px;z-index:var(--z-siteNavToggle)}.toolbar-side__toggle[_ngcontent-serverApp-c51]   .mat-icon[_ngcontent-serverApp-c51]{font-size:32px;height:32px;line-height:32px;stroke:currentColor;width:32px}.toolbar-side__logo__wrapper[_ngcontent-serverApp-c51]{box-sizing:border-box;display:flex;flex-direction:column;flex-grow:1;flex-shrink:0;justify-content:center;min-height:40px;position:relative}.toolbar-side__logo[_ngcontent-serverApp-c51]{flex-shrink:0;height:317px;margin-bottom:125px;position:relative;width:40px}.toolbar-side__logo[_ngcontent-serverApp-c51]   img[_ngcontent-serverApp-c51]{bottom:calc(0% - (40px / 2));height:40px;left:50%;position:absolute;transform:rotate(270deg);transform-origin:center left}@media print{.toolbar-side[_ngcontent-serverApp-c51]{display:none}}</style><style>.mat-drawer-container{position:relative;z-index:1;box-sizing:border-box;-webkit-overflow-scrolling:touch;display:block;overflow:hidden}.mat-drawer-container[fullscreen]{top:0;left:0;right:0;bottom:0;position:absolute}.mat-drawer-container[fullscreen].mat-drawer-container-has-open{overflow:hidden}.mat-drawer-container.mat-drawer-container-explicit-backdrop .mat-drawer-side{z-index:3}.mat-drawer-container.ng-animate-disabled .mat-drawer-backdrop,.mat-drawer-container.ng-animate-disabled .mat-drawer-content,.ng-animate-disabled .mat-drawer-container .mat-drawer-backdrop,.ng-animate-disabled .mat-drawer-container .mat-drawer-content{transition:none}.mat-drawer-backdrop{top:0;left:0;right:0;bottom:0;position:absolute;display:block;z-index:3;visibility:hidden}.mat-drawer-backdrop.mat-drawer-shown{visibility:visible}.mat-drawer-transition .mat-drawer-backdrop{transition-duration:400ms;transition-timing-function:cubic-bezier(0.25, 0.8, 0.25, 1);transition-property:background-color,visibility}.cdk-high-contrast-active .mat-drawer-backdrop{opacity:.5}.mat-drawer-content{position:relative;z-index:1;display:block;height:100%;overflow:auto}.mat-drawer-transition .mat-drawer-content{transition-duration:400ms;transition-timing-function:cubic-bezier(0.25, 0.8, 0.25, 1);transition-property:transform,margin-left,margin-right}.mat-drawer{position:relative;z-index:4;display:block;position:absolute;top:0;bottom:0;z-index:3;outline:0;box-sizing:border-box;overflow-y:auto;transform:translate3d(-100%, 0, 0)}.cdk-high-contrast-active .mat-drawer,.cdk-high-contrast-active [dir=rtl] .mat-drawer.mat-drawer-end{border-right:solid 1px currentColor}.cdk-high-contrast-active [dir=rtl] .mat-drawer,.cdk-high-contrast-active .mat-drawer.mat-drawer-end{border-left:solid 1px currentColor;border-right:none}.mat-drawer.mat-drawer-side{z-index:2}.mat-drawer.mat-drawer-end{right:0;transform:translate3d(100%, 0, 0)}[dir=rtl] .mat-drawer{transform:translate3d(100%, 0, 0)}[dir=rtl] .mat-drawer.mat-drawer-end{left:0;right:auto;transform:translate3d(-100%, 0, 0)}.mat-drawer-inner-container{width:100%;height:100%;overflow:auto;-webkit-overflow-scrolling:touch}.mat-sidenav-fixed{position:fixed}\\n</style><style>.site-nav[_ngcontent-serverApp-c60]{box-sizing:border-box;display:flex;flex-direction:column;height:100%;justify-content:space-between;max-width:calc(100vw - 20px);width:400px;z-index:var(--z-site-nav)}@media only screen and (min-width: 768px){.site-nav[_ngcontent-serverApp-c60]{padding:125px 24px 24px}}@media only screen and (max-width: calc(768px - 1px)){.site-nav[_ngcontent-serverApp-c60]{padding:56px 45px 45px}}.site-nav[_ngcontent-serverApp-c60]   a[_ngcontent-serverApp-c60], .site-nav[_ngcontent-serverApp-c60]   span[_ngcontent-serverApp-c60]{color:var(--grey900);display:inline-block;padding-left:12px;padding-right:12px;text-decoration:none;transition:color .2s}.site-nav[_ngcontent-serverApp-c60]   a[_ngcontent-serverApp-c60]:hover{color:var(--blue500)}.site-nav[_ngcontent-serverApp-c60]   a[_ngcontent-serverApp-c60]:active{color:var(--blue700)}.site-nav[_ngcontent-serverApp-c60]   a.active[_ngcontent-serverApp-c60]{color:var(--blue500);pointer-events:none;position:relative}.site-nav[_ngcontent-serverApp-c60]   a.active[_ngcontent-serverApp-c60]:before{border-left:2px solid var(--blue300);content:\"\";height:1.3em;left:-5px;position:absolute}.site-nav__close[_ngcontent-serverApp-c60]{align-items:center;background:var(--blue500);color:#fff;display:flex;height:56px;justify-content:center;left:0;position:absolute;top:0;width:56px}@media only screen and (min-width: 768px){.site-nav__close[_ngcontent-serverApp-c60]{display:none}}.site-nav__close[_ngcontent-serverApp-c60]   button[_ngcontent-serverApp-c60]{height:56px;width:56px}.site-nav__close[_ngcontent-serverApp-c60]   svg[_ngcontent-serverApp-c60]{height:20px;stroke:#fff;width:20px}.site-nav__main[_ngcontent-serverApp-c60]   a[_ngcontent-serverApp-c60]{font-family:\"JetBrains Mono\",monospace;font-weight:400;letter-spacing:.005em}@media only screen and (min-width: 768px){.site-nav__main[_ngcontent-serverApp-c60]   a[_ngcontent-serverApp-c60]{font-size:24px;line-height:32px;padding-bottom:12px;padding-top:12px}}@media only screen and (max-width: calc(768px - 1px)){.site-nav__main[_ngcontent-serverApp-c60]   a[_ngcontent-serverApp-c60]{font-size:18px;line-height:24px;padding-bottom:16px;padding-top:16px}}@media only screen and (min-width: 768px){.site-nav__footer[_ngcontent-serverApp-c60]{margin-bottom:86px}}@media only screen and (max-width: calc(768px - 1px)){.site-nav__footer[_ngcontent-serverApp-c60]{margin-bottom:42px}}.site-nav__footer[_ngcontent-serverApp-c60]   a[_ngcontent-serverApp-c60], .site-nav__footer[_ngcontent-serverApp-c60]   span[_ngcontent-serverApp-c60]{padding-bottom:8px;padding-top:8px}</style><style>.mat-button .mat-button-focus-overlay,.mat-icon-button .mat-button-focus-overlay{opacity:0}.mat-button:hover:not(.mat-button-disabled) .mat-button-focus-overlay,.mat-stroked-button:hover:not(.mat-button-disabled) .mat-button-focus-overlay{opacity:.04}@media(hover: none){.mat-button:hover:not(.mat-button-disabled) .mat-button-focus-overlay,.mat-stroked-button:hover:not(.mat-button-disabled) .mat-button-focus-overlay{opacity:0}}.mat-button,.mat-icon-button,.mat-stroked-button,.mat-flat-button{box-sizing:border-box;position:relative;-webkit-user-select:none;-moz-user-select:none;-ms-user-select:none;user-select:none;cursor:pointer;outline:none;border:none;-webkit-tap-highlight-color:transparent;display:inline-block;white-space:nowrap;text-decoration:none;vertical-align:baseline;text-align:center;margin:0;min-width:64px;line-height:36px;padding:0 16px;border-radius:4px;overflow:visible}.mat-button::-moz-focus-inner,.mat-icon-button::-moz-focus-inner,.mat-stroked-button::-moz-focus-inner,.mat-flat-button::-moz-focus-inner{border:0}.mat-button.mat-button-disabled,.mat-icon-button.mat-button-disabled,.mat-stroked-button.mat-button-disabled,.mat-flat-button.mat-button-disabled{cursor:default}.mat-button.cdk-keyboard-focused .mat-button-focus-overlay,.mat-button.cdk-program-focused .mat-button-focus-overlay,.mat-icon-button.cdk-keyboard-focused .mat-button-focus-overlay,.mat-icon-button.cdk-program-focused .mat-button-focus-overlay,.mat-stroked-button.cdk-keyboard-focused .mat-button-focus-overlay,.mat-stroked-button.cdk-program-focused .mat-button-focus-overlay,.mat-flat-button.cdk-keyboard-focused .mat-button-focus-overlay,.mat-flat-button.cdk-program-focused .mat-button-focus-overlay{opacity:.12}.mat-button::-moz-focus-inner,.mat-icon-button::-moz-focus-inner,.mat-stroked-button::-moz-focus-inner,.mat-flat-button::-moz-focus-inner{border:0}.mat-raised-button{box-sizing:border-box;position:relative;-webkit-user-select:none;-moz-user-select:none;-ms-user-select:none;user-select:none;cursor:pointer;outline:none;border:none;-webkit-tap-highlight-color:transparent;display:inline-block;white-space:nowrap;text-decoration:none;vertical-align:baseline;text-align:center;margin:0;min-width:64px;line-height:36px;padding:0 16px;border-radius:4px;overflow:visible;transform:translate3d(0, 0, 0);transition:background 400ms cubic-bezier(0.25, 0.8, 0.25, 1),box-shadow 280ms cubic-bezier(0.4, 0, 0.2, 1)}.mat-raised-button::-moz-focus-inner{border:0}.mat-raised-button.mat-button-disabled{cursor:default}.mat-raised-button.cdk-keyboard-focused .mat-button-focus-overlay,.mat-raised-button.cdk-program-focused .mat-button-focus-overlay{opacity:.12}.mat-raised-button::-moz-focus-inner{border:0}._mat-animation-noopable.mat-raised-button{transition:none;animation:none}.mat-stroked-button{border:1px solid currentColor;padding:0 15px;line-height:34px}.mat-stroked-button .mat-button-ripple.mat-ripple,.mat-stroked-button .mat-button-focus-overlay{top:-1px;left:-1px;right:-1px;bottom:-1px}.mat-fab{box-sizing:border-box;position:relative;-webkit-user-select:none;-moz-user-select:none;-ms-user-select:none;user-select:none;cursor:pointer;outline:none;border:none;-webkit-tap-highlight-color:transparent;display:inline-block;white-space:nowrap;text-decoration:none;vertical-align:baseline;text-align:center;margin:0;min-width:64px;line-height:36px;padding:0 16px;border-radius:4px;overflow:visible;transform:translate3d(0, 0, 0);transition:background 400ms cubic-bezier(0.25, 0.8, 0.25, 1),box-shadow 280ms cubic-bezier(0.4, 0, 0.2, 1);min-width:0;border-radius:50%;width:56px;height:56px;padding:0;flex-shrink:0}.mat-fab::-moz-focus-inner{border:0}.mat-fab.mat-button-disabled{cursor:default}.mat-fab.cdk-keyboard-focused .mat-button-focus-overlay,.mat-fab.cdk-program-focused .mat-button-focus-overlay{opacity:.12}.mat-fab::-moz-focus-inner{border:0}._mat-animation-noopable.mat-fab{transition:none;animation:none}.mat-fab .mat-button-wrapper{padding:16px 0;display:inline-block;line-height:24px}.mat-mini-fab{box-sizing:border-box;position:relative;-webkit-user-select:none;-moz-user-select:none;-ms-user-select:none;user-select:none;cursor:pointer;outline:none;border:none;-webkit-tap-highlight-color:transparent;display:inline-block;white-space:nowrap;text-decoration:none;vertical-align:baseline;text-align:center;margin:0;min-width:64px;line-height:36px;padding:0 16px;border-radius:4px;overflow:visible;transform:translate3d(0, 0, 0);transition:background 400ms cubic-bezier(0.25, 0.8, 0.25, 1),box-shadow 280ms cubic-bezier(0.4, 0, 0.2, 1);min-width:0;border-radius:50%;width:40px;height:40px;padding:0;flex-shrink:0}.mat-mini-fab::-moz-focus-inner{border:0}.mat-mini-fab.mat-button-disabled{cursor:default}.mat-mini-fab.cdk-keyboard-focused .mat-button-focus-overlay,.mat-mini-fab.cdk-program-focused .mat-button-focus-overlay{opacity:.12}.mat-mini-fab::-moz-focus-inner{border:0}._mat-animation-noopable.mat-mini-fab{transition:none;animation:none}.mat-mini-fab .mat-button-wrapper{padding:8px 0;display:inline-block;line-height:24px}.mat-icon-button{padding:0;min-width:0;width:40px;height:40px;flex-shrink:0;line-height:40px;border-radius:50%}.mat-icon-button i,.mat-icon-button .mat-icon{line-height:24px}.mat-button-ripple.mat-ripple,.mat-button-focus-overlay{top:0;left:0;right:0;bottom:0;position:absolute;pointer-events:none;border-radius:inherit}.mat-button-ripple.mat-ripple:not(:empty){transform:translateZ(0)}.mat-button-focus-overlay{opacity:0;transition:opacity 200ms cubic-bezier(0.35, 0, 0.25, 1),background-color 200ms cubic-bezier(0.35, 0, 0.25, 1)}._mat-animation-noopable .mat-button-focus-overlay{transition:none}.mat-button-ripple-round{border-radius:50%;z-index:1}.mat-button .mat-button-wrapper>*,.mat-flat-button .mat-button-wrapper>*,.mat-stroked-button .mat-button-wrapper>*,.mat-raised-button .mat-button-wrapper>*,.mat-icon-button .mat-button-wrapper>*,.mat-fab .mat-button-wrapper>*,.mat-mini-fab .mat-button-wrapper>*{vertical-align:middle}.mat-form-field:not(.mat-form-field-appearance-legacy) .mat-form-field-prefix .mat-icon-button,.mat-form-field:not(.mat-form-field-appearance-legacy) .mat-form-field-suffix .mat-icon-button{display:inline-flex;justify-content:center;align-items:center;font-size:inherit;width:2.5em;height:2.5em}.cdk-high-contrast-active .mat-button,.cdk-high-contrast-active .mat-flat-button,.cdk-high-contrast-active .mat-raised-button,.cdk-high-contrast-active .mat-icon-button,.cdk-high-contrast-active .mat-fab,.cdk-high-contrast-active .mat-mini-fab{outline:solid 1px}.cdk-high-contrast-active .mat-button-base.cdk-keyboard-focused,.cdk-high-contrast-active .mat-button-base.cdk-program-focused{outline:solid 3px}\\n</style><style>.mat-icon{background-repeat:no-repeat;display:inline-block;fill:currentColor;height:24px;width:24px}.mat-icon.mat-icon-inline{font-size:inherit;height:inherit;line-height:inherit;width:inherit}[dir=rtl] .mat-icon-rtl-mirror{transform:scale(-1, 1)}.mat-form-field:not(.mat-form-field-appearance-legacy) .mat-form-field-prefix .mat-icon,.mat-form-field:not(.mat-form-field-appearance-legacy) .mat-form-field-suffix .mat-icon{display:block}.mat-form-field:not(.mat-form-field-appearance-legacy) .mat-form-field-prefix .mat-icon-button .mat-icon,.mat-form-field:not(.mat-form-field-appearance-legacy) .mat-form-field-suffix .mat-icon-button .mat-icon{margin:auto}\\n</style><style>.toolbar-top[_ngcontent-serverApp-c63]{align-items:center;background-color:#fff;height:56px;justify-content:space-between;left:0;padding:0;position:fixed;top:0;z-index:var(--z-toolbar-top)}@media only screen and (min-width: 768px){.toolbar-top[_ngcontent-serverApp-c63]{display:none}}.toolbar-top__logo[_ngcontent-serverApp-c63]   img[_ngcontent-serverApp-c63]{display:block;height:26px}.toolbar-top__left[_ngcontent-serverApp-c63], .toolbar-top__right[_ngcontent-serverApp-c63]{display:flex;width:72px}.toolbar-top__left[_ngcontent-serverApp-c63]{justify-content:left}.toolbar-top__toggle[_ngcontent-serverApp-c63]{height:56px;width:56px}.toolbar-top__toggle[_ngcontent-serverApp-c63]   .mat-icon[_ngcontent-serverApp-c63]{height:20px;stroke:var(--grey800);width:20px}@media print{.toolbar-top[_ngcontent-serverApp-c63]{visibility:hidden}}</style><style>.footer[_ngcontent-serverApp-c64]{min-height:363px;position:relative;z-index:var(--z-layout-footer)}@media only screen and (max-width: calc(768px - 1px)){.footer[_ngcontent-serverApp-c64]{min-height:563px}}.footer__content[_ngcontent-serverApp-c64]{box-sizing:border-box;height:100%;padding:2.25rem 3.75rem 2.3125rem;position:absolute;width:100%}.footer__content[_ngcontent-serverApp-c64]   .grid[_ngcontent-serverApp-c64]{height:100%}.footer-logo[_ngcontent-serverApp-c64]{height:100%;margin-bottom:20px;max-width:100%;position:relative;width:15.625rem}@media only screen and (min-width: 1024px){.footer-logo[_ngcontent-serverApp-c64]{width:21.25rem}}.footer-logo[_ngcontent-serverApp-c64]   p[_ngcontent-serverApp-c64]{color:#5f6368;letter-spacing:.005em}.right-nav-wrapper[_ngcontent-serverApp-c64]{display:flex;margin-bottom:40px}@media only screen and (min-width: 1024px){.right-nav-wrapper[_ngcontent-serverApp-c64]{justify-content:space-around}}@media only screen and (min-width: 1280px){.right-nav-wrapper[_ngcontent-serverApp-c64]{justify-content:space-evenly}}.right-nav-wrapper[_ngcontent-serverApp-c64]   ul[_ngcontent-serverApp-c64] + ul[_ngcontent-serverApp-c64]{margin-left:3.75rem}@media only screen and (min-width: 1024px){.right-nav-wrapper[_ngcontent-serverApp-c64]   ul[_ngcontent-serverApp-c64] + ul[_ngcontent-serverApp-c64]{margin-left:0}}@media only screen and (min-width: 1024px){.right-nav-wrapper[_ngcontent-serverApp-c64]   ul[_ngcontent-serverApp-c64]{margin-right:12px}}.right-nav-wrapper[_ngcontent-serverApp-c64]   li[_ngcontent-serverApp-c64]{letter-spacing:.01em;padding-bottom:24px}.right-nav-wrapper[_ngcontent-serverApp-c64]   a[_ngcontent-serverApp-c64]{color:#202124;text-decoration:none}.bottom-nav-wrapper[_ngcontent-serverApp-c64]   .google-word[_ngcontent-serverApp-c64]{background-image:url(/assets/media/gray-google-word-logo.svg);background-size:contain;display:inline-block;height:22px;width:60px}.bottom-nav-wrapper[_ngcontent-serverApp-c64]   ul[_ngcontent-serverApp-c64]{display:inline-block}@media only screen and (min-width: 768px){.bottom-nav-wrapper[_ngcontent-serverApp-c64]   ul[_ngcontent-serverApp-c64]{display:flex}}.bottom-nav-wrapper[_ngcontent-serverApp-c64]   li[_ngcontent-serverApp-c64]{height:22px;margin-bottom:1.25rem;margin-right:1.875rem}@media only screen and (min-width: 1024px){.bottom-nav-wrapper[_ngcontent-serverApp-c64]   li[_ngcontent-serverApp-c64]{display:inline;margin-bottom:0}}@media only screen and (max-width: calc(1024px - 1px)){.bottom-nav-wrapper[_ngcontent-serverApp-c64]   li[_ngcontent-serverApp-c64]{float:left;margin-right:.625rem}}.bottom-nav-wrapper[_ngcontent-serverApp-c64]   a[_ngcontent-serverApp-c64]{color:#5f6368;text-decoration:none}hr[_ngcontent-serverApp-c64]{border:1px solid #bdc1c6;margin-block-end:0}@media print{.footer[_ngcontent-serverApp-c64]{visibility:hidden}}</style><style>.cdk-high-contrast-active .mat-toolbar{outline:solid 1px}.mat-toolbar-row,.mat-toolbar-single-row{display:flex;box-sizing:border-box;padding:0 16px;width:100%;flex-direction:row;align-items:center;white-space:nowrap}.mat-toolbar-multiple-rows{display:flex;box-sizing:border-box;flex-direction:column;width:100%}\\n</style><style>.user-menu.mat-menu-panel{border-radius:16px;margin-top:10px;max-width:none;padding:10px 0;width:300px}@media only screen and (max-width: calc(768px - 1px)){.user-menu.mat-menu-panel{margin-right:10px}}.user-menu section:not(:last-child){padding-bottom:16px}.user-menu section+section:before{border-top:1px solid var(--grey400);content:\"\";display:block;margin-left:32px;margin-right:32px;padding-top:16px;width:calc(100% - 64px)}.mat-menu-item.context-title .context-title__active-indicator{color:var(--green600);font-size:20px;margin-left:auto;padding-left:8px}.mat-menu-item.context-title--has-org{align-items:flex-start;display:flex;height:auto}.mat-menu-item.context-title--has-org .mat-icon{flex-shrink:0}.mat-menu-item.context-title--has-org .context-title__body{display:flex;flex-direction:column;flex-shrink:1;white-space:normal}.mat-menu-item.context-title--has-org .context-title__body span{line-height:1.3em}.mat-menu-item.context-title--has-org .context-title__slug{-webkit-box-orient:vertical;display:-webkit-box;-webkit-line-clamp:2;overflow:hidden}@media print{.user-menu-toggle{visibility:hidden}}\\n</style><style>.user-menu-toggle[_ngcontent-serverApp-c70]{align-items:center;border:0;box-sizing:border-box;color:var(--grey900);cursor:pointer;display:flex;font-size:inherit;padding:0;position:fixed;transition:color .5s;z-index:var(--z-user-menu-toggle)}@media only screen and (max-width: calc(768px - 1px)){.user-menu-toggle[_ngcontent-serverApp-c70]{background-color:transparent;border-radius:28px;font-size:0;height:56px;justify-content:center;right:0;top:0;width:56px}}@media only screen and (min-width: 768px){.user-menu-toggle[_ngcontent-serverApp-c70]{box-shadow:0 3px 3px -2px #00000029,0 3px 4px #0000001d,0 1px 8px #00000018;background-color:#fff;border-radius:22.5px;height:45px;justify-content:right;padding:6.5px 6.5px 6.5px 22.5px;right:40px;top:40px;width:auto}}.user-menu-toggle[disabled][_ngcontent-serverApp-c70]{color:var(--grey600);cursor:wait}.user-menu-toggle[disabled][_ngcontent-serverApp-c70]   .mat-icon[_ngcontent-serverApp-c70]{opacity:.6}p[_ngcontent-serverApp-c70]{max-width:200px;overflow:hidden;text-align:left;text-overflow:ellipsis;white-space:nowrap}hr[_ngcontent-serverApp-c70]{border:0;border-right:1px solid var(--grey200);display:inline-block;height:1em;margin:0 10px}@media only screen and (max-width: calc(768px - 1px)){hr[_ngcontent-serverApp-c70]{display:none}}.avatar[_ngcontent-serverApp-c70]{border-radius:50%;height:32px;line-height:32px;transition:opacity .5s;width:32px}@media only screen and (max-width: calc(768px - 1px)){.avatar[_ngcontent-serverApp-c70]{margin:0}}@media only screen and (min-width: 768px){.avatar[_ngcontent-serverApp-c70]{margin-left:10px}}.avatar--fallback[_ngcontent-serverApp-c70]{background-color:var(--grey200);color:var(--grey700)}.avatar--unauthed[_ngcontent-serverApp-c70]{background-color:transparent;color:var(--grey700)}.imgFallback--hasError[_ngcontent-serverApp-c70]{display:none}.expand-cta[_ngcontent-serverApp-c70]{color:var(--grey600);margin-left:10px;margin-right:5px}@media only screen and (max-width: calc(768px - 1px)){.expand-cta[_ngcontent-serverApp-c70]{display:none}}</style><style>mat-menu{display:none}.mat-menu-panel{min-width:112px;max-width:280px;overflow:auto;-webkit-overflow-scrolling:touch;max-height:calc(100vh - 48px);border-radius:4px;outline:0;min-height:64px}.mat-menu-panel.ng-animating{pointer-events:none}.cdk-high-contrast-active .mat-menu-panel{outline:solid 1px}.mat-menu-content:not(:empty){padding-top:8px;padding-bottom:8px}.mat-menu-item{-webkit-user-select:none;-moz-user-select:none;-ms-user-select:none;user-select:none;cursor:pointer;outline:none;border:none;-webkit-tap-highlight-color:transparent;white-space:nowrap;overflow:hidden;text-overflow:ellipsis;display:block;line-height:48px;height:48px;padding:0 16px;text-align:left;text-decoration:none;max-width:100%;position:relative}.mat-menu-item::-moz-focus-inner{border:0}.mat-menu-item[disabled]{cursor:default}[dir=rtl] .mat-menu-item{text-align:right}.mat-menu-item .mat-icon{margin-right:16px;vertical-align:middle}.mat-menu-item .mat-icon svg{vertical-align:top}[dir=rtl] .mat-menu-item .mat-icon{margin-left:16px;margin-right:0}.mat-menu-item[disabled]{pointer-events:none}.cdk-high-contrast-active .mat-menu-item{margin-top:1px}.cdk-high-contrast-active .mat-menu-item.cdk-program-focused,.cdk-high-contrast-active .mat-menu-item.cdk-keyboard-focused,.cdk-high-contrast-active .mat-menu-item-highlighted{outline:dotted 1px}.mat-menu-item-submenu-trigger{padding-right:32px}[dir=rtl] .mat-menu-item-submenu-trigger{padding-right:16px;padding-left:32px}.mat-menu-submenu-icon{position:absolute;top:50%;right:16px;transform:translateY(-50%);width:5px;height:10px;fill:currentColor}[dir=rtl] .mat-menu-submenu-icon{right:auto;left:16px;transform:translateY(-50%) scaleX(-1)}.cdk-high-contrast-active .mat-menu-submenu-icon{fill:CanvasText}button.mat-menu-item{width:100%}.mat-menu-item .mat-menu-ripple{top:0;left:0;right:0;bottom:0;position:absolute;pointer-events:none}\\n</style><style>.mat-progress-bar{display:block;height:4px;overflow:hidden;position:relative;transition:opacity 250ms linear;width:100%}._mat-animation-noopable.mat-progress-bar{transition:none;animation:none}.mat-progress-bar .mat-progress-bar-element,.mat-progress-bar .mat-progress-bar-fill::after{height:100%;position:absolute;width:100%}.mat-progress-bar .mat-progress-bar-background{width:calc(100% + 10px)}.cdk-high-contrast-active .mat-progress-bar .mat-progress-bar-background{display:none}.mat-progress-bar .mat-progress-bar-buffer{transform-origin:top left;transition:transform 250ms ease}.cdk-high-contrast-active .mat-progress-bar .mat-progress-bar-buffer{border-top:solid 5px;opacity:.5}.mat-progress-bar .mat-progress-bar-secondary{display:none}.mat-progress-bar .mat-progress-bar-fill{animation:none;transform-origin:top left;transition:transform 250ms ease}.cdk-high-contrast-active .mat-progress-bar .mat-progress-bar-fill{border-top:solid 4px}.mat-progress-bar .mat-progress-bar-fill::after{animation:none;content:\"\";display:inline-block;left:0}.mat-progress-bar[dir=rtl],[dir=rtl] .mat-progress-bar{transform:rotateY(180deg)}.mat-progress-bar[mode=query]{transform:rotateZ(180deg)}.mat-progress-bar[mode=query][dir=rtl],[dir=rtl] .mat-progress-bar[mode=query]{transform:rotateZ(180deg) rotateY(180deg)}.mat-progress-bar[mode=indeterminate] .mat-progress-bar-fill,.mat-progress-bar[mode=query] .mat-progress-bar-fill{transition:none}.mat-progress-bar[mode=indeterminate] .mat-progress-bar-primary,.mat-progress-bar[mode=query] .mat-progress-bar-primary{-webkit-backface-visibility:hidden;backface-visibility:hidden;animation:mat-progress-bar-primary-indeterminate-translate 2000ms infinite linear;left:-145.166611%}.mat-progress-bar[mode=indeterminate] .mat-progress-bar-primary.mat-progress-bar-fill::after,.mat-progress-bar[mode=query] .mat-progress-bar-primary.mat-progress-bar-fill::after{-webkit-backface-visibility:hidden;backface-visibility:hidden;animation:mat-progress-bar-primary-indeterminate-scale 2000ms infinite linear}.mat-progress-bar[mode=indeterminate] .mat-progress-bar-secondary,.mat-progress-bar[mode=query] .mat-progress-bar-secondary{-webkit-backface-visibility:hidden;backface-visibility:hidden;animation:mat-progress-bar-secondary-indeterminate-translate 2000ms infinite linear;left:-54.888891%;display:block}.mat-progress-bar[mode=indeterminate] .mat-progress-bar-secondary.mat-progress-bar-fill::after,.mat-progress-bar[mode=query] .mat-progress-bar-secondary.mat-progress-bar-fill::after{-webkit-backface-visibility:hidden;backface-visibility:hidden;animation:mat-progress-bar-secondary-indeterminate-scale 2000ms infinite linear}.mat-progress-bar[mode=buffer] .mat-progress-bar-background{-webkit-backface-visibility:hidden;backface-visibility:hidden;animation:mat-progress-bar-background-scroll 250ms infinite linear;display:block}.mat-progress-bar._mat-animation-noopable .mat-progress-bar-fill,.mat-progress-bar._mat-animation-noopable .mat-progress-bar-fill::after,.mat-progress-bar._mat-animation-noopable .mat-progress-bar-buffer,.mat-progress-bar._mat-animation-noopable .mat-progress-bar-primary,.mat-progress-bar._mat-animation-noopable .mat-progress-bar-primary.mat-progress-bar-fill::after,.mat-progress-bar._mat-animation-noopable .mat-progress-bar-secondary,.mat-progress-bar._mat-animation-noopable .mat-progress-bar-secondary.mat-progress-bar-fill::after,.mat-progress-bar._mat-animation-noopable .mat-progress-bar-background{animation:none;transition-duration:1ms}@keyframes mat-progress-bar-primary-indeterminate-translate{0%{transform:translateX(0)}20%{animation-timing-function:cubic-bezier(0.5, 0, 0.701732, 0.495819);transform:translateX(0)}59.15%{animation-timing-function:cubic-bezier(0.302435, 0.381352, 0.55, 0.956352);transform:translateX(83.67142%)}100%{transform:translateX(200.611057%)}}@keyframes mat-progress-bar-primary-indeterminate-scale{0%{transform:scaleX(0.08)}36.65%{animation-timing-function:cubic-bezier(0.334731, 0.12482, 0.785844, 1);transform:scaleX(0.08)}69.15%{animation-timing-function:cubic-bezier(0.06, 0.11, 0.6, 1);transform:scaleX(0.661479)}100%{transform:scaleX(0.08)}}@keyframes mat-progress-bar-secondary-indeterminate-translate{0%{animation-timing-function:cubic-bezier(0.15, 0, 0.515058, 0.409685);transform:translateX(0)}25%{animation-timing-function:cubic-bezier(0.31033, 0.284058, 0.8, 0.733712);transform:translateX(37.651913%)}48.35%{animation-timing-function:cubic-bezier(0.4, 0.627035, 0.6, 0.902026);transform:translateX(84.386165%)}100%{transform:translateX(160.277782%)}}@keyframes mat-progress-bar-secondary-indeterminate-scale{0%{animation-timing-function:cubic-bezier(0.15, 0, 0.515058, 0.409685);transform:scaleX(0.08)}19.15%{animation-timing-function:cubic-bezier(0.31033, 0.284058, 0.8, 0.733712);transform:scaleX(0.457104)}44.15%{animation-timing-function:cubic-bezier(0.4, 0.627035, 0.6, 0.902026);transform:scaleX(0.72796)}100%{transform:scaleX(0.08)}}@keyframes mat-progress-bar-background-scroll{to{transform:translateX(-8px)}}\\n</style><style>.page-title__img[_ngcontent-serverApp-c207]{width:12.5rem}@media only screen and (min-width: 1440px){.page-title__img[_ngcontent-serverApp-c207]{width:20.8125rem}}.body[_ngcontent-serverApp-c207]{width:80%}</style><style>.layer[_ngcontent-serverApp-c206], .section__header[_ngcontent-serverApp-c206], .layer--10[_ngcontent-serverApp-c206], .layer--9[_ngcontent-serverApp-c206], .layer--8[_ngcontent-serverApp-c206], .layer--7[_ngcontent-serverApp-c206], .layer--6[_ngcontent-serverApp-c206], .layer--5[_ngcontent-serverApp-c206], .layer--4[_ngcontent-serverApp-c206], .layer--3[_ngcontent-serverApp-c206], .layer--2[_ngcontent-serverApp-c206], .layer--1[_ngcontent-serverApp-c206]{position:relative}.layer--1[_ngcontent-serverApp-c206]{z-index:calc(1 * 10)}.layer--2[_ngcontent-serverApp-c206]{z-index:calc(2 * 10)}.layer--3[_ngcontent-serverApp-c206]{z-index:calc(3 * 10)}.layer--4[_ngcontent-serverApp-c206]{z-index:calc(4 * 10)}.layer--5[_ngcontent-serverApp-c206]{z-index:calc(5 * 10)}.layer--6[_ngcontent-serverApp-c206]{z-index:calc(6 * 10)}.layer--7[_ngcontent-serverApp-c206]{z-index:calc(7 * 10)}.layer--8[_ngcontent-serverApp-c206]{z-index:calc(8 * 10)}.layer--9[_ngcontent-serverApp-c206]{z-index:calc(9 * 10)}.layer--10[_ngcontent-serverApp-c206]{z-index:calc(10 * 10)}.top-padding-search-fixed[_ngcontent-serverApp-c206]{padding-top:2rem}.archive-search-wrapper[_ngcontent-serverApp-c206]{margin-bottom:.5rem}.org-wrapper[_ngcontent-serverApp-c206]{box-sizing:border-box;margin:.5rem}.no-gap[_ngcontent-serverApp-c206]{grid-row-gap:0}.spinner[_ngcontent-serverApp-c206]{align-items:center;display:flex;height:12.5rem;justify-content:center}.section__header[_ngcontent-serverApp-c206]{z-index:calc(10 * 10);background-color:#e8eaed;padding:3.75rem 1.875rem}@media only screen and (min-width: 768px){.section__header[_ngcontent-serverApp-c206]{padding-bottom:3.75rem;padding-top:3.75rem}}@media only screen and (min-width: 1024px){.section__header[_ngcontent-serverApp-c206]{padding:3.75rem 8.4375rem}}.mat-chip[_ngcontent-serverApp-c206]{background-color:#fff;margin-bottom:16px}[_nghost-serverApp-c206]     .mat-chip-list-wrapper mat-chip{margin-bottom:16px;margin-right:8px}</style><style>@media only screen and (min-width: 1440px){.heading__text[_ngcontent-serverApp-c101]{padding-right:3.75rem}}.body[_ngcontent-serverApp-c101]{margin-top:2.375rem;width:80%}@media only screen and (min-width: 1440px){.heading__text-wrapper[_ngcontent-serverApp-c101]{align-items:center;display:flex}}@media only screen and (max-width: 1440px){.heading__text[_ngcontent-serverApp-c101]{margin-bottom:20px}}.heading__cta[_ngcontent-serverApp-c101]{padding:8px}.mat-icon[_ngcontent-serverApp-c101]{margin-right:8px}.feature-banner__dots[_ngcontent-serverApp-c101]{height:100%;inset:-100px 0 auto auto;position:absolute;width:100%;z-index:99}.feature-banner__dots[_ngcontent-serverApp-c101]:before, .feature-banner__dots[_ngcontent-serverApp-c101]:after{content:\"\";position:absolute}.feature-banner__dots[_ngcontent-serverApp-c101]:before{background-image:url(\\'data:image/svg+xml;utf8,<svg xmlns=\"http://www.w3.org/2000/svg\" viewBox=\"0 0 872 264\" width=\"872\" height=\"264\"><defs><pattern id=\"p\" width=\"32\" height=\"32\" patternUnits=\"userSpaceOnUse\"><circle cx=\"4\" cy=\"4\" r=\"4\" fill=\"rgba(180, 180, 180, 0.15)\" /></pattern></defs><rect fill=\"url(%23p)\" width=\"872\" height=\"264\" /></svg>\\');background-repeat:no-repeat;height:264px;width:872px;inset:0 auto auto 45%;overflow:hidden;width:55%}.feature-banner__dots[_ngcontent-serverApp-c101]:after{background-image:url(\\'data:image/svg+xml;utf8,<svg xmlns=\"http://www.w3.org/2000/svg\" viewBox=\"0 0 136 136\" width=\"136\" height=\"136\"><defs><pattern id=\"p\" width=\"32\" height=\"32\" patternUnits=\"userSpaceOnUse\"><circle cx=\"4\" cy=\"4\" r=\"4\" fill=\"rgba(50, 50, 50, 0.06)\" /></pattern></defs><rect fill=\"url(%23p)\" width=\"136\" height=\"136\" /></svg>\\');background-repeat:no-repeat;height:136px;width:136px;inset:auto auto -55px 55px}@media only screen and (max-width: calc(768px - 1px)){.feature-banner__dots[_ngcontent-serverApp-c101]:after{display:none}}</style><style>.feature-banner__dots[_ngcontent-serverApp-c79]{height:100%;inset:0 0 auto auto;position:absolute;width:100%}.feature-banner__dots[_ngcontent-serverApp-c79]:before, .feature-banner__dots[_ngcontent-serverApp-c79]:after{content:\"\";position:absolute}.feature-banner__dots[_ngcontent-serverApp-c79]:before{background-image:url(\\'data:image/svg+xml;utf8,<svg xmlns=\"http://www.w3.org/2000/svg\" viewBox=\"0 0 872 264\" width=\"872\" height=\"264\"><defs><pattern id=\"p\" width=\"32\" height=\"32\" patternUnits=\"userSpaceOnUse\"><circle cx=\"4\" cy=\"4\" r=\"4\" fill=\"rgba(180, 180, 180, 0.15)\" /></pattern></defs><rect fill=\"url(%23p)\" width=\"872\" height=\"264\" /></svg>\\');background-repeat:no-repeat;height:264px;width:872px;background-position:top 10px right 10px;background-size:cover;inset:0 auto auto 45%;overflow:hidden;width:55%}.feature-banner__dots[_ngcontent-serverApp-c79]:after{background-image:url(\\'data:image/svg+xml;utf8,<svg xmlns=\"http://www.w3.org/2000/svg\" viewBox=\"0 0 136 136\" width=\"136\" height=\"136\"><defs><pattern id=\"p\" width=\"32\" height=\"32\" patternUnits=\"userSpaceOnUse\"><circle cx=\"4\" cy=\"4\" r=\"4\" fill=\"rgba(50, 50, 50, 0.06)\" /></pattern></defs><rect fill=\"url(%23p)\" width=\"136\" height=\"136\" /></svg>\\');background-repeat:no-repeat;height:136px;width:136px;inset:auto auto -55px 55px}@media only screen and (max-width: calc(768px - 1px)){.feature-banner__dots[_ngcontent-serverApp-c79]:after{display:none}}</style><style>.mat-chip{position:relative;box-sizing:border-box;-webkit-tap-highlight-color:transparent;transform:translateZ(0);border:none;-webkit-appearance:none;-moz-appearance:none}.mat-standard-chip{transition:box-shadow 280ms cubic-bezier(0.4, 0, 0.2, 1);display:inline-flex;padding:7px 12px;border-radius:16px;align-items:center;cursor:default;min-height:32px;height:1px}._mat-animation-noopable.mat-standard-chip{transition:none;animation:none}.mat-standard-chip .mat-chip-remove.mat-icon{width:18px;height:18px}.mat-standard-chip::after{top:0;left:0;right:0;bottom:0;position:absolute;border-radius:inherit;opacity:0;content:\"\";pointer-events:none;transition:opacity 200ms cubic-bezier(0.35, 0, 0.25, 1)}.mat-standard-chip:hover::after{opacity:.12}.mat-standard-chip:focus{outline:none}.mat-standard-chip:focus::after{opacity:.16}.cdk-high-contrast-active .mat-standard-chip{outline:solid 1px}.cdk-high-contrast-active .mat-standard-chip:focus{outline:dotted 2px}.mat-standard-chip.mat-chip-disabled::after{opacity:0}.mat-standard-chip.mat-chip-disabled .mat-chip-remove,.mat-standard-chip.mat-chip-disabled .mat-chip-trailing-icon{cursor:default}.mat-standard-chip.mat-chip-with-trailing-icon.mat-chip-with-avatar,.mat-standard-chip.mat-chip-with-avatar{padding-top:0;padding-bottom:0}.mat-standard-chip.mat-chip-with-trailing-icon.mat-chip-with-avatar{padding-right:8px;padding-left:0}[dir=rtl] .mat-standard-chip.mat-chip-with-trailing-icon.mat-chip-with-avatar{padding-left:8px;padding-right:0}.mat-standard-chip.mat-chip-with-trailing-icon{padding-top:7px;padding-bottom:7px;padding-right:8px;padding-left:12px}[dir=rtl] .mat-standard-chip.mat-chip-with-trailing-icon{padding-left:8px;padding-right:12px}.mat-standard-chip.mat-chip-with-avatar{padding-left:0;padding-right:12px}[dir=rtl] .mat-standard-chip.mat-chip-with-avatar{padding-right:0;padding-left:12px}.mat-standard-chip .mat-chip-avatar{width:24px;height:24px;margin-right:8px;margin-left:4px}[dir=rtl] .mat-standard-chip .mat-chip-avatar{margin-left:8px;margin-right:4px}.mat-standard-chip .mat-chip-remove,.mat-standard-chip .mat-chip-trailing-icon{width:18px;height:18px;cursor:pointer}.mat-standard-chip .mat-chip-remove,.mat-standard-chip .mat-chip-trailing-icon{margin-left:8px;margin-right:0}[dir=rtl] .mat-standard-chip .mat-chip-remove,[dir=rtl] .mat-standard-chip .mat-chip-trailing-icon{margin-right:8px;margin-left:0}.mat-chip-ripple{top:0;left:0;right:0;bottom:0;position:absolute;pointer-events:none;border-radius:inherit;overflow:hidden}.mat-chip-list-wrapper{display:flex;flex-direction:row;flex-wrap:wrap;align-items:center;margin:-4px}.mat-chip-list-wrapper input.mat-input-element,.mat-chip-list-wrapper .mat-standard-chip{margin:4px}.mat-chip-list-stacked .mat-chip-list-wrapper{flex-direction:column;align-items:flex-start}.mat-chip-list-stacked .mat-chip-list-wrapper .mat-standard-chip{width:100%}.mat-chip-avatar{border-radius:50%;justify-content:center;align-items:center;display:flex;overflow:hidden;object-fit:cover}input.mat-chip-input{width:150px;margin:4px;flex:1 0 150px}\\n</style><style>.input-wrapper[_ngcontent-serverApp-c130]{margin:.5rem .5rem 3.5rem;position:relative;width:350px}@media only screen and (min-width: 768px){.input-wrapper[_ngcontent-serverApp-c130]{width:394px}}input[_ngcontent-serverApp-c130]{background-color:#e8eaed;border:none;border-radius:41px;box-sizing:border-box;color:#5f6368;font-size:1rem;height:2.75rem;line-height:1.25rem;padding-left:1rem;padding-right:1rem;width:100%}mat-icon[_ngcontent-serverApp-c130]{color:#5f6368;cursor:pointer;position:absolute;right:1.25rem;top:.625rem}@media only screen and (max-width: calc(768px - 1px)){mat-icon[_ngcontent-serverApp-c130]{display:none}}.search-results[_ngcontent-serverApp-c130]{color:#5f6368;font-size:1rem;padding-left:1.5rem}</style><style>.no-results[_ngcontent-serverApp-c135]{align-items:center;display:flex;flex-direction:column;height:12.5rem;justify-content:center}.no-results__found[_ngcontent-serverApp-c135]{font-family:JetBrains Mono,monospace;font-size:calc(32px + (40 - 32) * (100vw - 384px) / (1440 - 384));font-weight:400;letter-spacing:-.03em;line-height:calc(40px + (60 - 40) * (100vw - 384px) / (1440 - 384));--styleguide: hdg-3}.no-results__search-again[_ngcontent-serverApp-c135]{font-family:Google Sans,Roboto,Helvetica Neue,sans-serif;font-size:calc(12.8px + (16 - 12.8) * (100vw - 384px) / (1440 - 384));font-weight:400;letter-spacing:.005em;line-height:calc(16px + (20 - 16) * (100vw - 384px) / (1440 - 384));--styleguide: body-1}</style><style>.mat-paginator{display:block}.mat-paginator-outer-container{display:flex}.mat-paginator-container{display:flex;align-items:center;justify-content:flex-end;padding:0 8px;flex-wrap:wrap-reverse;width:100%}.mat-paginator-page-size{display:flex;align-items:baseline;margin-right:8px}[dir=rtl] .mat-paginator-page-size{margin-right:0;margin-left:8px}.mat-paginator-page-size-label{margin:0 4px}.mat-paginator-page-size-select{margin:6px 4px 0 4px;width:56px}.mat-paginator-page-size-select.mat-form-field-appearance-outline{width:64px}.mat-paginator-page-size-select.mat-form-field-appearance-fill{width:64px}.mat-paginator-range-label{margin:0 32px 0 24px}.mat-paginator-range-actions{display:flex;align-items:center}.mat-paginator-icon{width:28px;fill:currentColor}[dir=rtl] .mat-paginator-icon{transform:rotate(180deg)}.cdk-high-contrast-active .mat-paginator-icon{fill:CanvasText}\\n</style><style>.mat-form-field{display:inline-block;position:relative;text-align:left}[dir=rtl] .mat-form-field{text-align:right}.mat-form-field-wrapper{position:relative}.mat-form-field-flex{display:inline-flex;align-items:baseline;box-sizing:border-box;width:100%}.mat-form-field-prefix,.mat-form-field-suffix{white-space:nowrap;flex:none;position:relative}.mat-form-field-infix{display:block;position:relative;flex:auto;min-width:0;width:180px}.cdk-high-contrast-active .mat-form-field-infix{border-image:linear-gradient(transparent, transparent)}.mat-form-field-label-wrapper{position:absolute;left:0;box-sizing:content-box;width:100%;height:100%;overflow:hidden;pointer-events:none}[dir=rtl] .mat-form-field-label-wrapper{left:auto;right:0}.mat-form-field-label{position:absolute;left:0;font:inherit;pointer-events:none;width:100%;white-space:nowrap;text-overflow:ellipsis;overflow:hidden;transform-origin:0 0;transition:transform 400ms cubic-bezier(0.25, 0.8, 0.25, 1),color 400ms cubic-bezier(0.25, 0.8, 0.25, 1),width 400ms cubic-bezier(0.25, 0.8, 0.25, 1);display:none}[dir=rtl] .mat-form-field-label{transform-origin:100% 0;left:auto;right:0}.mat-form-field-empty.mat-form-field-label,.mat-form-field-can-float.mat-form-field-should-float .mat-form-field-label{display:block}.mat-form-field-autofill-control:-webkit-autofill+.mat-form-field-label-wrapper .mat-form-field-label{display:none}.mat-form-field-can-float .mat-form-field-autofill-control:-webkit-autofill+.mat-form-field-label-wrapper .mat-form-field-label{display:block;transition:none}.mat-input-server:focus+.mat-form-field-label-wrapper .mat-form-field-label,.mat-input-server[placeholder]:not(:placeholder-shown)+.mat-form-field-label-wrapper .mat-form-field-label{display:none}.mat-form-field-can-float .mat-input-server:focus+.mat-form-field-label-wrapper .mat-form-field-label,.mat-form-field-can-float .mat-input-server[placeholder]:not(:placeholder-shown)+.mat-form-field-label-wrapper .mat-form-field-label{display:block}.mat-form-field-label:not(.mat-form-field-empty){transition:none}.mat-form-field-underline{position:absolute;width:100%;pointer-events:none;transform:scale3d(1, 1.0001, 1)}.mat-form-field-ripple{position:absolute;left:0;width:100%;transform-origin:50%;transform:scaleX(0.5);opacity:0;transition:background-color 300ms cubic-bezier(0.55, 0, 0.55, 0.2)}.mat-form-field.mat-focused .mat-form-field-ripple,.mat-form-field.mat-form-field-invalid .mat-form-field-ripple{opacity:1;transform:none;transition:transform 300ms cubic-bezier(0.25, 0.8, 0.25, 1),opacity 100ms cubic-bezier(0.25, 0.8, 0.25, 1),background-color 300ms cubic-bezier(0.25, 0.8, 0.25, 1)}.mat-form-field-subscript-wrapper{position:absolute;box-sizing:border-box;width:100%;overflow:hidden}.mat-form-field-subscript-wrapper .mat-icon,.mat-form-field-label-wrapper .mat-icon{width:1em;height:1em;font-size:inherit;vertical-align:baseline}.mat-form-field-hint-wrapper{display:flex}.mat-form-field-hint-spacer{flex:1 0 1em}.mat-error{display:block}.mat-form-field-control-wrapper{position:relative}.mat-form-field-hint-end{order:1}.mat-form-field._mat-animation-noopable .mat-form-field-label,.mat-form-field._mat-animation-noopable .mat-form-field-ripple{transition:none}\\n</style><style>.mat-form-field-appearance-fill .mat-form-field-flex{border-radius:4px 4px 0 0;padding:.75em .75em 0 .75em}.cdk-high-contrast-active .mat-form-field-appearance-fill .mat-form-field-flex{outline:solid 1px}.cdk-high-contrast-active .mat-form-field-appearance-fill.mat-focused .mat-form-field-flex{outline:dashed 3px}.mat-form-field-appearance-fill .mat-form-field-underline::before{content:\"\";display:block;position:absolute;bottom:0;height:1px;width:100%}.mat-form-field-appearance-fill .mat-form-field-ripple{bottom:0;height:2px}.cdk-high-contrast-active .mat-form-field-appearance-fill .mat-form-field-ripple{height:0}.mat-form-field-appearance-fill:not(.mat-form-field-disabled) .mat-form-field-flex:hover~.mat-form-field-underline .mat-form-field-ripple{opacity:1;transform:none;transition:opacity 600ms cubic-bezier(0.25, 0.8, 0.25, 1)}.mat-form-field-appearance-fill._mat-animation-noopable:not(.mat-form-field-disabled) .mat-form-field-flex:hover~.mat-form-field-underline .mat-form-field-ripple{transition:none}.mat-form-field-appearance-fill .mat-form-field-subscript-wrapper{padding:0 1em}\\n</style><style>.mat-input-element{font:inherit;background:transparent;color:currentColor;border:none;outline:none;padding:0;margin:0;width:100%;max-width:100%;vertical-align:bottom;text-align:inherit;box-sizing:content-box}.mat-input-element:-moz-ui-invalid{box-shadow:none}.mat-input-element::-ms-clear,.mat-input-element::-ms-reveal{display:none}.mat-input-element,.mat-input-element::-webkit-search-cancel-button,.mat-input-element::-webkit-search-decoration,.mat-input-element::-webkit-search-results-button,.mat-input-element::-webkit-search-results-decoration{-webkit-appearance:none}.mat-input-element::-webkit-contacts-auto-fill-button,.mat-input-element::-webkit-caps-lock-indicator,.mat-input-element::-webkit-credentials-auto-fill-button{visibility:hidden}.mat-input-element[type=date],.mat-input-element[type=datetime],.mat-input-element[type=datetime-local],.mat-input-element[type=month],.mat-input-element[type=week],.mat-input-element[type=time]{line-height:1}.mat-input-element[type=date]::after,.mat-input-element[type=datetime]::after,.mat-input-element[type=datetime-local]::after,.mat-input-element[type=month]::after,.mat-input-element[type=week]::after,.mat-input-element[type=time]::after{content:\" \";white-space:pre;width:1px}.mat-input-element::-webkit-inner-spin-button,.mat-input-element::-webkit-calendar-picker-indicator,.mat-input-element::-webkit-clear-button{font-size:.75em}.mat-input-element::placeholder{-webkit-user-select:none;-moz-user-select:none;-ms-user-select:none;user-select:none;transition:color 400ms 133.3333333333ms cubic-bezier(0.25, 0.8, 0.25, 1)}.mat-input-element::placeholder:-ms-input-placeholder{-ms-user-select:text}.mat-input-element::-moz-placeholder{-webkit-user-select:none;-moz-user-select:none;-ms-user-select:none;user-select:none;transition:color 400ms 133.3333333333ms cubic-bezier(0.25, 0.8, 0.25, 1)}.mat-input-element::-moz-placeholder:-ms-input-placeholder{-ms-user-select:text}.mat-input-element::-webkit-input-placeholder{-webkit-user-select:none;-moz-user-select:none;-ms-user-select:none;user-select:none;transition:color 400ms 133.3333333333ms cubic-bezier(0.25, 0.8, 0.25, 1)}.mat-input-element::-webkit-input-placeholder:-ms-input-placeholder{-ms-user-select:text}.mat-input-element:-ms-input-placeholder{-webkit-user-select:none;-moz-user-select:none;-ms-user-select:none;user-select:none;transition:color 400ms 133.3333333333ms cubic-bezier(0.25, 0.8, 0.25, 1)}.mat-input-element:-ms-input-placeholder:-ms-input-placeholder{-ms-user-select:text}.mat-form-field-hide-placeholder .mat-input-element::placeholder{color:transparent !important;-webkit-text-fill-color:transparent;transition:none}.cdk-high-contrast-active .mat-form-field-hide-placeholder .mat-input-element::placeholder{opacity:0}.mat-form-field-hide-placeholder .mat-input-element::-moz-placeholder{color:transparent !important;-webkit-text-fill-color:transparent;transition:none}.cdk-high-contrast-active .mat-form-field-hide-placeholder .mat-input-element::-moz-placeholder{opacity:0}.mat-form-field-hide-placeholder .mat-input-element::-webkit-input-placeholder{color:transparent !important;-webkit-text-fill-color:transparent;transition:none}.cdk-high-contrast-active .mat-form-field-hide-placeholder .mat-input-element::-webkit-input-placeholder{opacity:0}.mat-form-field-hide-placeholder .mat-input-element:-ms-input-placeholder{color:transparent !important;-webkit-text-fill-color:transparent;transition:none}.cdk-high-contrast-active .mat-form-field-hide-placeholder .mat-input-element:-ms-input-placeholder{opacity:0}textarea.mat-input-element{resize:vertical;overflow:auto}textarea.mat-input-element.cdk-textarea-autosize{resize:none}textarea.mat-input-element{padding:2px 0;margin:-2px 0}select.mat-input-element{-moz-appearance:none;-webkit-appearance:none;position:relative;background-color:transparent;display:inline-flex;box-sizing:border-box;padding-top:1em;top:-1em;margin-bottom:-1em}select.mat-input-element::-ms-expand{display:none}select.mat-input-element::-moz-focus-inner{border:0}select.mat-input-element:not(:disabled){cursor:pointer}select.mat-input-element::-ms-value{color:inherit;background:none}.mat-focused .cdk-high-contrast-active select.mat-input-element::-ms-value{color:inherit}.mat-form-field-type-mat-native-select .mat-form-field-infix::after{content:\"\";width:0;height:0;border-left:5px solid transparent;border-right:5px solid transparent;border-top:5px solid;position:absolute;top:50%;right:0;margin-top:-2.5px;pointer-events:none}[dir=rtl] .mat-form-field-type-mat-native-select .mat-form-field-infix::after{right:auto;left:0}.mat-form-field-type-mat-native-select .mat-input-element{padding-right:15px}[dir=rtl] .mat-form-field-type-mat-native-select .mat-input-element{padding-right:0;padding-left:15px}.mat-form-field-type-mat-native-select .mat-form-field-label-wrapper{max-width:calc(100% - 10px)}.mat-form-field-type-mat-native-select.mat-form-field-appearance-outline .mat-form-field-infix::after{margin-top:-5px}.mat-form-field-type-mat-native-select.mat-form-field-appearance-fill .mat-form-field-infix::after{margin-top:-10px}\\n</style><style>.mat-form-field-appearance-legacy .mat-form-field-label{transform:perspective(100px);-ms-transform:none}.mat-form-field-appearance-legacy .mat-form-field-prefix .mat-icon,.mat-form-field-appearance-legacy .mat-form-field-suffix .mat-icon{width:1em}.mat-form-field-appearance-legacy .mat-form-field-prefix .mat-icon-button,.mat-form-field-appearance-legacy .mat-form-field-suffix .mat-icon-button{font:inherit;vertical-align:baseline}.mat-form-field-appearance-legacy .mat-form-field-prefix .mat-icon-button .mat-icon,.mat-form-field-appearance-legacy .mat-form-field-suffix .mat-icon-button .mat-icon{font-size:inherit}.mat-form-field-appearance-legacy .mat-form-field-underline{height:1px}.cdk-high-contrast-active .mat-form-field-appearance-legacy .mat-form-field-underline{height:0;border-top:solid 1px}.mat-form-field-appearance-legacy .mat-form-field-ripple{top:0;height:2px;overflow:hidden}.cdk-high-contrast-active .mat-form-field-appearance-legacy .mat-form-field-ripple{height:0;border-top:solid 2px}.mat-form-field-appearance-legacy.mat-form-field-disabled .mat-form-field-underline{background-position:0;background-color:transparent}.cdk-high-contrast-active .mat-form-field-appearance-legacy.mat-form-field-disabled .mat-form-field-underline{border-top-style:dotted;border-top-width:2px}.mat-form-field-appearance-legacy.mat-form-field-invalid:not(.mat-focused) .mat-form-field-ripple{height:1px}\\n</style><style>.mat-form-field-appearance-outline .mat-form-field-wrapper{margin:.25em 0}.mat-form-field-appearance-outline .mat-form-field-flex{padding:0 .75em 0 .75em;margin-top:-0.25em;position:relative}.mat-form-field-appearance-outline .mat-form-field-prefix,.mat-form-field-appearance-outline .mat-form-field-suffix{top:.25em}.mat-form-field-appearance-outline .mat-form-field-outline{display:flex;position:absolute;top:.25em;left:0;right:0;bottom:0;pointer-events:none}.mat-form-field-appearance-outline .mat-form-field-outline-start,.mat-form-field-appearance-outline .mat-form-field-outline-end{border:1px solid currentColor;min-width:5px}.mat-form-field-appearance-outline .mat-form-field-outline-start{border-radius:5px 0 0 5px;border-right-style:none}[dir=rtl] .mat-form-field-appearance-outline .mat-form-field-outline-start{border-right-style:solid;border-left-style:none;border-radius:0 5px 5px 0}.mat-form-field-appearance-outline .mat-form-field-outline-end{border-radius:0 5px 5px 0;border-left-style:none;flex-grow:1}[dir=rtl] .mat-form-field-appearance-outline .mat-form-field-outline-end{border-left-style:solid;border-right-style:none;border-radius:5px 0 0 5px}.mat-form-field-appearance-outline .mat-form-field-outline-gap{border-radius:.000001px;border:1px solid currentColor;border-left-style:none;border-right-style:none}.mat-form-field-appearance-outline.mat-form-field-can-float.mat-form-field-should-float .mat-form-field-outline-gap{border-top-color:transparent}.mat-form-field-appearance-outline .mat-form-field-outline-thick{opacity:0}.mat-form-field-appearance-outline .mat-form-field-outline-thick .mat-form-field-outline-start,.mat-form-field-appearance-outline .mat-form-field-outline-thick .mat-form-field-outline-end,.mat-form-field-appearance-outline .mat-form-field-outline-thick .mat-form-field-outline-gap{border-width:2px}.mat-form-field-appearance-outline.mat-focused .mat-form-field-outline,.mat-form-field-appearance-outline.mat-form-field-invalid .mat-form-field-outline{opacity:0;transition:opacity 100ms cubic-bezier(0.25, 0.8, 0.25, 1)}.mat-form-field-appearance-outline.mat-focused .mat-form-field-outline-thick,.mat-form-field-appearance-outline.mat-form-field-invalid .mat-form-field-outline-thick{opacity:1}.cdk-high-contrast-active .mat-form-field-appearance-outline.mat-focused .mat-form-field-outline-thick{border:3px dashed}.mat-form-field-appearance-outline:not(.mat-form-field-disabled) .mat-form-field-flex:hover .mat-form-field-outline{opacity:0;transition:opacity 600ms cubic-bezier(0.25, 0.8, 0.25, 1)}.mat-form-field-appearance-outline:not(.mat-form-field-disabled) .mat-form-field-flex:hover .mat-form-field-outline-thick{opacity:1}.mat-form-field-appearance-outline .mat-form-field-subscript-wrapper{padding:0 1em}.mat-form-field-appearance-outline._mat-animation-noopable:not(.mat-form-field-disabled) .mat-form-field-flex:hover~.mat-form-field-outline,.mat-form-field-appearance-outline._mat-animation-noopable .mat-form-field-outline,.mat-form-field-appearance-outline._mat-animation-noopable .mat-form-field-outline-start,.mat-form-field-appearance-outline._mat-animation-noopable .mat-form-field-outline-end,.mat-form-field-appearance-outline._mat-animation-noopable .mat-form-field-outline-gap{transition:none}\\n</style><style>.mat-form-field-appearance-standard .mat-form-field-flex{padding-top:.75em}.mat-form-field-appearance-standard .mat-form-field-underline{height:1px}.cdk-high-contrast-active .mat-form-field-appearance-standard .mat-form-field-underline{height:0;border-top:solid 1px}.mat-form-field-appearance-standard .mat-form-field-ripple{bottom:0;height:2px}.cdk-high-contrast-active .mat-form-field-appearance-standard .mat-form-field-ripple{height:0;border-top:solid 2px}.mat-form-field-appearance-standard.mat-form-field-disabled .mat-form-field-underline{background-position:0;background-color:transparent}.cdk-high-contrast-active .mat-form-field-appearance-standard.mat-form-field-disabled .mat-form-field-underline{border-top-style:dotted;border-top-width:2px}.mat-form-field-appearance-standard:not(.mat-form-field-disabled) .mat-form-field-flex:hover~.mat-form-field-underline .mat-form-field-ripple{opacity:1;transform:none;transition:opacity 600ms cubic-bezier(0.25, 0.8, 0.25, 1)}.mat-form-field-appearance-standard._mat-animation-noopable:not(.mat-form-field-disabled) .mat-form-field-flex:hover~.mat-form-field-underline .mat-form-field-ripple{transition:none}\\n</style><style>.mat-select{display:inline-block;width:100%;outline:none}.mat-select-trigger{display:inline-table;cursor:pointer;position:relative;box-sizing:border-box}.mat-select-disabled .mat-select-trigger{-webkit-user-select:none;-moz-user-select:none;-ms-user-select:none;user-select:none;cursor:default}.mat-select-value{display:table-cell;max-width:0;width:100%;overflow:hidden;text-overflow:ellipsis;white-space:nowrap}.mat-select-value-text{white-space:nowrap;overflow:hidden;text-overflow:ellipsis}.mat-select-arrow-wrapper{display:table-cell;vertical-align:middle}.mat-form-field-appearance-fill .mat-select-arrow-wrapper{transform:translateY(-50%)}.mat-form-field-appearance-outline .mat-select-arrow-wrapper{transform:translateY(-25%)}.mat-form-field-appearance-standard.mat-form-field-has-label .mat-select:not(.mat-select-empty) .mat-select-arrow-wrapper{transform:translateY(-50%)}.mat-form-field-appearance-standard .mat-select.mat-select-empty .mat-select-arrow-wrapper{transition:transform 400ms cubic-bezier(0.25, 0.8, 0.25, 1)}._mat-animation-noopable.mat-form-field-appearance-standard .mat-select.mat-select-empty .mat-select-arrow-wrapper{transition:none}.mat-select-arrow{width:0;height:0;border-left:5px solid transparent;border-right:5px solid transparent;border-top:5px solid;margin:0 4px}.mat-select-panel-wrap{flex-basis:100%}.mat-select-panel{min-width:112px;max-width:280px;overflow:auto;-webkit-overflow-scrolling:touch;padding-top:0;padding-bottom:0;max-height:256px;min-width:100%;border-radius:4px;outline:0}.cdk-high-contrast-active .mat-select-panel{outline:solid 1px}.mat-select-panel .mat-optgroup-label,.mat-select-panel .mat-option{font-size:inherit;line-height:3em;height:3em}.mat-form-field-type-mat-select:not(.mat-form-field-disabled) .mat-form-field-flex{cursor:pointer}.mat-form-field-type-mat-select .mat-form-field-label{width:calc(100% - 18px)}.mat-select-placeholder{transition:color 400ms 133.3333333333ms cubic-bezier(0.25, 0.8, 0.25, 1)}._mat-animation-noopable .mat-select-placeholder{transition:none}.mat-form-field-hide-placeholder .mat-select-placeholder{color:transparent;-webkit-text-fill-color:transparent;transition:none;display:block}.mat-select-min-line:empty::before{content:\" \";white-space:pre;width:1px;display:inline-block;opacity:0}\\n</style><style>.mat-option{white-space:nowrap;overflow:hidden;text-overflow:ellipsis;display:block;line-height:48px;height:48px;padding:0 16px;text-align:left;text-decoration:none;max-width:100%;position:relative;cursor:pointer;outline:none;display:flex;flex-direction:row;max-width:100%;box-sizing:border-box;align-items:center;-webkit-tap-highlight-color:transparent}.mat-option[disabled]{cursor:default}[dir=rtl] .mat-option{text-align:right}.mat-option .mat-icon{margin-right:16px;vertical-align:middle}.mat-option .mat-icon svg{vertical-align:top}[dir=rtl] .mat-option .mat-icon{margin-left:16px;margin-right:0}.mat-option[aria-disabled=true]{-webkit-user-select:none;-moz-user-select:none;-ms-user-select:none;user-select:none;cursor:default}.mat-optgroup .mat-option:not(.mat-option-multiple){padding-left:32px}[dir=rtl] .mat-optgroup .mat-option:not(.mat-option-multiple){padding-left:16px;padding-right:32px}.cdk-high-contrast-active .mat-option{margin:0 1px}.cdk-high-contrast-active .mat-option.mat-active{border:solid 1px currentColor;margin:0}.cdk-high-contrast-active .mat-option[aria-disabled=true]{opacity:.5}.mat-option-text{display:inline-block;flex-grow:1;overflow:hidden;text-overflow:ellipsis}.mat-option .mat-option-ripple{top:0;left:0;right:0;bottom:0;position:absolute;pointer-events:none}.mat-option-pseudo-checkbox{margin-right:8px}[dir=rtl] .mat-option-pseudo-checkbox{margin-left:8px;margin-right:0}\\n</style><style>.content[_ngcontent-serverApp-c205]{max-height:16.0625rem;text-decoration:none}.logo[_ngcontent-serverApp-c205]{width:100%}.logo[_ngcontent-serverApp-c205]   .img-wrapper[_ngcontent-serverApp-c205]{align-items:center;box-sizing:border-box;display:flex;justify-content:center;min-height:8.4375rem;padding:2.1875rem 2.75rem 1.125rem;width:100%}.logo[_ngcontent-serverApp-c205]   .img-wrapper[_ngcontent-serverApp-c205]   img[_ngcontent-serverApp-c205]{max-height:5.3125rem;max-width:11.25rem}.info[_ngcontent-serverApp-c205]{background-color:#fff;box-sizing:border-box;padding:1.125rem 2.75rem 2.1875rem;width:100%}.info[_ngcontent-serverApp-c205]   .name[_ngcontent-serverApp-c205], .info[_ngcontent-serverApp-c205]   .short-description[_ngcontent-serverApp-c205]{-webkit-box-orient:vertical;display:-webkit-box;-webkit-line-clamp:2;overflow:hidden;text-align:center;word-break:break-word}.info[_ngcontent-serverApp-c205]   .name[_ngcontent-serverApp-c205]{background-color:#fff;color:#202124;height:1.25rem;margin-bottom:.5rem}.info[_ngcontent-serverApp-c205]   .short-description[_ngcontent-serverApp-c205]{background-color:#fff;color:#80868b;font-size:.875rem;height:40px}</style><style>.card[_ngcontent-serverApp-c84]{background-color:#fff;border-radius:16px;box-shadow:5px 5px 180px 6px #0000000f;overflow:hidden}</style></head>\\n\\n    <body class=\"gsoc-mat-theme\">\\n        <app-root ng-version=\"12.2.0\"><app-layout _nghost-serverapp-c76=\"\"><app-toolbar-side _ngcontent-serverapp-c76=\"\" aria-hidden=\"true\" _nghost-serverapp-c51=\"\"><div _ngcontent-serverapp-c51=\"\" class=\"toolbar-side\"><button _ngcontent-serverapp-c51=\"\" mat-icon-button=\"\" class=\"mat-focus-indicator toolbar-side__toggle mat-icon-button mat-button-base\"><span class=\"mat-button-wrapper\"><mat-icon _ngcontent-serverapp-c51=\"\" role=\"img\" aria-label=\"Open menu\" svgicon=\"custom:menu\" class=\"mat-icon notranslate mat-icon-no-color ng-star-inserted\" aria-hidden=\"true\" data-mat-icon-type=\"svg\" data-mat-icon-name=\"menu\" data-mat-icon-namespace=\"custom\"><svg xmlns=\"http://www.w3.org/2000/svg\" viewBox=\"0 0 32 32\" fit=\"\" height=\"100%\" width=\"100%\" preserveAspectRatio=\"xMidYMid meet\" focusable=\"false\">\\n    <line x1=\"0\" y1=\"6\" x2=\"32\" y2=\"6\" stroke-width=\"3\"></line>\\n    <line x1=\"0\" y1=\"16\" x2=\"32\" y2=\"16\" stroke-width=\"3\"></line>\\n    <line x1=\"0\" y1=\"26\" x2=\"23\" y2=\"26\" stroke-width=\"3\"></line>\\n</svg></mat-icon><!----><!----></span><span matripple=\"\" class=\"mat-ripple mat-button-ripple mat-button-ripple-round\"></span><span class=\"mat-button-focus-overlay\"></span></button><div _ngcontent-serverapp-c51=\"\" class=\"toolbar-side__logo__wrapper\"><div _ngcontent-serverapp-c51=\"\" aria-hidden=\"true\" class=\"toolbar-side__logo\"><img _ngcontent-serverapp-c51=\"\" src=\"/assets/media/logo.svg\" alt=\"Google Summer of Code logo\"></div></div></div></app-toolbar-side><mat-sidenav-container _ngcontent-serverapp-c76=\"\" class=\"mat-drawer-container mat-sidenav-container site\"><div class=\"mat-drawer-backdrop ng-star-inserted\"></div><!----><div class=\"cdk-visually-hidden cdk-focus-trap-anchor\" aria-hidden=\"true\"></div><mat-sidenav _ngcontent-serverapp-c76=\"\" tabindex=\"-1\" mode=\"over\" position=\"start\" class=\"mat-drawer mat-sidenav ng-tns-c56-0 ng-trigger ng-trigger-transform mat-drawer-over mat-sidenav-fixed ng-star-inserted\" style=\"top: 0px; bottom: 0px; box-shadow: none; visibility: hidden;\"><div cdkscrollable=\"\" class=\"mat-drawer-inner-container ng-tns-c56-0\"><app-site-nav _ngcontent-serverapp-c76=\"\" _nghost-serverapp-c60=\"\" class=\"ng-tns-c56-0\"><nav _ngcontent-serverapp-c60=\"\" class=\"site-nav\"><div _ngcontent-serverapp-c60=\"\" class=\"site-nav__close\"><button _ngcontent-serverapp-c60=\"\" mat-icon-button=\"\" class=\"mat-focus-indicator mat-icon-button mat-button-base\"><span class=\"mat-button-wrapper\"><mat-icon _ngcontent-serverapp-c60=\"\" role=\"img\" class=\"mat-icon notranslate google-material-icons mat-icon-no-color\" aria-hidden=\"true\" data-mat-icon-type=\"font\">close</mat-icon></span><span matripple=\"\" class=\"mat-ripple mat-button-ripple mat-button-ripple-round\"></span><span class=\"mat-button-focus-overlay\"></span></button></div><ul _ngcontent-serverapp-c60=\"\" class=\"site-nav__main\"><li _ngcontent-serverapp-c60=\"\"><a _ngcontent-serverapp-c60=\"\" app-route=\"HOME\" href=\"/\" class=\"\"> Home </a></li><li _ngcontent-serverapp-c60=\"\"><a _ngcontent-serverapp-c60=\"\" app-route=\"PUBLIC_ABOUT\" href=\"/about\">About</a></li><li _ngcontent-serverapp-c60=\"\"><a _ngcontent-serverapp-c60=\"\" app-route=\"PUBLIC_HOW_IT_WORKS\" href=\"/how-it-works\">How it works</a></li><li _ngcontent-serverapp-c60=\"\"><a _ngcontent-serverapp-c60=\"\" app-route=\"PUBLIC_GET_STARTED\" href=\"/get-started\">Get started</a></li><!----><!----><li _ngcontent-serverapp-c60=\"\"><a _ngcontent-serverapp-c60=\"\" app-route=\"ARCHIVED_PROGRAMS\" href=\"/archive\">Past programs</a></li></ul><ul _ngcontent-serverapp-c60=\"\" class=\"site-nav__footer\"><li _ngcontent-serverapp-c60=\"\"><a _ngcontent-serverapp-c60=\"\" app-route=\"PUBLIC_HELP\" href=\"/help\">Help</a></li><li _ngcontent-serverapp-c60=\"\"><a _ngcontent-serverapp-c60=\"\" app-route=\"PUBLIC_RULES\" href=\"/rules\">Rules</a></li><li _ngcontent-serverapp-c60=\"\"><a _ngcontent-serverapp-c60=\"\" app-route=\"PUBLIC_TERMS\" href=\"/terms\">Terms</a></li><!----></ul></nav></app-site-nav></div></mat-sidenav><div class=\"cdk-visually-hidden cdk-focus-trap-anchor\" aria-hidden=\"true\"></div><mat-sidenav-content _ngcontent-serverapp-c76=\"\" class=\"mat-drawer-content mat-sidenav-content site__main theme theme--gray ng-star-inserted\"><app-toolbar-top _ngcontent-serverapp-c76=\"\" _nghost-serverapp-c63=\"\"><mat-toolbar _ngcontent-serverapp-c63=\"\" class=\"mat-toolbar mat-elevation-z3 toolbar-top mat-toolbar-single-row\"><div _ngcontent-serverapp-c63=\"\" class=\"toolbar-top__left\"><button _ngcontent-serverapp-c63=\"\" mat-icon-button=\"\" class=\"mat-focus-indicator toolbar-top__toggle mat-icon-button mat-button-base\"><span class=\"mat-button-wrapper\"><mat-icon _ngcontent-serverapp-c63=\"\" role=\"img\" aria-label=\"Open menu\" svgicon=\"custom:menu\" class=\"mat-icon notranslate mat-icon-no-color\" aria-hidden=\"true\" data-mat-icon-type=\"svg\" data-mat-icon-name=\"menu\" data-mat-icon-namespace=\"custom\"><svg xmlns=\"http://www.w3.org/2000/svg\" viewBox=\"0 0 32 32\" fit=\"\" height=\"100%\" width=\"100%\" preserveAspectRatio=\"xMidYMid meet\" focusable=\"false\">\\n    <line x1=\"0\" y1=\"6\" x2=\"32\" y2=\"6\" stroke-width=\"3\"></line>\\n    <line x1=\"0\" y1=\"16\" x2=\"32\" y2=\"16\" stroke-width=\"3\"></line>\\n    <line x1=\"0\" y1=\"26\" x2=\"23\" y2=\"26\" stroke-width=\"3\"></line>\\n</svg></mat-icon></span><span matripple=\"\" class=\"mat-ripple mat-button-ripple mat-button-ripple-round\"></span><span class=\"mat-button-focus-overlay\"></span></button></div><a _ngcontent-serverapp-c63=\"\" app-route=\"HOME\" class=\"toolbar-top__logo\" href=\"/\"><img _ngcontent-serverapp-c63=\"\" src=\"/assets/media/logo.svg\" alt=\"Google Summer of Code logo\"></a><div _ngcontent-serverapp-c63=\"\" class=\"toolbar-top__right\"></div></mat-toolbar></app-toolbar-top><!----><app-user-menu _ngcontent-serverapp-c76=\"\" class=\"ng-star-inserted\"><app-user-menu-toggle _nghost-serverapp-c70=\"\"><button _ngcontent-serverapp-c70=\"\" matripple=\"\" class=\"mat-ripple user-menu-toggle ng-star-inserted\"><p _ngcontent-serverapp-c70=\"\">Log in</p><mat-icon _ngcontent-serverapp-c70=\"\" role=\"img\" aria-hidden=\"true\" class=\"mat-icon notranslate avatar avatar--unauthed google-material-icons mat-icon-no-color\" data-mat-icon-type=\"font\">person_filled</mat-icon></button><!----><!----></app-user-menu-toggle><mat-menu xposition=\"before\" yposition=\"below\" class=\"ng-star-inserted\"><!----></mat-menu></app-user-menu><!----><div _ngcontent-serverapp-c76=\"\" class=\"layout layout--public ng-star-inserted\"><div _ngcontent-serverapp-c76=\"\" class=\"layout__inner\"><main _ngcontent-serverapp-c76=\"\" role=\"main\" class=\"layout__inner__content\"><router-outlet class=\"ng-star-inserted\"></router-outlet><app-organizations class=\"ng-star-inserted\"><app-orgs-page-title _nghost-serverapp-c207=\"\"><app-archive-page-title _ngcontent-serverapp-c207=\"\" title=\"Organizations\" _nghost-serverapp-c101=\"\"><div _ngcontent-serverapp-c101=\"\" class=\"feature-banner__dots\"></div><app-feature-banner _ngcontent-serverapp-c101=\"\" _nghost-serverapp-c79=\"\"><section _ngcontent-serverapp-c79=\"\" class=\"section undefined theme--blue\"><!----><div _ngcontent-serverapp-c79=\"\" class=\"section__inner\"><app-feature-cta _ngcontent-serverapp-c101=\"\"><div class=\"feature-cta\"><div><div _ngcontent-serverapp-c101=\"\" heading=\"\" class=\"heading\"><div _ngcontent-serverapp-c101=\"\"><ul _ngcontent-serverapp-c101=\"\" class=\"breadcrumbs\"><li _ngcontent-serverapp-c101=\"\"> 2021 Program </li></ul><div _ngcontent-serverapp-c101=\"\" class=\"gsoc-dark-theme heading__text-wrapper\"><h2 _ngcontent-serverapp-c101=\"\" class=\"heading__text\">Organizations</h2><button _ngcontent-serverapp-c101=\"\" mat-stroked-button=\"\" type=\"button\" class=\"mat-focus-indicator heading__cta mat-stroked-button mat-button-base\" tabindex=\"0\"><span class=\"mat-button-wrapper\"><mat-icon _ngcontent-serverapp-c101=\"\" role=\"img\" class=\"mat-icon notranslate google-material-icons mat-icon-no-color\" aria-hidden=\"true\" data-mat-icon-type=\"font\">swap_horizontal_circle</mat-icon><span _ngcontent-serverapp-c101=\"\">View Projects</span></span><span matripple=\"\" class=\"mat-ripple mat-button-ripple\"></span><span class=\"mat-button-focus-overlay\"></span></button><!----></div><div _ngcontent-serverapp-c101=\"\" class=\"body\"></div></div></div></div><div class=\"vr\"></div><div></div><div class=\"vr vr--3x\"></div></div></app-feature-cta></div></section></app-feature-banner></app-archive-page-title></app-orgs-page-title><app-orgs-grid _nghost-serverapp-c206=\"\"><section _ngcontent-serverapp-c206=\"\" class=\"section__header\"><mat-chip-list _ngcontent-serverapp-c206=\"\" class=\"mat-chip-list\" id=\"mat-chip-list-0\" tabindex=\"0\" aria-required=\"false\" aria-disabled=\"false\" aria-invalid=\"false\" aria-multiselectable=\"false\" role=\"listbox\" aria-orientation=\"horizontal\"><div class=\"mat-chip-list-wrapper\"><mat-chip _ngcontent-serverapp-c206=\"\" role=\"option\" value=\"\" class=\"mat-chip mat-focus-indicator mat-elevation-z2 mat-primary mat-standard-chip mat-chip-selected\" tabindex=\"-1\" aria-disabled=\"false\" aria-selected=\"true\"><div class=\"mat-chip-ripple\"></div> All </mat-chip><mat-chip _ngcontent-serverapp-c206=\"\" role=\"option\" class=\"mat-chip mat-focus-indicator mat-elevation-z2 mat-primary mat-standard-chip ng-star-inserted\" tabindex=\"-1\" aria-disabled=\"false\"><div class=\"mat-chip-ripple\"></div> Data </mat-chip><mat-chip _ngcontent-serverapp-c206=\"\" role=\"option\" class=\"mat-chip mat-focus-indicator mat-elevation-z2 mat-primary mat-standard-chip ng-star-inserted\" tabindex=\"-1\" aria-disabled=\"false\"><div class=\"mat-chip-ripple\"></div> End user applications </mat-chip><mat-chip _ngcontent-serverapp-c206=\"\" role=\"option\" class=\"mat-chip mat-focus-indicator mat-elevation-z2 mat-primary mat-standard-chip ng-star-inserted\" tabindex=\"-1\" aria-disabled=\"false\"><div class=\"mat-chip-ripple\"></div> Infrastructure and cloud </mat-chip><mat-chip _ngcontent-serverapp-c206=\"\" role=\"option\" class=\"mat-chip mat-focus-indicator mat-elevation-z2 mat-primary mat-standard-chip ng-star-inserted\" tabindex=\"-1\" aria-disabled=\"false\"><div class=\"mat-chip-ripple\"></div> Media </mat-chip><mat-chip _ngcontent-serverapp-c206=\"\" role=\"option\" class=\"mat-chip mat-focus-indicator mat-elevation-z2 mat-primary mat-standard-chip ng-star-inserted\" tabindex=\"-1\" aria-disabled=\"false\"><div class=\"mat-chip-ripple\"></div> Operating systems </mat-chip><mat-chip _ngcontent-serverapp-c206=\"\" role=\"option\" class=\"mat-chip mat-focus-indicator mat-elevation-z2 mat-primary mat-standard-chip ng-star-inserted\" tabindex=\"-1\" aria-disabled=\"false\"><div class=\"mat-chip-ripple\"></div> Programming languages </mat-chip><mat-chip _ngcontent-serverapp-c206=\"\" role=\"option\" class=\"mat-chip mat-focus-indicator mat-elevation-z2 mat-primary mat-standard-chip ng-star-inserted\" tabindex=\"-1\" aria-disabled=\"false\"><div class=\"mat-chip-ripple\"></div> Science and medicine </mat-chip><mat-chip _ngcontent-serverapp-c206=\"\" role=\"option\" class=\"mat-chip mat-focus-indicator mat-elevation-z2 mat-primary mat-standard-chip ng-star-inserted\" tabindex=\"-1\" aria-disabled=\"false\"><div class=\"mat-chip-ripple\"></div> Security </mat-chip><mat-chip _ngcontent-serverapp-c206=\"\" role=\"option\" class=\"mat-chip mat-focus-indicator mat-elevation-z2 mat-primary mat-standard-chip ng-star-inserted\" tabindex=\"-1\" aria-disabled=\"false\"><div class=\"mat-chip-ripple\"></div> Social and communication </mat-chip><mat-chip _ngcontent-serverapp-c206=\"\" role=\"option\" class=\"mat-chip mat-focus-indicator mat-elevation-z2 mat-primary mat-standard-chip ng-star-inserted\" tabindex=\"-1\" aria-disabled=\"false\"><div class=\"mat-chip-ripple\"></div> Web </mat-chip><mat-chip _ngcontent-serverapp-c206=\"\" role=\"option\" class=\"mat-chip mat-focus-indicator mat-elevation-z2 mat-primary mat-standard-chip ng-star-inserted\" tabindex=\"-1\" aria-disabled=\"false\"><div class=\"mat-chip-ripple\"></div> Other </mat-chip><!----></div></mat-chip-list></section><section _ngcontent-serverapp-c206=\"\" class=\"list-wrapper section theme--gray\"><div _ngcontent-serverapp-c206=\"\" class=\"section__inner top-padding-search-fixed ng-star-inserted\"><div _ngcontent-serverapp-c206=\"\" class=\"archive-search-wrapper ng-star-inserted\"><app-archive-search _ngcontent-serverapp-c206=\"\" _nghost-serverapp-c130=\"\"><div _ngcontent-serverapp-c130=\"\" class=\"input-wrapper\"><input _ngcontent-serverapp-c130=\"\" matinput=\"\" autocomplete=\"off\" class=\"mat-input-element mat-form-field-autofill-control ng-untouched ng-pristine ng-valid cdk-text-field-autofill-monitored\" placeholder=\"Search organizations, technology or topics\" id=\"mat-input-0\" data-placeholder=\"Search organizations, technology or topics\" aria-invalid=\"false\" aria-required=\"false\"><mat-icon _ngcontent-serverapp-c130=\"\" role=\"img\" aria-hidden=\"true\" class=\"mat-icon notranslate google-material-icons mat-icon-no-color\" data-mat-icon-type=\"font\">search</mat-icon></div><!----></app-archive-search></div><!----><div _ngcontent-serverapp-c206=\"\" class=\"ng-star-inserted\"><mat-paginator _ngcontent-serverapp-c206=\"\" role=\"group\" aria-label=\"Select page\" class=\"mat-paginator vr vr--4x\"><div class=\"mat-paginator-outer-container\"><div class=\"mat-paginator-container\"><div class=\"mat-paginator-page-size ng-star-inserted\"><div class=\"mat-paginator-page-size-label\"> Items per page: </div><mat-form-field class=\"mat-form-field mat-paginator-page-size-select ng-tns-c43-2 mat-primary mat-form-field-type-mat-select mat-form-field-appearance-outline mat-form-field-can-float ng-star-inserted mat-form-field-should-float\"><div class=\"mat-form-field-wrapper ng-tns-c43-2\"><div class=\"mat-form-field-flex ng-tns-c43-2\"><div class=\"mat-form-field-outline ng-tns-c43-2 ng-star-inserted\"><div class=\"mat-form-field-outline-start ng-tns-c43-2\"></div><div class=\"mat-form-field-outline-gap ng-tns-c43-2\"></div><div class=\"mat-form-field-outline-end ng-tns-c43-2\"></div></div><div class=\"mat-form-field-outline mat-form-field-outline-thick ng-tns-c43-2 ng-star-inserted\"><div class=\"mat-form-field-outline-start ng-tns-c43-2\"></div><div class=\"mat-form-field-outline-gap ng-tns-c43-2\"></div><div class=\"mat-form-field-outline-end ng-tns-c43-2\"></div></div><!----><!----><!----><div class=\"mat-form-field-infix ng-tns-c43-2\"><mat-select role=\"combobox\" aria-autocomplete=\"none\" aria-haspopup=\"true\" class=\"mat-select ng-tns-c132-3 ng-tns-c43-2 ng-star-inserted\" id=\"mat-select-0\" tabindex=\"0\" aria-expanded=\"false\" aria-label=\"Items per page:\" aria-required=\"false\" aria-disabled=\"false\" aria-invalid=\"false\"><div cdk-overlay-origin=\"\" class=\"mat-select-trigger ng-tns-c132-3\"><div class=\"mat-select-value ng-tns-c132-3\" id=\"mat-select-value-1\"><!----><span class=\"mat-select-value-text ng-tns-c132-3 ng-star-inserted\"><span class=\"mat-select-min-line ng-tns-c132-3 ng-star-inserted\">50</span><!----><!----></span><!----></div><div class=\"mat-select-arrow-wrapper ng-tns-c132-3\"><div class=\"mat-select-arrow ng-tns-c132-3\"></div></div></div><!----></mat-select><span class=\"mat-form-field-label-wrapper ng-tns-c43-2\"><!----></span></div><!----></div><!----><div class=\"mat-form-field-subscript-wrapper ng-tns-c43-2\"><!----><div class=\"mat-form-field-hint-wrapper ng-tns-c43-2 ng-trigger ng-trigger-transitionMessages ng-star-inserted\" style=\"opacity: 1; transform: translateY(0%);\"><!----><div class=\"mat-form-field-hint-spacer ng-tns-c43-2\"></div></div><!----></div></div></mat-form-field><!----><!----></div><!----><div class=\"mat-paginator-range-actions\"><div class=\"mat-paginator-range-label\"> 1 – 50 of 202 </div><!----><button mat-icon-button=\"\" type=\"button\" class=\"mat-focus-indicator mat-tooltip-trigger mat-paginator-navigation-previous mat-icon-button mat-button-base mat-button-disabled\" aria-label=\"Previous page\" disabled=\"true\"><span class=\"mat-button-wrapper\"><svg viewBox=\"0 0 24 24\" focusable=\"false\" class=\"mat-paginator-icon\"><path d=\"M15.41 7.41L14 6l-6 6 6 6 1.41-1.41L10.83 12z\"></path></svg></span><span matripple=\"\" class=\"mat-ripple mat-button-ripple mat-button-ripple-round\"></span><span class=\"mat-button-focus-overlay\"></span></button><!----><button mat-icon-button=\"\" type=\"button\" class=\"mat-focus-indicator mat-tooltip-trigger mat-paginator-navigation-next mat-icon-button mat-button-base\" aria-label=\"Next page\"><span class=\"mat-button-wrapper\"><svg viewBox=\"0 0 24 24\" focusable=\"false\" class=\"mat-paginator-icon\"><path d=\"M10 6L8.59 7.41 13.17 12l-4.58 4.59L10 18l6-6z\"></path></svg></span><span matripple=\"\" class=\"mat-ripple mat-button-ripple mat-button-ripple-round\"></span><span class=\"mat-button-focus-overlay\"></span></button><!----><!----></div></div></div></mat-paginator></div><!----><div _ngcontent-serverapp-c206=\"\" class=\"grid\"><div _ngcontent-serverapp-c206=\"\" class=\"grid__row no-gap ng-star-inserted\"><div _ngcontent-serverapp-c206=\"\" class=\"grid__row__item grid__row__item--span6@md grid__row__item--span4@xlg ng-star-inserted\"><div _ngcontent-serverapp-c206=\"\" class=\"org-wrapper\"><app-orgs-card _ngcontent-serverapp-c206=\"\" _nghost-serverapp-c205=\"\"><app-card _ngcontent-serverapp-c205=\"\" _nghost-serverapp-c84=\"\"><div _ngcontent-serverapp-c84=\"\" class=\"card\"><a _ngcontent-serverapp-c205=\"\" class=\"content\" href=\"/archive/2021/organizations/5129526253715456\"><div _ngcontent-serverapp-c205=\"\" class=\"logo\" style=\"background-color: white;\"><div _ngcontent-serverapp-c205=\"\" class=\"img-wrapper\"><img _ngcontent-serverapp-c205=\"\" src=\"//lh3.googleusercontent.com/4MKDUPRidEZ7TQ9EIxeGAAm-DYkSWt04DkuJgajum7GogsRqJe63_yNEoLKDe5wMhon6scAHlPEu4r2O4kBNd3locxU-jD3sXezm3_dKkQY\"></div></div><div _ngcontent-serverapp-c205=\"\" class=\"info\"><div _ngcontent-serverapp-c205=\"\" class=\"name\"> 52°North GmbH </div><div _ngcontent-serverapp-c205=\"\" class=\"short-description\"> 52°North works on innovative ideas and technologies in geoinformatics </div></div></a></div></app-card></app-orgs-card></div></div><!----><div _ngcontent-serverapp-c206=\"\" class=\"grid__row__item grid__row__item--span6@md grid__row__item--span4@xlg ng-star-inserted\"><div _ngcontent-serverapp-c206=\"\" class=\"org-wrapper\"><app-orgs-card _ngcontent-serverapp-c206=\"\" _nghost-serverapp-c205=\"\"><app-card _ngcontent-serverapp-c205=\"\" _nghost-serverapp-c84=\"\"><div _ngcontent-serverapp-c84=\"\" class=\"card\"><a _ngcontent-serverapp-c205=\"\" class=\"content\" href=\"/archive/2021/organizations/5677990456852480\"><div _ngcontent-serverapp-c205=\"\" class=\"logo\" style=\"background-color: white;\"><div _ngcontent-serverapp-c205=\"\" class=\"img-wrapper\"><img _ngcontent-serverapp-c205=\"\" src=\"//lh3.googleusercontent.com/oU7CniRzRq2XHxoVWL2wvjArgAjduGzW-bsn9dMdpO_Do6HwxMXKFYhHb8gYgMuOIyVTQdg1YIduJlvwyMDw3rA79AUzLsEE5GGw-mHEX5Fz\"></div></div><div _ngcontent-serverapp-c205=\"\" class=\"info\"><div _ngcontent-serverapp-c205=\"\" class=\"name\"> AboutCode </div><div _ngcontent-serverapp-c205=\"\" class=\"short-description\"> AboutCode is a suite of tools to uncover data ... about software and code: </div></div></a></div></app-card></app-orgs-card></div></div><!----><div _ngcontent-serverapp-c206=\"\" class=\"grid__row__item grid__row__item--span6@md grid__row__item--span4@xlg ng-star-inserted\"><div _ngcontent-serverapp-c206=\"\" class=\"org-wrapper\"><app-orgs-card _ngcontent-serverapp-c206=\"\" _nghost-serverapp-c205=\"\"><app-card _ngcontent-serverapp-c205=\"\" _nghost-serverapp-c84=\"\"><div _ngcontent-serverapp-c84=\"\" class=\"card\"><a _ngcontent-serverapp-c205=\"\" class=\"content\" href=\"/archive/2021/organizations/4826533859950592\"><div _ngcontent-serverapp-c205=\"\" class=\"logo\" style=\"background-color: white;\"><div _ngcontent-serverapp-c205=\"\" class=\"img-wrapper\"><img _ngcontent-serverapp-c205=\"\" src=\"//lh3.googleusercontent.com/Lk7t0NtkyrjKyhaQvcfxSYkJLcOgBxJn4X8WQso4FmZj7Jgu-coYhjPojHeaJ5-Uij0NNgaJvfS-aKGyvfb8DduzQEo0k5nPKY_6cl9cVB_Wpg\"></div></div><div _ngcontent-serverapp-c205=\"\" class=\"info\"><div _ngcontent-serverapp-c205=\"\" class=\"name\"> Accord Project </div><div _ngcontent-serverapp-c205=\"\" class=\"short-description\"> Linux Foundation’s open source project for smart legal contracts. </div></div></a></div></app-card></app-orgs-card></div></div><!----><div _ngcontent-serverapp-c206=\"\" class=\"grid__row__item grid__row__item--span6@md grid__row__item--span4@xlg ng-star-inserted\"><div _ngcontent-serverapp-c206=\"\" class=\"org-wrapper\"><app-orgs-card _ngcontent-serverapp-c206=\"\" _nghost-serverapp-c205=\"\"><app-card _ngcontent-serverapp-c205=\"\" _nghost-serverapp-c84=\"\"><div _ngcontent-serverapp-c84=\"\" class=\"card\"><a _ngcontent-serverapp-c205=\"\" class=\"content\" href=\"/archive/2021/organizations/4866654592303104\"><div _ngcontent-serverapp-c205=\"\" class=\"logo\" style=\"background-color: white;\"><div _ngcontent-serverapp-c205=\"\" class=\"img-wrapper\"><img _ngcontent-serverapp-c205=\"\" src=\"//lh3.googleusercontent.com/Cuse4sTixkecf8wRwx4LW93vB8rj1hu6e-cKUrxa_jMrTkLDct_Xhw2nBd0Db6SmwcjMxeGEuN2HG9yp3gkRqXlbLeDdR0NxGJnU07iTeFHJug\"></div></div><div _ngcontent-serverapp-c205=\"\" class=\"info\"><div _ngcontent-serverapp-c205=\"\" class=\"name\"> AerospaceResearch.net </div><div _ngcontent-serverapp-c205=\"\" class=\"short-description\"> making space together </div></div></a></div></app-card></app-orgs-card></div></div><!----><div _ngcontent-serverapp-c206=\"\" class=\"grid__row__item grid__row__item--span6@md grid__row__item--span4@xlg ng-star-inserted\"><div _ngcontent-serverapp-c206=\"\" class=\"org-wrapper\"><app-orgs-card _ngcontent-serverapp-c206=\"\" _nghost-serverapp-c205=\"\"><app-card _ngcontent-serverapp-c205=\"\" _nghost-serverapp-c84=\"\"><div _ngcontent-serverapp-c84=\"\" class=\"card\"><a _ngcontent-serverapp-c205=\"\" class=\"content\" href=\"/archive/2021/organizations/5090910303420416\"><div _ngcontent-serverapp-c205=\"\" class=\"logo\" style=\"background-color: white;\"><div _ngcontent-serverapp-c205=\"\" class=\"img-wrapper\"><img _ngcontent-serverapp-c205=\"\" src=\"//lh3.googleusercontent.com/YqiBMXCLsvnI8CsDENbFLqbXV84fbOl4dnEPh7Ukfs6M-b_0-w7fxBx08V4jdAhcDPNXYnYX_BvqIZD0WidGN6CFnjnRxQnW5RuhrNeGmEvC7Q\"></div></div><div _ngcontent-serverapp-c205=\"\" class=\"info\"><div _ngcontent-serverapp-c205=\"\" class=\"name\"> AFLplusplus </div><div _ngcontent-serverapp-c205=\"\" class=\"short-description\"> Fuzzing for the future </div></div></a></div></app-card></app-orgs-card></div></div><!----><div _ngcontent-serverapp-c206=\"\" class=\"grid__row__item grid__row__item--span6@md grid__row__item--span4@xlg ng-star-inserted\"><div _ngcontent-serverapp-c206=\"\" class=\"org-wrapper\"><app-orgs-card _ngcontent-serverapp-c206=\"\" _nghost-serverapp-c205=\"\"><app-card _ngcontent-serverapp-c205=\"\" _nghost-serverapp-c84=\"\"><div _ngcontent-serverapp-c84=\"\" class=\"card\"><a _ngcontent-serverapp-c205=\"\" class=\"content\" href=\"/archive/2021/organizations/5995132419047424\"><div _ngcontent-serverapp-c205=\"\" class=\"logo\" style=\"background-color: rgb(249, 249, 249);\"><div _ngcontent-serverapp-c205=\"\" class=\"img-wrapper\"><img _ngcontent-serverapp-c205=\"\" src=\"//lh3.googleusercontent.com/Fim0FTxXCZAngG0K5O1XjS_iEl0SrxtytcdA0Ic0wWFtXqhCyIgrVZgS8eIBWZLp4EFkKTcwx6mph6ZZyQDfORh1vpBBLgqNj5qbbwN_21A\"></div></div><div _ngcontent-serverapp-c205=\"\" class=\"info\"><div _ngcontent-serverapp-c205=\"\" class=\"name\"> Android Graphics Tools Team </div><div _ngcontent-serverapp-c205=\"\" class=\"short-description\"> Providing excellent tools for graphics developers and driver makers </div></div></a></div></app-card></app-orgs-card></div></div><!----><div _ngcontent-serverapp-c206=\"\" class=\"grid__row__item grid__row__item--span6@md grid__row__item--span4@xlg ng-star-inserted\"><div _ngcontent-serverapp-c206=\"\" class=\"org-wrapper\"><app-orgs-card _ngcontent-serverapp-c206=\"\" _nghost-serverapp-c205=\"\"><app-card _ngcontent-serverapp-c205=\"\" _nghost-serverapp-c84=\"\"><div _ngcontent-serverapp-c84=\"\" class=\"card\"><a _ngcontent-serverapp-c205=\"\" class=\"content\" href=\"/archive/2021/organizations/5687189203058688\"><div _ngcontent-serverapp-c205=\"\" class=\"logo\" style=\"background-color: white;\"><div _ngcontent-serverapp-c205=\"\" class=\"img-wrapper\"><img _ngcontent-serverapp-c205=\"\" src=\"//lh3.googleusercontent.com/9kBp37btEbZJ5_LWigFRpa2yNHXS3EY3ltJij71Q0TW6YsPU6wr8ceO73yP2Cduu_IzFL5IuCb7KuQW61siigpQiuQ66g6uoWk8acneF-zkaLA\"></div></div><div _ngcontent-serverapp-c205=\"\" class=\"info\"><div _ngcontent-serverapp-c205=\"\" class=\"name\"> AnkiDroid </div><div _ngcontent-serverapp-c205=\"\" class=\"short-description\"> makes remembering things easy </div></div></a></div></app-card></app-orgs-card></div></div><!----><div _ngcontent-serverapp-c206=\"\" class=\"grid__row__item grid__row__item--span6@md grid__row__item--span4@xlg ng-star-inserted\"><div _ngcontent-serverapp-c206=\"\" class=\"org-wrapper\"><app-orgs-card _ngcontent-serverapp-c206=\"\" _nghost-serverapp-c205=\"\"><app-card _ngcontent-serverapp-c205=\"\" _nghost-serverapp-c84=\"\"><div _ngcontent-serverapp-c84=\"\" class=\"card\"><a _ngcontent-serverapp-c205=\"\" class=\"content\" href=\"/archive/2021/organizations/5135086290206720\"><div _ngcontent-serverapp-c205=\"\" class=\"logo\" style=\"background-color: white;\"><div _ngcontent-serverapp-c205=\"\" class=\"img-wrapper\"><img _ngcontent-serverapp-c205=\"\" src=\"//lh3.googleusercontent.com/gQpqhgsXrg8XsMRv2HRqfFlU7MR-F4wrqrUQBRvm5V_197LI3Nhl0dTipA9Gd62gYm5SDIvsec_3ZK-Ccq3z6uxuN-YXhjSaUPx0aS6qWWZh\"></div></div><div _ngcontent-serverapp-c205=\"\" class=\"info\"><div _ngcontent-serverapp-c205=\"\" class=\"name\"> AOSSIE </div><div _ngcontent-serverapp-c205=\"\" class=\"short-description\"> Australian Umbrella Org for Open-Source Projects </div></div></a></div></app-card></app-orgs-card></div></div><!----><div _ngcontent-serverapp-c206=\"\" class=\"grid__row__item grid__row__item--span6@md grid__row__item--span4@xlg ng-star-inserted\"><div _ngcontent-serverapp-c206=\"\" class=\"org-wrapper\"><app-orgs-card _ngcontent-serverapp-c206=\"\" _nghost-serverapp-c205=\"\"><app-card _ngcontent-serverapp-c205=\"\" _nghost-serverapp-c84=\"\"><div _ngcontent-serverapp-c84=\"\" class=\"card\"><a _ngcontent-serverapp-c205=\"\" class=\"content\" href=\"/archive/2021/organizations/5702681049432064\"><div _ngcontent-serverapp-c205=\"\" class=\"logo\" style=\"background-color: white;\"><div _ngcontent-serverapp-c205=\"\" class=\"img-wrapper\"><img _ngcontent-serverapp-c205=\"\" src=\"//lh3.googleusercontent.com/_9pRuaqLtwwmC45iStzg3grLy6zvA_v_u1JdxwDwm5igPbwuWwMWV12TDnBNY96wrgJ8tcXW6AvpN7EkYyMDeWCf-odCncohGXf5zHvifPm6\"></div></div><div _ngcontent-serverapp-c205=\"\" class=\"info\"><div _ngcontent-serverapp-c205=\"\" class=\"name\"> Apertium </div><div _ngcontent-serverapp-c205=\"\" class=\"short-description\"> A free/open-source machine translation platform </div></div></a></div></app-card></app-orgs-card></div></div><!----><div _ngcontent-serverapp-c206=\"\" class=\"grid__row__item grid__row__item--span6@md grid__row__item--span4@xlg ng-star-inserted\"><div _ngcontent-serverapp-c206=\"\" class=\"org-wrapper\"><app-orgs-card _ngcontent-serverapp-c206=\"\" _nghost-serverapp-c205=\"\"><app-card _ngcontent-serverapp-c205=\"\" _nghost-serverapp-c84=\"\"><div _ngcontent-serverapp-c84=\"\" class=\"card\"><a _ngcontent-serverapp-c205=\"\" class=\"content\" href=\"/archive/2021/organizations/5659873647263744\"><div _ngcontent-serverapp-c205=\"\" class=\"logo\" style=\"background-color: rgb(255, 255, 255);\"><div _ngcontent-serverapp-c205=\"\" class=\"img-wrapper\"><img _ngcontent-serverapp-c205=\"\" src=\"//lh3.googleusercontent.com/f1iv_d75JZzQE8AGdZO7U2_l-bntd3U4upvd-YzqKCaVjHZTwDXKoRzVv8biCSUHcpzfoW4KoVMG7XuHyOb36NG8DL2h747qV4oIf1M0iwyh\"></div></div><div _ngcontent-serverapp-c205=\"\" class=\"info\"><div _ngcontent-serverapp-c205=\"\" class=\"name\"> apertus° Association </div><div _ngcontent-serverapp-c205=\"\" class=\"short-description\"> Open Technology for Professional Film Production </div></div></a></div></app-card></app-orgs-card></div></div><!----><div _ngcontent-serverapp-c206=\"\" class=\"grid__row__item grid__row__item--span6@md grid__row__item--span4@xlg ng-star-inserted\"><div _ngcontent-serverapp-c206=\"\" class=\"org-wrapper\"><app-orgs-card _ngcontent-serverapp-c206=\"\" _nghost-serverapp-c205=\"\"><app-card _ngcontent-serverapp-c205=\"\" _nghost-serverapp-c84=\"\"><div _ngcontent-serverapp-c84=\"\" class=\"card\"><a _ngcontent-serverapp-c205=\"\" class=\"content\" href=\"/archive/2021/organizations/4848051277004800\"><div _ngcontent-serverapp-c205=\"\" class=\"logo\" style=\"background-color: rgb(0, 0, 0);\"><div _ngcontent-serverapp-c205=\"\" class=\"img-wrapper\"><img _ngcontent-serverapp-c205=\"\" src=\"//lh3.googleusercontent.com/9CYUief4fjutJWlMQljVvHaFaBN9YfAn5tw2UAEc8m8lLUsfm6bnE1-qOUM1Z93_3Gy0EuCCyNZJphWaQcqzU-L4VIYfgNPVGY1edfjq78L5\"></div></div><div _ngcontent-serverapp-c205=\"\" class=\"info\"><div _ngcontent-serverapp-c205=\"\" class=\"name\"> ArduPilot </div><div _ngcontent-serverapp-c205=\"\" class=\"short-description\"> The world\\'s most versatile, trusted and open autopilot </div></div></a></div></app-card></app-orgs-card></div></div><!----><div _ngcontent-serverapp-c206=\"\" class=\"grid__row__item grid__row__item--span6@md grid__row__item--span4@xlg ng-star-inserted\"><div _ngcontent-serverapp-c206=\"\" class=\"org-wrapper\"><app-orgs-card _ngcontent-serverapp-c206=\"\" _nghost-serverapp-c205=\"\"><app-card _ngcontent-serverapp-c205=\"\" _nghost-serverapp-c84=\"\"><div _ngcontent-serverapp-c84=\"\" class=\"card\"><a _ngcontent-serverapp-c205=\"\" class=\"content\" href=\"/archive/2021/organizations/5631107231383552\"><div _ngcontent-serverapp-c205=\"\" class=\"logo\" style=\"background-color: white;\"><div _ngcontent-serverapp-c205=\"\" class=\"img-wrapper\"><img _ngcontent-serverapp-c205=\"\" src=\"//lh3.googleusercontent.com/YwiRtF1jTxhgEVur9vCIYC0yaRIdkSRiMuzpr3s7HHbf6KESsCVrr2vUeThjfiBZmbKQYJGF08kXL0FNkq9UwxHHtyC3dde40CFRLsitV_Y\"></div></div><div _ngcontent-serverapp-c205=\"\" class=\"info\"><div _ngcontent-serverapp-c205=\"\" class=\"name\"> Audacity </div><div _ngcontent-serverapp-c205=\"\" class=\"short-description\"> Free, open source, cross-platform audio software </div></div></a></div></app-card></app-orgs-card></div></div><!----><div _ngcontent-serverapp-c206=\"\" class=\"grid__row__item grid__row__item--span6@md grid__row__item--span4@xlg ng-star-inserted\"><div _ngcontent-serverapp-c206=\"\" class=\"org-wrapper\"><app-orgs-card _ngcontent-serverapp-c206=\"\" _nghost-serverapp-c205=\"\"><app-card _ngcontent-serverapp-c205=\"\" _nghost-serverapp-c84=\"\"><div _ngcontent-serverapp-c84=\"\" class=\"card\"><a _ngcontent-serverapp-c205=\"\" class=\"content\" href=\"/archive/2021/organizations/5067823478472704\"><div _ngcontent-serverapp-c205=\"\" class=\"logo\" style=\"background-color: white;\"><div _ngcontent-serverapp-c205=\"\" class=\"img-wrapper\"><img _ngcontent-serverapp-c205=\"\" src=\"//lh3.googleusercontent.com/Bzm-vkulYhg0pEXqVpX6Ic1BruepKCJoVk9aVIPXosdQefSJh8MWfv_CQ0T1ag-QcOx4HQLwx6-7Qo-Xs99BJC_hzP8HD-lrqP-zAmM-5M09\"></div></div><div _ngcontent-serverapp-c205=\"\" class=\"info\"><div _ngcontent-serverapp-c205=\"\" class=\"name\"> BeagleBoard.org Foundation </div><div _ngcontent-serverapp-c205=\"\" class=\"short-description\"> Community supported open hardware for makers, innovators and educators </div></div></a></div></app-card></app-orgs-card></div></div><!----><div _ngcontent-serverapp-c206=\"\" class=\"grid__row__item grid__row__item--span6@md grid__row__item--span4@xlg ng-star-inserted\"><div _ngcontent-serverapp-c206=\"\" class=\"org-wrapper\"><app-orgs-card _ngcontent-serverapp-c206=\"\" _nghost-serverapp-c205=\"\"><app-card _ngcontent-serverapp-c205=\"\" _nghost-serverapp-c84=\"\"><div _ngcontent-serverapp-c84=\"\" class=\"card\"><a _ngcontent-serverapp-c205=\"\" class=\"content\" href=\"/archive/2021/organizations/5764622900002816\"><div _ngcontent-serverapp-c205=\"\" class=\"logo\" style=\"background-color: white;\"><div _ngcontent-serverapp-c205=\"\" class=\"img-wrapper\"><img _ngcontent-serverapp-c205=\"\" src=\"//lh3.googleusercontent.com/rK-G1cM-h1_eP-_oRcT45I6kjX8h1QdMh2LPbvCZB9aNzHk5JH8UCGY4KcbiDaMEwH8SCrqguzlUz5O5e1CDHEXjxgi3kOusoNHplzSEPgA\"></div></div><div _ngcontent-serverapp-c205=\"\" class=\"info\"><div _ngcontent-serverapp-c205=\"\" class=\"name\"> Bench-Routes </div><div _ngcontent-serverapp-c205=\"\" class=\"short-description\"> Bench-routes is an open-source project to analyze performance and monitor APIs. </div></div></a></div></app-card></app-orgs-card></div></div><!----><div _ngcontent-serverapp-c206=\"\" class=\"grid__row__item grid__row__item--span6@md grid__row__item--span4@xlg ng-star-inserted\"><div _ngcontent-serverapp-c206=\"\" class=\"org-wrapper\"><app-orgs-card _ngcontent-serverapp-c206=\"\" _nghost-serverapp-c205=\"\"><app-card _ngcontent-serverapp-c205=\"\" _nghost-serverapp-c84=\"\"><div _ngcontent-serverapp-c84=\"\" class=\"card\"><a _ngcontent-serverapp-c205=\"\" class=\"content\" href=\"/archive/2021/organizations/5672605809377280\"><div _ngcontent-serverapp-c205=\"\" class=\"logo\" style=\"background-color: white;\"><div _ngcontent-serverapp-c205=\"\" class=\"img-wrapper\"><img _ngcontent-serverapp-c205=\"\" src=\"//lh3.googleusercontent.com/UZxUAygF693IG16Q1L-jwBVtPRQ2lODx089yjD3g3wTwa_t2mTrx9HeqXeFV3Yu0CYxjB007T3S2Gnhk4YWs5WPLHOVdjeNWjPNKavgcMPeH\"></div></div><div _ngcontent-serverapp-c205=\"\" class=\"info\"><div _ngcontent-serverapp-c205=\"\" class=\"name\"> Blender Foundation </div><div _ngcontent-serverapp-c205=\"\" class=\"short-description\"> We build a free and open source 3D creation suite. </div></div></a></div></app-card></app-orgs-card></div></div><!----><div _ngcontent-serverapp-c206=\"\" class=\"grid__row__item grid__row__item--span6@md grid__row__item--span4@xlg ng-star-inserted\"><div _ngcontent-serverapp-c206=\"\" class=\"org-wrapper\"><app-orgs-card _ngcontent-serverapp-c206=\"\" _nghost-serverapp-c205=\"\"><app-card _ngcontent-serverapp-c205=\"\" _nghost-serverapp-c84=\"\"><div _ngcontent-serverapp-c84=\"\" class=\"card\"><a _ngcontent-serverapp-c205=\"\" class=\"content\" href=\"/archive/2021/organizations/5123901926932480\"><div _ngcontent-serverapp-c205=\"\" class=\"logo\" style=\"background-color: white;\"><div _ngcontent-serverapp-c205=\"\" class=\"img-wrapper\"><img _ngcontent-serverapp-c205=\"\" src=\"//lh3.googleusercontent.com/L2nkbvYerHZT6hivm4I6ErU8MhfH9SXbPE2nqP73bnFwaXm9-KM2wdQAT1jMerAsdjszft_OTFSI8H5KMxOEXC3prbP2IDWilNDoqqOilVk\"></div></div><div _ngcontent-serverapp-c205=\"\" class=\"info\"><div _ngcontent-serverapp-c205=\"\" class=\"name\"> Boost C++ Libraries </div><div _ngcontent-serverapp-c205=\"\" class=\"short-description\"> Boost provides free peer-reviewed portable C++ source libraries </div></div></a></div></app-card></app-orgs-card></div></div><!----><div _ngcontent-serverapp-c206=\"\" class=\"grid__row__item grid__row__item--span6@md grid__row__item--span4@xlg ng-star-inserted\"><div _ngcontent-serverapp-c206=\"\" class=\"org-wrapper\"><app-orgs-card _ngcontent-serverapp-c206=\"\" _nghost-serverapp-c205=\"\"><app-card _ngcontent-serverapp-c205=\"\" _nghost-serverapp-c84=\"\"><div _ngcontent-serverapp-c84=\"\" class=\"card\"><a _ngcontent-serverapp-c205=\"\" class=\"content\" href=\"/archive/2021/organizations/5647022668906496\"><div _ngcontent-serverapp-c205=\"\" class=\"logo\" style=\"background-color: rgb(0, 0, 0);\"><div _ngcontent-serverapp-c205=\"\" class=\"img-wrapper\"><img _ngcontent-serverapp-c205=\"\" src=\"//lh3.googleusercontent.com/M70UK1HZ_fb2U1Rf2Rgh33bfjrXV2drQ5QGicmxQ3-F3PEfcthvHZ_JIuUAOOld2mUvtkKvPN2F_CvWFQb0hPI4Z0Ujn3IUxBxT8zfOeQA230g\"></div></div><div _ngcontent-serverapp-c205=\"\" class=\"info\"><div _ngcontent-serverapp-c205=\"\" class=\"name\"> BRL-CAD </div><div _ngcontent-serverapp-c205=\"\" class=\"short-description\"> We do computer graphics, 3D printing, &amp; develop computer-aided tech (CAx) </div></div></a></div></app-card></app-orgs-card></div></div><!----><div _ngcontent-serverapp-c206=\"\" class=\"grid__row__item grid__row__item--span6@md grid__row__item--span4@xlg ng-star-inserted\"><div _ngcontent-serverapp-c206=\"\" class=\"org-wrapper\"><app-orgs-card _ngcontent-serverapp-c206=\"\" _nghost-serverapp-c205=\"\"><app-card _ngcontent-serverapp-c205=\"\" _nghost-serverapp-c84=\"\"><div _ngcontent-serverapp-c84=\"\" class=\"card\"><a _ngcontent-serverapp-c205=\"\" class=\"content\" href=\"/archive/2021/organizations/5372385280131072\"><div _ngcontent-serverapp-c205=\"\" class=\"logo\" style=\"background-color: rgb(36, 169, 246);\"><div _ngcontent-serverapp-c205=\"\" class=\"img-wrapper\"><img _ngcontent-serverapp-c205=\"\" src=\"//lh3.googleusercontent.com/r-KIBpwbINiKvRnoXv-VmMWgC18HsZtyxk-Hft-X_xrQNkM-nJhPN9u7RPT-9McgkS1cM3QmNg_7ZIOZ-SZJ91RdiByQTlzK5sIY_00uFk7Y\"></div></div><div _ngcontent-serverapp-c205=\"\" class=\"info\"><div _ngcontent-serverapp-c205=\"\" class=\"name\"> caMicroscope </div><div _ngcontent-serverapp-c205=\"\" class=\"short-description\"> Toolkit for cancer imaging research </div></div></a></div></app-card></app-orgs-card></div></div><!----><div _ngcontent-serverapp-c206=\"\" class=\"grid__row__item grid__row__item--span6@md grid__row__item--span4@xlg ng-star-inserted\"><div _ngcontent-serverapp-c206=\"\" class=\"org-wrapper\"><app-orgs-card _ngcontent-serverapp-c206=\"\" _nghost-serverapp-c205=\"\"><app-card _ngcontent-serverapp-c205=\"\" _nghost-serverapp-c84=\"\"><div _ngcontent-serverapp-c84=\"\" class=\"card\"><a _ngcontent-serverapp-c205=\"\" class=\"content\" href=\"/archive/2021/organizations/6199282348064768\"><div _ngcontent-serverapp-c205=\"\" class=\"logo\" style=\"background-color: rgb(255, 255, 255);\"><div _ngcontent-serverapp-c205=\"\" class=\"img-wrapper\"><img _ngcontent-serverapp-c205=\"\" src=\"//lh3.googleusercontent.com/E1pKjODHIRgmZ0bOfSuS26Xaw86mDEJJJ1C8ZbUO6Z6f3_QDT5WRfRc3jhVmWsYSjtSodPLFmYfmJ2phZDoZEW0jPWmpF5Vfmhcbv176Hbj1\"></div></div><div _ngcontent-serverapp-c205=\"\" class=\"info\"><div _ngcontent-serverapp-c205=\"\" class=\"name\"> Casbin </div><div _ngcontent-serverapp-c205=\"\" class=\"short-description\"> Authorization library that supports access control models like ACL, RBAC, ABAC </div></div></a></div></app-card></app-orgs-card></div></div><!----><div _ngcontent-serverapp-c206=\"\" class=\"grid__row__item grid__row__item--span6@md grid__row__item--span4@xlg ng-star-inserted\"><div _ngcontent-serverapp-c206=\"\" class=\"org-wrapper\"><app-orgs-card _ngcontent-serverapp-c206=\"\" _nghost-serverapp-c205=\"\"><app-card _ngcontent-serverapp-c205=\"\" _nghost-serverapp-c84=\"\"><div _ngcontent-serverapp-c84=\"\" class=\"card\"><a _ngcontent-serverapp-c205=\"\" class=\"content\" href=\"/archive/2021/organizations/6291016608382976\"><div _ngcontent-serverapp-c205=\"\" class=\"logo\" style=\"background-color: white;\"><div _ngcontent-serverapp-c205=\"\" class=\"img-wrapper\"><img _ngcontent-serverapp-c205=\"\" src=\"//lh3.googleusercontent.com/oj63z5DyuNFvVEKOI4hyX9UFI6IkKOKZ9l2EbD4-zUMSx6GkJRcc5Jeyv0uYf4-OWJG4alDEYg_KSAPCKrEX2jLNCcHTWhuC1Zkv3LuIuRqYHQ\"></div></div><div _ngcontent-serverapp-c205=\"\" class=\"info\"><div _ngcontent-serverapp-c205=\"\" class=\"name\"> CASTOR </div><div _ngcontent-serverapp-c205=\"\" class=\"short-description\"> Trustworthy software intensive systems for critical functions. </div></div></a></div></app-card></app-orgs-card></div></div><!----><div _ngcontent-serverapp-c206=\"\" class=\"grid__row__item grid__row__item--span6@md grid__row__item--span4@xlg ng-star-inserted\"><div _ngcontent-serverapp-c206=\"\" class=\"org-wrapper\"><app-orgs-card _ngcontent-serverapp-c206=\"\" _nghost-serverapp-c205=\"\"><app-card _ngcontent-serverapp-c205=\"\" _nghost-serverapp-c84=\"\"><div _ngcontent-serverapp-c84=\"\" class=\"card\"><a _ngcontent-serverapp-c205=\"\" class=\"content\" href=\"/archive/2021/organizations/5102272740065280\"><div _ngcontent-serverapp-c205=\"\" class=\"logo\" style=\"background-color: white;\"><div _ngcontent-serverapp-c205=\"\" class=\"img-wrapper\"><img _ngcontent-serverapp-c205=\"\" src=\"//lh3.googleusercontent.com/9JUz8XinY6Rr6FChi2PifiNaGd9xkR31LVcxIl_4kU434Bf1rGQqp7pmQ0p2CzU0OMPhfr_C2_H2TUfcnWXlPcHtFkr0TD_F7uBGuZCw7kg0\"></div></div><div _ngcontent-serverapp-c205=\"\" class=\"info\"><div _ngcontent-serverapp-c205=\"\" class=\"name\"> CCExtractor Development </div><div _ngcontent-serverapp-c205=\"\" class=\"short-description\"> Now in Rust </div></div></a></div></app-card></app-orgs-card></div></div><!----><div _ngcontent-serverapp-c206=\"\" class=\"grid__row__item grid__row__item--span6@md grid__row__item--span4@xlg ng-star-inserted\"><div _ngcontent-serverapp-c206=\"\" class=\"org-wrapper\"><app-orgs-card _ngcontent-serverapp-c206=\"\" _nghost-serverapp-c205=\"\"><app-card _ngcontent-serverapp-c205=\"\" _nghost-serverapp-c84=\"\"><div _ngcontent-serverapp-c84=\"\" class=\"card\"><a _ngcontent-serverapp-c205=\"\" class=\"content\" href=\"/archive/2021/organizations/6311773715562496\"><div _ngcontent-serverapp-c205=\"\" class=\"logo\" style=\"background-color: white;\"><div _ngcontent-serverapp-c205=\"\" class=\"img-wrapper\"><img _ngcontent-serverapp-c205=\"\" src=\"//lh3.googleusercontent.com/EFtuLHVtW8CYE_n7I0I115Lf2kfET5FjcPeID_KrjIeZh-8Qgu62VdISuY7r-ybk0djG6EQdwLCBI_YA-D3qhnsIWQi27dGtPLveWIqDHVMzIw\"></div></div><div _ngcontent-serverapp-c205=\"\" class=\"info\"><div _ngcontent-serverapp-c205=\"\" class=\"name\"> Center for Research in Open Source Software, UC Santa Cruz </div><div _ngcontent-serverapp-c205=\"\" class=\"short-description\"> Bridging the Gap Between Student Work and Successful Open Source Projects </div></div></a></div></app-card></app-orgs-card></div></div><!----><div _ngcontent-serverapp-c206=\"\" class=\"grid__row__item grid__row__item--span6@md grid__row__item--span4@xlg ng-star-inserted\"><div _ngcontent-serverapp-c206=\"\" class=\"org-wrapper\"><app-orgs-card _ngcontent-serverapp-c206=\"\" _nghost-serverapp-c205=\"\"><app-card _ngcontent-serverapp-c205=\"\" _nghost-serverapp-c84=\"\"><div _ngcontent-serverapp-c84=\"\" class=\"card\"><a _ngcontent-serverapp-c205=\"\" class=\"content\" href=\"/archive/2021/organizations/6259684285087744\"><div _ngcontent-serverapp-c205=\"\" class=\"logo\" style=\"background-color: white;\"><div _ngcontent-serverapp-c205=\"\" class=\"img-wrapper\"><img _ngcontent-serverapp-c205=\"\" src=\"//lh3.googleusercontent.com/Hv7Q4kximFRyU_qTzTV9qWnG-LVkfVdXwSNcDOYdTh2FM9zJHzSw4p6FHUEGq3P1q7pTHU17W_Gy6x-J_el4Dyv_I3oHEMYAwkp8UTKmwMw\"></div></div><div _ngcontent-serverapp-c205=\"\" class=\"info\"><div _ngcontent-serverapp-c205=\"\" class=\"name\"> Ceph </div><div _ngcontent-serverapp-c205=\"\" class=\"short-description\"> The Future of Storage </div></div></a></div></app-card></app-orgs-card></div></div><!----><div _ngcontent-serverapp-c206=\"\" class=\"grid__row__item grid__row__item--span6@md grid__row__item--span4@xlg ng-star-inserted\"><div _ngcontent-serverapp-c206=\"\" class=\"org-wrapper\"><app-orgs-card _ngcontent-serverapp-c206=\"\" _nghost-serverapp-c205=\"\"><app-card _ngcontent-serverapp-c205=\"\" _nghost-serverapp-c84=\"\"><div _ngcontent-serverapp-c84=\"\" class=\"card\"><a _ngcontent-serverapp-c205=\"\" class=\"content\" href=\"/archive/2021/organizations/6240588592054272\"><div _ngcontent-serverapp-c205=\"\" class=\"logo\" style=\"background-color: white;\"><div _ngcontent-serverapp-c205=\"\" class=\"img-wrapper\"><img _ngcontent-serverapp-c205=\"\" src=\"//lh3.googleusercontent.com/OLEsTvGKzGiiTF-ieh-6B69JH7gFHE0RrVVTNCyAqvvd7zeyk7QeKQSpS_5FZC6YxqBnKN0G4B-vtxDFZMu94fuOUcKIs6HKE6AquQYFlh5hxA\"></div></div><div _ngcontent-serverapp-c205=\"\" class=\"info\"><div _ngcontent-serverapp-c205=\"\" class=\"name\"> CERN-HSF </div><div _ngcontent-serverapp-c205=\"\" class=\"short-description\"> The umbrella organization for Particle (High-Energy) Physics-related projects </div></div></a></div></app-card></app-orgs-card></div></div><!----><div _ngcontent-serverapp-c206=\"\" class=\"grid__row__item grid__row__item--span6@md grid__row__item--span4@xlg ng-star-inserted\"><div _ngcontent-serverapp-c206=\"\" class=\"org-wrapper\"><app-orgs-card _ngcontent-serverapp-c206=\"\" _nghost-serverapp-c205=\"\"><app-card _ngcontent-serverapp-c205=\"\" _nghost-serverapp-c84=\"\"><div _ngcontent-serverapp-c84=\"\" class=\"card\"><a _ngcontent-serverapp-c205=\"\" class=\"content\" href=\"/archive/2021/organizations/6538937723518976\"><div _ngcontent-serverapp-c205=\"\" class=\"logo\" style=\"background-color: white;\"><div _ngcontent-serverapp-c205=\"\" class=\"img-wrapper\"><img _ngcontent-serverapp-c205=\"\" src=\"//lh3.googleusercontent.com/9d0jVTrNvrRZrLKhFOdESxL0E8VHl3f8MNhDELK9G0GX7os27AYiVSl7L1ijw4mCr92UA3gomDeBsoG1n-rCp1vDCiyrg_cZlmYTvlawHvP2lA\"></div></div><div _ngcontent-serverapp-c205=\"\" class=\"info\"><div _ngcontent-serverapp-c205=\"\" class=\"name\"> CGAL Project </div><div _ngcontent-serverapp-c205=\"\" class=\"short-description\"> C++ library of computational geometry and geometry processing </div></div></a></div></app-card></app-orgs-card></div></div><!----><div _ngcontent-serverapp-c206=\"\" class=\"grid__row__item grid__row__item--span6@md grid__row__item--span4@xlg ng-star-inserted\"><div _ngcontent-serverapp-c206=\"\" class=\"org-wrapper\"><app-orgs-card _ngcontent-serverapp-c206=\"\" _nghost-serverapp-c205=\"\"><app-card _ngcontent-serverapp-c205=\"\" _nghost-serverapp-c84=\"\"><div _ngcontent-serverapp-c84=\"\" class=\"card\"><a _ngcontent-serverapp-c205=\"\" class=\"content\" href=\"/archive/2021/organizations/5959947107434496\"><div _ngcontent-serverapp-c205=\"\" class=\"logo\" style=\"background-color: white;\"><div _ngcontent-serverapp-c205=\"\" class=\"img-wrapper\"><img _ngcontent-serverapp-c205=\"\" src=\"//lh3.googleusercontent.com/mF9LtfPnjR9wJbdme7oECvbiMrr7xx5a5MNXKo7LgYGh6ZwyGUKQ7lM4LbYs43Q5--ocPPofGERXaVMAWhL2ippw6KfRDyOAM7M-nyrh6hi4\"></div></div><div _ngcontent-serverapp-c205=\"\" class=\"info\"><div _ngcontent-serverapp-c205=\"\" class=\"name\"> CHAOSS Project </div><div _ngcontent-serverapp-c205=\"\" class=\"short-description\"> Creating analytics and metrics to help define open source community health. </div></div></a></div></app-card></app-orgs-card></div></div><!----><div _ngcontent-serverapp-c206=\"\" class=\"grid__row__item grid__row__item--span6@md grid__row__item--span4@xlg ng-star-inserted\"><div _ngcontent-serverapp-c206=\"\" class=\"org-wrapper\"><app-orgs-card _ngcontent-serverapp-c206=\"\" _nghost-serverapp-c205=\"\"><app-card _ngcontent-serverapp-c205=\"\" _nghost-serverapp-c84=\"\"><div _ngcontent-serverapp-c84=\"\" class=\"card\"><a _ngcontent-serverapp-c205=\"\" class=\"content\" href=\"/archive/2021/organizations/6086891878744064\"><div _ngcontent-serverapp-c205=\"\" class=\"logo\" style=\"background-color: white;\"><div _ngcontent-serverapp-c205=\"\" class=\"img-wrapper\"><img _ngcontent-serverapp-c205=\"\" src=\"//lh3.googleusercontent.com/iZSd2PHRnRgRP4BCokwbqnPV2zONVGnDqp95vx7j0TgtcleFt-_DR1xiBr_HhUPxQjLIG-J8wYW6KC8cbpw6tRwJgeJuse4Ajpqu4XeG0QT4\"></div></div><div _ngcontent-serverapp-c205=\"\" class=\"info\"><div _ngcontent-serverapp-c205=\"\" class=\"name\"> Chapel </div><div _ngcontent-serverapp-c205=\"\" class=\"short-description\"> A Productive Parallel Programming Language </div></div></a></div></app-card></app-orgs-card></div></div><!----><div _ngcontent-serverapp-c206=\"\" class=\"grid__row__item grid__row__item--span6@md grid__row__item--span4@xlg ng-star-inserted\"><div _ngcontent-serverapp-c206=\"\" class=\"org-wrapper\"><app-orgs-card _ngcontent-serverapp-c206=\"\" _nghost-serverapp-c205=\"\"><app-card _ngcontent-serverapp-c205=\"\" _nghost-serverapp-c84=\"\"><div _ngcontent-serverapp-c84=\"\" class=\"card\"><a _ngcontent-serverapp-c205=\"\" class=\"content\" href=\"/archive/2021/organizations/4766383010742272\"><div _ngcontent-serverapp-c205=\"\" class=\"logo\" style=\"background-color: white;\"><div _ngcontent-serverapp-c205=\"\" class=\"img-wrapper\"><img _ngcontent-serverapp-c205=\"\" src=\"//lh3.googleusercontent.com/npWlLX1tWpwc77jpHVAAwCRw4Z8KNROX4V5e-qD6akVD-ym9Kemn4pK_HfsCAHL3wiJbMlCXThT_IVBbkY5Z_qNQGIU0uTx1w2Lbwy-hn0D9\"></div></div><div _ngcontent-serverapp-c205=\"\" class=\"info\"><div _ngcontent-serverapp-c205=\"\" class=\"name\"> Checkstyle </div><div _ngcontent-serverapp-c205=\"\" class=\"short-description\"> Tool to help programmers write Java code that adheres to a coding standard. </div></div></a></div></app-card></app-orgs-card></div></div><!----><div _ngcontent-serverapp-c206=\"\" class=\"grid__row__item grid__row__item--span6@md grid__row__item--span4@xlg ng-star-inserted\"><div _ngcontent-serverapp-c206=\"\" class=\"org-wrapper\"><app-orgs-card _ngcontent-serverapp-c206=\"\" _nghost-serverapp-c205=\"\"><app-card _ngcontent-serverapp-c205=\"\" _nghost-serverapp-c84=\"\"><div _ngcontent-serverapp-c84=\"\" class=\"card\"><a _ngcontent-serverapp-c205=\"\" class=\"content\" href=\"/archive/2021/organizations/4857406487527424\"><div _ngcontent-serverapp-c205=\"\" class=\"logo\" style=\"background-color: white;\"><div _ngcontent-serverapp-c205=\"\" class=\"img-wrapper\"><img _ngcontent-serverapp-c205=\"\" src=\"//lh3.googleusercontent.com/y2IS9ruBvt4zmADST14tGb2NstljFoFH6IH8HhQRBQei8OuOtvx7OrlypyW_Kame3tRrw8DKTIaLnjhOhfXfs4T4FIwMwiiS-m_ums3xTcwtww\"></div></div><div _ngcontent-serverapp-c205=\"\" class=\"info\"><div _ngcontent-serverapp-c205=\"\" class=\"name\"> Chromium </div><div _ngcontent-serverapp-c205=\"\" class=\"short-description\"> Fast, seamless, safe, and reliable computing experiences accessible for all. </div></div></a></div></app-card></app-orgs-card></div></div><!----><div _ngcontent-serverapp-c206=\"\" class=\"grid__row__item grid__row__item--span6@md grid__row__item--span4@xlg ng-star-inserted\"><div _ngcontent-serverapp-c206=\"\" class=\"org-wrapper\"><app-orgs-card _ngcontent-serverapp-c206=\"\" _nghost-serverapp-c205=\"\"><app-card _ngcontent-serverapp-c205=\"\" _nghost-serverapp-c84=\"\"><div _ngcontent-serverapp-c84=\"\" class=\"card\"><a _ngcontent-serverapp-c205=\"\" class=\"content\" href=\"/archive/2021/organizations/6055505163714560\"><div _ngcontent-serverapp-c205=\"\" class=\"logo\" style=\"background-color: white;\"><div _ngcontent-serverapp-c205=\"\" class=\"img-wrapper\"><img _ngcontent-serverapp-c205=\"\" src=\"//lh3.googleusercontent.com/VPNqZNIcRxMMfF6D-9o6tvWwn17wdXQzXkmGYaLh5yO_v7DzRd7YQkjte75fFbjRpcDXc6h1VNWLM9ZF-Mgo7fdpFyoVxGaY0heHjj-or6BD\"></div></div><div _ngcontent-serverapp-c205=\"\" class=\"info\"><div _ngcontent-serverapp-c205=\"\" class=\"name\"> Cilium </div><div _ngcontent-serverapp-c205=\"\" class=\"short-description\"> eBPF-based Networking, Security, and Observability </div></div></a></div></app-card></app-orgs-card></div></div><!----><div _ngcontent-serverapp-c206=\"\" class=\"grid__row__item grid__row__item--span6@md grid__row__item--span4@xlg ng-star-inserted\"><div _ngcontent-serverapp-c206=\"\" class=\"org-wrapper\"><app-orgs-card _ngcontent-serverapp-c206=\"\" _nghost-serverapp-c205=\"\"><app-card _ngcontent-serverapp-c205=\"\" _nghost-serverapp-c84=\"\"><div _ngcontent-serverapp-c84=\"\" class=\"card\"><a _ngcontent-serverapp-c205=\"\" class=\"content\" href=\"/archive/2021/organizations/6293580166987776\"><div _ngcontent-serverapp-c205=\"\" class=\"logo\" style=\"background-color: white;\"><div _ngcontent-serverapp-c205=\"\" class=\"img-wrapper\"><img _ngcontent-serverapp-c205=\"\" src=\"//lh3.googleusercontent.com/ImwBmOt8iOUZsIaSB016dNAgtOzDLQZSarsCJnkb0xLs042tImCwT-4FigRr2i2EuoiYiPxkym7aOu8ijnqGRaW_NUA_6YcPH3Fu4tA5ZxcG\"></div></div><div _ngcontent-serverapp-c205=\"\" class=\"info\"><div _ngcontent-serverapp-c205=\"\" class=\"name\"> CircuitVerse.org </div><div _ngcontent-serverapp-c205=\"\" class=\"short-description\"> Build and learn logic circuits in the cloud! </div></div></a></div></app-card></app-orgs-card></div></div><!----><div _ngcontent-serverapp-c206=\"\" class=\"grid__row__item grid__row__item--span6@md grid__row__item--span4@xlg ng-star-inserted\"><div _ngcontent-serverapp-c206=\"\" class=\"org-wrapper\"><app-orgs-card _ngcontent-serverapp-c206=\"\" _nghost-serverapp-c205=\"\"><app-card _ngcontent-serverapp-c205=\"\" _nghost-serverapp-c84=\"\"><div _ngcontent-serverapp-c84=\"\" class=\"card\"><a _ngcontent-serverapp-c205=\"\" class=\"content\" href=\"/archive/2021/organizations/5667013157978112\"><div _ngcontent-serverapp-c205=\"\" class=\"logo\" style=\"background-color: rgb(255, 255, 255);\"><div _ngcontent-serverapp-c205=\"\" class=\"img-wrapper\"><img _ngcontent-serverapp-c205=\"\" src=\"//lh3.googleusercontent.com/eHaSpnLTGYKc5cdRm7xyCei3-mdlOXkiwlJlX8Z-qgnlT0ii6CmKs6KoP7HlLNAXRT9xJvC4gVPmWtVvokPZlh4E0InYVW1dojWfoC9YHRuA1A\"></div></div><div _ngcontent-serverapp-c205=\"\" class=\"info\"><div _ngcontent-serverapp-c205=\"\" class=\"name\"> CiviCRM LLC </div><div _ngcontent-serverapp-c205=\"\" class=\"short-description\"> Growing and sustaining relationships </div></div></a></div></app-card></app-orgs-card></div></div><!----><div _ngcontent-serverapp-c206=\"\" class=\"grid__row__item grid__row__item--span6@md grid__row__item--span4@xlg ng-star-inserted\"><div _ngcontent-serverapp-c206=\"\" class=\"org-wrapper\"><app-orgs-card _ngcontent-serverapp-c206=\"\" _nghost-serverapp-c205=\"\"><app-card _ngcontent-serverapp-c205=\"\" _nghost-serverapp-c84=\"\"><div _ngcontent-serverapp-c84=\"\" class=\"card\"><a _ngcontent-serverapp-c205=\"\" class=\"content\" href=\"/archive/2021/organizations/5332159690178560\"><div _ngcontent-serverapp-c205=\"\" class=\"logo\" style=\"background-color: white;\"><div _ngcontent-serverapp-c205=\"\" class=\"img-wrapper\"><img _ngcontent-serverapp-c205=\"\" src=\"//lh3.googleusercontent.com/gFllx72w7gq-yyFDNWAVoiV5Uq7h1xqoF2VJRY4jdLRxvl0UwoepFaXl0DfKy_W6Pk3o4UaDYHrAnXcZ1rQ0eYt7qIgfj7dWsbo64gowtrZs\"></div></div><div _ngcontent-serverapp-c205=\"\" class=\"info\"><div _ngcontent-serverapp-c205=\"\" class=\"name\"> CloudCV </div><div _ngcontent-serverapp-c205=\"\" class=\"short-description\"> Building platforms for reproducible AI research </div></div></a></div></app-card></app-orgs-card></div></div><!----><div _ngcontent-serverapp-c206=\"\" class=\"grid__row__item grid__row__item--span6@md grid__row__item--span4@xlg ng-star-inserted\"><div _ngcontent-serverapp-c206=\"\" class=\"org-wrapper\"><app-orgs-card _ngcontent-serverapp-c206=\"\" _nghost-serverapp-c205=\"\"><app-card _ngcontent-serverapp-c205=\"\" _nghost-serverapp-c84=\"\"><div _ngcontent-serverapp-c84=\"\" class=\"card\"><a _ngcontent-serverapp-c205=\"\" class=\"content\" href=\"/archive/2021/organizations/5144170817126400\"><div _ngcontent-serverapp-c205=\"\" class=\"logo\" style=\"background-color: white;\"><div _ngcontent-serverapp-c205=\"\" class=\"img-wrapper\"><img _ngcontent-serverapp-c205=\"\" src=\"//lh3.googleusercontent.com/ub_8LDRAaK9RfwbzFVyoHE_7V_t26uGkEYgZYriaD08Lf2ZxyfqUpvFJMsmi013M6PWI9FD8dtHEdYACFpvMDLtxDFWUtpeAr3vfjZwrkbEpxQ\"></div></div><div _ngcontent-serverapp-c205=\"\" class=\"info\"><div _ngcontent-serverapp-c205=\"\" class=\"name\"> CNCF </div><div _ngcontent-serverapp-c205=\"\" class=\"short-description\"> Building sustainable ecosystems for cloud native software </div></div></a></div></app-card></app-orgs-card></div></div><!----><div _ngcontent-serverapp-c206=\"\" class=\"grid__row__item grid__row__item--span6@md grid__row__item--span4@xlg ng-star-inserted\"><div _ngcontent-serverapp-c206=\"\" class=\"org-wrapper\"><app-orgs-card _ngcontent-serverapp-c206=\"\" _nghost-serverapp-c205=\"\"><app-card _ngcontent-serverapp-c205=\"\" _nghost-serverapp-c84=\"\"><div _ngcontent-serverapp-c84=\"\" class=\"card\"><a _ngcontent-serverapp-c205=\"\" class=\"content\" href=\"/archive/2021/organizations/4904398832009216\"><div _ngcontent-serverapp-c205=\"\" class=\"logo\" style=\"background-color: white;\"><div _ngcontent-serverapp-c205=\"\" class=\"img-wrapper\"><img _ngcontent-serverapp-c205=\"\" src=\"//lh3.googleusercontent.com/0PqG5lb1LsnualMXfs468WjitwnUq_jx1wefb_QF6EgC8c7LOp4DYPODanM12sQM1f7RlV4vXHaucZ8ZJ8PyiBdlE5kR8s5gQxUSsm_WoxYf\"></div></div><div _ngcontent-serverapp-c205=\"\" class=\"info\"><div _ngcontent-serverapp-c205=\"\" class=\"name\"> coala </div><div _ngcontent-serverapp-c205=\"\" class=\"short-description\"> Linting and Fixing Code for All Languages </div></div></a></div></app-card></app-orgs-card></div></div><!----><div _ngcontent-serverapp-c206=\"\" class=\"grid__row__item grid__row__item--span6@md grid__row__item--span4@xlg ng-star-inserted\"><div _ngcontent-serverapp-c206=\"\" class=\"org-wrapper\"><app-orgs-card _ngcontent-serverapp-c206=\"\" _nghost-serverapp-c205=\"\"><app-card _ngcontent-serverapp-c205=\"\" _nghost-serverapp-c84=\"\"><div _ngcontent-serverapp-c84=\"\" class=\"card\"><a _ngcontent-serverapp-c205=\"\" class=\"content\" href=\"/archive/2021/organizations/5349298455183360\"><div _ngcontent-serverapp-c205=\"\" class=\"logo\" style=\"background-color: white;\"><div _ngcontent-serverapp-c205=\"\" class=\"img-wrapper\"><img _ngcontent-serverapp-c205=\"\" src=\"//lh3.googleusercontent.com/LIm70oXZmOAwSUXnJnrFu6kj-uICMl6w_uM6scdnz2QXD8DREGO1wML3-5bCcKYOHHhPf7UmAmXWyw002rJhneQP5tkP5Au3u4Fa4txdw7Re\"></div></div><div _ngcontent-serverapp-c205=\"\" class=\"info\"><div _ngcontent-serverapp-c205=\"\" class=\"name\"> Continuous Delivery Foundation </div><div _ngcontent-serverapp-c205=\"\" class=\"short-description\"> Open-source community seeking to deliver software with security &amp; speed </div></div></a></div></app-card></app-orgs-card></div></div><!----><div _ngcontent-serverapp-c206=\"\" class=\"grid__row__item grid__row__item--span6@md grid__row__item--span4@xlg ng-star-inserted\"><div _ngcontent-serverapp-c206=\"\" class=\"org-wrapper\"><app-orgs-card _ngcontent-serverapp-c206=\"\" _nghost-serverapp-c205=\"\"><app-card _ngcontent-serverapp-c205=\"\" _nghost-serverapp-c84=\"\"><div _ngcontent-serverapp-c84=\"\" class=\"card\"><a _ngcontent-serverapp-c205=\"\" class=\"content\" href=\"/archive/2021/organizations/5396163661922304\"><div _ngcontent-serverapp-c205=\"\" class=\"logo\" style=\"background-color: white;\"><div _ngcontent-serverapp-c205=\"\" class=\"img-wrapper\"><img _ngcontent-serverapp-c205=\"\" src=\"//lh3.googleusercontent.com/AMJsasWUBl3CP2msuUhZReFBYYHQFmz-BscdWoAmacVEhNduLntiFh3gPEA6cN5r4nE8Hi0Scx-ohTqybfRbZVi9yh9wYGFMKXpNhSEGsnM4\"></div></div><div _ngcontent-serverapp-c205=\"\" class=\"info\"><div _ngcontent-serverapp-c205=\"\" class=\"name\"> CRIU </div><div _ngcontent-serverapp-c205=\"\" class=\"short-description\"> Checkpoint/Restore in User-space </div></div></a></div></app-card></app-orgs-card></div></div><!----><div _ngcontent-serverapp-c206=\"\" class=\"grid__row__item grid__row__item--span6@md grid__row__item--span4@xlg ng-star-inserted\"><div _ngcontent-serverapp-c206=\"\" class=\"org-wrapper\"><app-orgs-card _ngcontent-serverapp-c206=\"\" _nghost-serverapp-c205=\"\"><app-card _ngcontent-serverapp-c205=\"\" _nghost-serverapp-c84=\"\"><div _ngcontent-serverapp-c84=\"\" class=\"card\"><a _ngcontent-serverapp-c205=\"\" class=\"content\" href=\"/archive/2021/organizations/5679162177617920\"><div _ngcontent-serverapp-c205=\"\" class=\"logo\" style=\"background-color: rgb(0, 0, 0);\"><div _ngcontent-serverapp-c205=\"\" class=\"img-wrapper\"><img _ngcontent-serverapp-c205=\"\" src=\"//lh3.googleusercontent.com/H0CTWDHbqX_SIOLfJxJMrAgxGTiOgHXPKvCME5ekgC0pED0kMToGyg-b1xiB2-alTRsSYUAEy-NB1glS34aineQ8IPc9ievGfM69W3KXKCzV\"></div></div><div _ngcontent-serverapp-c205=\"\" class=\"info\"><div _ngcontent-serverapp-c205=\"\" class=\"name\"> Cuneiform Digital Library Initiative (CDLI) </div><div _ngcontent-serverapp-c205=\"\" class=\"short-description\"> International digital library of artifacts inscribed with cuneiform writing </div></div></a></div></app-card></app-orgs-card></div></div><!----><div _ngcontent-serverapp-c206=\"\" class=\"grid__row__item grid__row__item--span6@md grid__row__item--span4@xlg ng-star-inserted\"><div _ngcontent-serverapp-c206=\"\" class=\"org-wrapper\"><app-orgs-card _ngcontent-serverapp-c206=\"\" _nghost-serverapp-c205=\"\"><app-card _ngcontent-serverapp-c205=\"\" _nghost-serverapp-c84=\"\"><div _ngcontent-serverapp-c84=\"\" class=\"card\"><a _ngcontent-serverapp-c205=\"\" class=\"content\" href=\"/archive/2021/organizations/6522063568764928\"><div _ngcontent-serverapp-c205=\"\" class=\"logo\" style=\"background-color: rgb(13, 21, 32);\"><div _ngcontent-serverapp-c205=\"\" class=\"img-wrapper\"><img _ngcontent-serverapp-c205=\"\" src=\"//lh3.googleusercontent.com/FHtQJqAq7mCbRMJewtwCrdNxQ50Ye98GhvPJXzJMf6ggMeSSEuAfTEIiOJPi07QJ_CvSUn7zp2s6RJzB-oMm0vpey-QkiCFl79bnqhr1Id7c\"></div></div><div _ngcontent-serverapp-c205=\"\" class=\"info\"><div _ngcontent-serverapp-c205=\"\" class=\"name\"> Dart </div><div _ngcontent-serverapp-c205=\"\" class=\"short-description\"> Dart is a client-optimized language for fast apps on any platform. </div></div></a></div></app-card></app-orgs-card></div></div><!----><div _ngcontent-serverapp-c206=\"\" class=\"grid__row__item grid__row__item--span6@md grid__row__item--span4@xlg ng-star-inserted\"><div _ngcontent-serverapp-c206=\"\" class=\"org-wrapper\"><app-orgs-card _ngcontent-serverapp-c206=\"\" _nghost-serverapp-c205=\"\"><app-card _ngcontent-serverapp-c205=\"\" _nghost-serverapp-c84=\"\"><div _ngcontent-serverapp-c84=\"\" class=\"card\"><a _ngcontent-serverapp-c205=\"\" class=\"content\" href=\"/archive/2021/organizations/4709350374899712\"><div _ngcontent-serverapp-c205=\"\" class=\"logo\" style=\"background-color: white;\"><div _ngcontent-serverapp-c205=\"\" class=\"img-wrapper\"><img _ngcontent-serverapp-c205=\"\" src=\"//lh3.googleusercontent.com/aJEgECk_Jxdz-hurYXaFNJiFwIR97QszHpMEiBlB_q3wY4Mo8r789KswFo7mKLPK19JXBhDEunPO0hvY1Td9hjzFTohHdhZucY_C46UqG60\"></div></div><div _ngcontent-serverapp-c205=\"\" class=\"info\"><div _ngcontent-serverapp-c205=\"\" class=\"name\"> DBpedia </div><div _ngcontent-serverapp-c205=\"\" class=\"short-description\"> Global and Unified Access to Knowledge Graphs </div></div></a></div></app-card></app-orgs-card></div></div><!----><div _ngcontent-serverapp-c206=\"\" class=\"grid__row__item grid__row__item--span6@md grid__row__item--span4@xlg ng-star-inserted\"><div _ngcontent-serverapp-c206=\"\" class=\"org-wrapper\"><app-orgs-card _ngcontent-serverapp-c206=\"\" _nghost-serverapp-c205=\"\"><app-card _ngcontent-serverapp-c205=\"\" _nghost-serverapp-c84=\"\"><div _ngcontent-serverapp-c84=\"\" class=\"card\"><a _ngcontent-serverapp-c205=\"\" class=\"content\" href=\"/archive/2021/organizations/5913368723980288\"><div _ngcontent-serverapp-c205=\"\" class=\"logo\" style=\"background-color: white;\"><div _ngcontent-serverapp-c205=\"\" class=\"img-wrapper\"><img _ngcontent-serverapp-c205=\"\" src=\"//lh3.googleusercontent.com/WSl83xtP34EDZwklbNFZj-mr3HGbFPAwX4EcL9spcHB-RdYyFljNeXGVnc6Sh6USOvs27nSv0DtLQmLoFEPMPW0q_1J4Jlb3CL2pKrrPv2U\"></div></div><div _ngcontent-serverapp-c205=\"\" class=\"info\"><div _ngcontent-serverapp-c205=\"\" class=\"name\"> Debian </div><div _ngcontent-serverapp-c205=\"\" class=\"short-description\"> The Universal Operating System </div></div></a></div></app-card></app-orgs-card></div></div><!----><div _ngcontent-serverapp-c206=\"\" class=\"grid__row__item grid__row__item--span6@md grid__row__item--span4@xlg ng-star-inserted\"><div _ngcontent-serverapp-c206=\"\" class=\"org-wrapper\"><app-orgs-card _ngcontent-serverapp-c206=\"\" _nghost-serverapp-c205=\"\"><app-card _ngcontent-serverapp-c205=\"\" _nghost-serverapp-c84=\"\"><div _ngcontent-serverapp-c84=\"\" class=\"card\"><a _ngcontent-serverapp-c205=\"\" class=\"content\" href=\"/archive/2021/organizations/6618455117135872\"><div _ngcontent-serverapp-c205=\"\" class=\"logo\" style=\"background-color: rgb(0, 118, 189);\"><div _ngcontent-serverapp-c205=\"\" class=\"img-wrapper\"><img _ngcontent-serverapp-c205=\"\" src=\"//lh3.googleusercontent.com/8My3sdK_IV-eO8auuG5u2b4zAtqDSkh8w6IyZFa11hZ9prbIGV6wI_Scgj87kUDcfFI15s9DsVNVyR4n_iY5g4Qnk-QEJzxJQEhB1y900k6c\"></div></div><div _ngcontent-serverapp-c205=\"\" class=\"info\"><div _ngcontent-serverapp-c205=\"\" class=\"name\"> DeepPavlov </div><div _ngcontent-serverapp-c205=\"\" class=\"short-description\"> Open-source Conversational AI Stack </div></div></a></div></app-card></app-orgs-card></div></div><!----><div _ngcontent-serverapp-c206=\"\" class=\"grid__row__item grid__row__item--span6@md grid__row__item--span4@xlg ng-star-inserted\"><div _ngcontent-serverapp-c206=\"\" class=\"org-wrapper\"><app-orgs-card _ngcontent-serverapp-c206=\"\" _nghost-serverapp-c205=\"\"><app-card _ngcontent-serverapp-c205=\"\" _nghost-serverapp-c84=\"\"><div _ngcontent-serverapp-c84=\"\" class=\"card\"><a _ngcontent-serverapp-c205=\"\" class=\"content\" href=\"/archive/2021/organizations/6515383720214528\"><div _ngcontent-serverapp-c205=\"\" class=\"logo\" style=\"background-color: white;\"><div _ngcontent-serverapp-c205=\"\" class=\"img-wrapper\"><img _ngcontent-serverapp-c205=\"\" src=\"//lh3.googleusercontent.com/t86cPsyvJ7-J-_LHJoh5wm8sWL2VPS11Qp85uAjAQhqABKgIM1DUBPIXrwzd4wRgSfMXoxolzSs0zI8WnFhaAqkt91sdEwhUbyWijR1vrY8\"></div></div><div _ngcontent-serverapp-c205=\"\" class=\"info\"><div _ngcontent-serverapp-c205=\"\" class=\"name\"> Department of Biomedical Informatics (BMI), Emory University School of Medicine </div><div _ngcontent-serverapp-c205=\"\" class=\"short-description\"> Data science and integrative biomedical research to advance healthcare </div></div></a></div></app-card></app-orgs-card></div></div><!----><div _ngcontent-serverapp-c206=\"\" class=\"grid__row__item grid__row__item--span6@md grid__row__item--span4@xlg ng-star-inserted\"><div _ngcontent-serverapp-c206=\"\" class=\"org-wrapper\"><app-orgs-card _ngcontent-serverapp-c206=\"\" _nghost-serverapp-c205=\"\"><app-card _ngcontent-serverapp-c205=\"\" _nghost-serverapp-c84=\"\"><div _ngcontent-serverapp-c84=\"\" class=\"card\"><a _ngcontent-serverapp-c205=\"\" class=\"content\" href=\"/archive/2021/organizations/5400186335002624\"><div _ngcontent-serverapp-c205=\"\" class=\"logo\" style=\"background-color: rgb(255, 255, 255);\"><div _ngcontent-serverapp-c205=\"\" class=\"img-wrapper\"><img _ngcontent-serverapp-c205=\"\" src=\"//lh3.googleusercontent.com/Le5g8nd_b866W_Pry3h8biYJAOYEsQfFrHFNW4Dm05BL3WS9ebElcVrR2DZZqAoykslldW50EO00vlnI7liRUApgfTUEJxY_-QDmKJVc-hG3\"></div></div><div _ngcontent-serverapp-c205=\"\" class=\"info\"><div _ngcontent-serverapp-c205=\"\" class=\"name\"> Digital Impact Alliance (DIAL) at UN Foundation </div><div _ngcontent-serverapp-c205=\"\" class=\"short-description\"> Open source projects for humanitarian work, international development, and peace </div></div></a></div></app-card></app-orgs-card></div></div><!----><div _ngcontent-serverapp-c206=\"\" class=\"grid__row__item grid__row__item--span6@md grid__row__item--span4@xlg ng-star-inserted\"><div _ngcontent-serverapp-c206=\"\" class=\"org-wrapper\"><app-orgs-card _ngcontent-serverapp-c206=\"\" _nghost-serverapp-c205=\"\"><app-card _ngcontent-serverapp-c205=\"\" _nghost-serverapp-c84=\"\"><div _ngcontent-serverapp-c84=\"\" class=\"card\"><a _ngcontent-serverapp-c205=\"\" class=\"content\" href=\"/archive/2021/organizations/6030298738851840\"><div _ngcontent-serverapp-c205=\"\" class=\"logo\" style=\"background-color: rgb(9, 46, 32);\"><div _ngcontent-serverapp-c205=\"\" class=\"img-wrapper\"><img _ngcontent-serverapp-c205=\"\" src=\"//lh3.googleusercontent.com/toQfBC2DoWA4uYeEQq_Qeqc6wVVitadKhET5YQhwgUxBRKoi-jZDE5hTZBlW5iCMz8VdhHIhbsFuTykmJhZiNnDsgoY9o5iosymiUMTmEkgJ\"></div></div><div _ngcontent-serverapp-c205=\"\" class=\"info\"><div _ngcontent-serverapp-c205=\"\" class=\"name\"> Django Software Foundation </div><div _ngcontent-serverapp-c205=\"\" class=\"short-description\"> The web framework for perfectionists with deadlines. </div></div></a></div></app-card></app-orgs-card></div></div><!----><div _ngcontent-serverapp-c206=\"\" class=\"grid__row__item grid__row__item--span6@md grid__row__item--span4@xlg ng-star-inserted\"><div _ngcontent-serverapp-c206=\"\" class=\"org-wrapper\"><app-orgs-card _ngcontent-serverapp-c206=\"\" _nghost-serverapp-c205=\"\"><app-card _ngcontent-serverapp-c205=\"\" _nghost-serverapp-c84=\"\"><div _ngcontent-serverapp-c84=\"\" class=\"card\"><a _ngcontent-serverapp-c205=\"\" class=\"content\" href=\"/archive/2021/organizations/5833213695492096\"><div _ngcontent-serverapp-c205=\"\" class=\"logo\" style=\"background-color: white;\"><div _ngcontent-serverapp-c205=\"\" class=\"img-wrapper\"><img _ngcontent-serverapp-c205=\"\" src=\"//lh3.googleusercontent.com/-XNgKxWjgT1sO2zqY9dM86ocsPJAUPj-XM2iojUjf8vaEhyBmAj_gk8MR4mnIpKd8UYx-aXCnSjkPBHrkZM1ypuyaYFJ-hmzjOzdNUP0RQBN\"></div></div><div _ngcontent-serverapp-c205=\"\" class=\"info\"><div _ngcontent-serverapp-c205=\"\" class=\"name\"> Elm Tooling </div><div _ngcontent-serverapp-c205=\"\" class=\"short-description\"> Improving your Elm experience! </div></div></a></div></app-card></app-orgs-card></div></div><!----><div _ngcontent-serverapp-c206=\"\" class=\"grid__row__item grid__row__item--span6@md grid__row__item--span4@xlg ng-star-inserted\"><div _ngcontent-serverapp-c206=\"\" class=\"org-wrapper\"><app-orgs-card _ngcontent-serverapp-c206=\"\" _nghost-serverapp-c205=\"\"><app-card _ngcontent-serverapp-c205=\"\" _nghost-serverapp-c84=\"\"><div _ngcontent-serverapp-c84=\"\" class=\"card\"><a _ngcontent-serverapp-c205=\"\" class=\"content\" href=\"/archive/2021/organizations/6245462977282048\"><div _ngcontent-serverapp-c205=\"\" class=\"logo\" style=\"background-color: white;\"><div _ngcontent-serverapp-c205=\"\" class=\"img-wrapper\"><img _ngcontent-serverapp-c205=\"\" src=\"//lh3.googleusercontent.com/sIiEpjlkpruasjxMa0iE9_B9bjQy0BddcwKR1muP0pkS6AEAWHQb7D618NlDm1Qiz9H6gwwBhMsY5A65GU3ivNO3Jpm9BJvsRtf5HInEPkO2\"></div></div><div _ngcontent-serverapp-c205=\"\" class=\"info\"><div _ngcontent-serverapp-c205=\"\" class=\"name\"> FFmpeg </div><div _ngcontent-serverapp-c205=\"\" class=\"short-description\"> A complete, cross-platform solution to record, convert and stream audio &amp; video </div></div></a></div></app-card></app-orgs-card></div></div><!----><div _ngcontent-serverapp-c206=\"\" class=\"grid__row__item grid__row__item--span6@md grid__row__item--span4@xlg ng-star-inserted\"><div _ngcontent-serverapp-c206=\"\" class=\"org-wrapper\"><app-orgs-card _ngcontent-serverapp-c206=\"\" _nghost-serverapp-c205=\"\"><app-card _ngcontent-serverapp-c205=\"\" _nghost-serverapp-c84=\"\"><div _ngcontent-serverapp-c84=\"\" class=\"card\"><a _ngcontent-serverapp-c205=\"\" class=\"content\" href=\"/archive/2021/organizations/6542461173760000\"><div _ngcontent-serverapp-c205=\"\" class=\"logo\" style=\"background-color: white;\"><div _ngcontent-serverapp-c205=\"\" class=\"img-wrapper\"><img _ngcontent-serverapp-c205=\"\" src=\"//lh3.googleusercontent.com/7nQkXPGtl7Ck24cDH52pc4VxnjCUJTm1MX9951_tHHdyxlvaF9Us_vWLC5kowSgmF6LN_TkYkOhgjKke_uYmFrlsqaHka8Xarkioh7AL_HGc\"></div></div><div _ngcontent-serverapp-c205=\"\" class=\"info\"><div _ngcontent-serverapp-c205=\"\" class=\"name\"> Fortran-lang </div><div _ngcontent-serverapp-c205=\"\" class=\"short-description\"> Fortran Programming Language </div></div></a></div></app-card></app-orgs-card></div></div><!----><div _ngcontent-serverapp-c206=\"\" class=\"grid__row__item grid__row__item--span6@md grid__row__item--span4@xlg ng-star-inserted\"><div _ngcontent-serverapp-c206=\"\" class=\"org-wrapper\"><app-orgs-card _ngcontent-serverapp-c206=\"\" _nghost-serverapp-c205=\"\"><app-card _ngcontent-serverapp-c205=\"\" _nghost-serverapp-c84=\"\"><div _ngcontent-serverapp-c84=\"\" class=\"card\"><a _ngcontent-serverapp-c205=\"\" class=\"content\" href=\"/archive/2021/organizations/5641437164601344\"><div _ngcontent-serverapp-c205=\"\" class=\"logo\" style=\"background-color: rgb(247, 247, 247);\"><div _ngcontent-serverapp-c205=\"\" class=\"img-wrapper\"><img _ngcontent-serverapp-c205=\"\" src=\"//lh3.googleusercontent.com/adi0Bt6SjnvVH6G_dQxN1Zr5qxvbrn8Wua0_UD4OTuctiOG183dGd8dSkkVDWPqmk3KN2xR743SSwu9fPwjfJI7gWpKTrYMy1W7x8OAZI7w\"></div></div><div _ngcontent-serverapp-c205=\"\" class=\"info\"><div _ngcontent-serverapp-c205=\"\" class=\"name\"> FOSSology </div><div _ngcontent-serverapp-c205=\"\" class=\"short-description\"> Open Source Compliance with Open Source Tools </div></div></a></div></app-card></app-orgs-card></div></div><!----><div _ngcontent-serverapp-c206=\"\" class=\"grid__row__item grid__row__item--span6@md grid__row__item--span4@xlg ng-star-inserted\"><div _ngcontent-serverapp-c206=\"\" class=\"org-wrapper\"><app-orgs-card _ngcontent-serverapp-c206=\"\" _nghost-serverapp-c205=\"\"><app-card _ngcontent-serverapp-c205=\"\" _nghost-serverapp-c84=\"\"><div _ngcontent-serverapp-c84=\"\" class=\"card\"><a _ngcontent-serverapp-c205=\"\" class=\"content\" href=\"/archive/2021/organizations/6046169112772608\"><div _ngcontent-serverapp-c205=\"\" class=\"logo\" style=\"background-color: white;\"><div _ngcontent-serverapp-c205=\"\" class=\"img-wrapper\"><img _ngcontent-serverapp-c205=\"\" src=\"//lh3.googleusercontent.com/4LNL-fV4t3l6MZAA2g-OKLB1hn_lhNlLvf11ppHHRlpt5gEDFhfHFNO1vTa1rvysdir88AjTFzg09XaXPP2V-rar-HgWpP-VF4Qxv-X_iPtn\"></div></div><div _ngcontent-serverapp-c205=\"\" class=\"info\"><div _ngcontent-serverapp-c205=\"\" class=\"name\"> FrameNet Brasil (UFJF) </div><div _ngcontent-serverapp-c205=\"\" class=\"short-description\"> Natural Language Understanding with structured computational semantics </div></div></a></div></app-card></app-orgs-card></div></div><!----><!----></div><!----></div><div _ngcontent-serverapp-c206=\"\" class=\"ng-star-inserted\"><mat-paginator _ngcontent-serverapp-c206=\"\" role=\"group\" aria-label=\"Select page\" class=\"mat-paginator\"><div class=\"mat-paginator-outer-container\"><div class=\"mat-paginator-container\"><div class=\"mat-paginator-page-size ng-star-inserted\"><div class=\"mat-paginator-page-size-label\"> Items per page: </div><mat-form-field class=\"mat-form-field mat-paginator-page-size-select ng-tns-c43-4 mat-primary mat-form-field-type-mat-select mat-form-field-appearance-outline mat-form-field-can-float ng-star-inserted mat-form-field-should-float\"><div class=\"mat-form-field-wrapper ng-tns-c43-4\"><div class=\"mat-form-field-flex ng-tns-c43-4\"><div class=\"mat-form-field-outline ng-tns-c43-4 ng-star-inserted\"><div class=\"mat-form-field-outline-start ng-tns-c43-4\"></div><div class=\"mat-form-field-outline-gap ng-tns-c43-4\"></div><div class=\"mat-form-field-outline-end ng-tns-c43-4\"></div></div><div class=\"mat-form-field-outline mat-form-field-outline-thick ng-tns-c43-4 ng-star-inserted\"><div class=\"mat-form-field-outline-start ng-tns-c43-4\"></div><div class=\"mat-form-field-outline-gap ng-tns-c43-4\"></div><div class=\"mat-form-field-outline-end ng-tns-c43-4\"></div></div><!----><!----><!----><div class=\"mat-form-field-infix ng-tns-c43-4\"><mat-select role=\"combobox\" aria-autocomplete=\"none\" aria-haspopup=\"true\" class=\"mat-select ng-tns-c132-5 ng-tns-c43-4 ng-star-inserted\" id=\"mat-select-2\" tabindex=\"0\" aria-expanded=\"false\" aria-label=\"Items per page:\" aria-required=\"false\" aria-disabled=\"false\" aria-invalid=\"false\"><div cdk-overlay-origin=\"\" class=\"mat-select-trigger ng-tns-c132-5\"><div class=\"mat-select-value ng-tns-c132-5\" id=\"mat-select-value-3\"><!----><span class=\"mat-select-value-text ng-tns-c132-5 ng-star-inserted\"><span class=\"mat-select-min-line ng-tns-c132-5 ng-star-inserted\">50</span><!----><!----></span><!----></div><div class=\"mat-select-arrow-wrapper ng-tns-c132-5\"><div class=\"mat-select-arrow ng-tns-c132-5\"></div></div></div><!----></mat-select><span class=\"mat-form-field-label-wrapper ng-tns-c43-4\"><!----></span></div><!----></div><!----><div class=\"mat-form-field-subscript-wrapper ng-tns-c43-4\"><!----><div class=\"mat-form-field-hint-wrapper ng-tns-c43-4 ng-trigger ng-trigger-transitionMessages ng-star-inserted\" style=\"opacity: 1; transform: translateY(0%);\"><!----><div class=\"mat-form-field-hint-spacer ng-tns-c43-4\"></div></div><!----></div></div></mat-form-field><!----><!----></div><!----><div class=\"mat-paginator-range-actions\"><div class=\"mat-paginator-range-label\"> 1 – 50 of 202 </div><!----><button mat-icon-button=\"\" type=\"button\" class=\"mat-focus-indicator mat-tooltip-trigger mat-paginator-navigation-previous mat-icon-button mat-button-base mat-button-disabled\" aria-label=\"Previous page\" disabled=\"true\"><span class=\"mat-button-wrapper\"><svg viewBox=\"0 0 24 24\" focusable=\"false\" class=\"mat-paginator-icon\"><path d=\"M15.41 7.41L14 6l-6 6 6 6 1.41-1.41L10.83 12z\"></path></svg></span><span matripple=\"\" class=\"mat-ripple mat-button-ripple mat-button-ripple-round\"></span><span class=\"mat-button-focus-overlay\"></span></button><!----><button mat-icon-button=\"\" type=\"button\" class=\"mat-focus-indicator mat-tooltip-trigger mat-paginator-navigation-next mat-icon-button mat-button-base\" aria-label=\"Next page\"><span class=\"mat-button-wrapper\"><svg viewBox=\"0 0 24 24\" focusable=\"false\" class=\"mat-paginator-icon\"><path d=\"M10 6L8.59 7.41 13.17 12l-4.58 4.59L10 18l6-6z\"></path></svg></span><span matripple=\"\" class=\"mat-ripple mat-button-ripple mat-button-ripple-round\"></span><span class=\"mat-button-focus-overlay\"></span></button><!----><!----></div></div></div></mat-paginator></div><!----></div><!----><!----></section><!----><!----></app-orgs-grid></app-organizations><!----><!----></main></div></div><!----><!----><!----><app-footer _ngcontent-serverapp-c76=\"\" _nghost-serverapp-c64=\"\"><footer _ngcontent-serverapp-c64=\"\" class=\"footer theme--white\"><div _ngcontent-serverapp-c64=\"\" class=\"footer__content\"><div _ngcontent-serverapp-c64=\"\" class=\"grid\"><div _ngcontent-serverapp-c64=\"\" class=\"grid__row\"><div _ngcontent-serverapp-c64=\"\" class=\"grid__row__item grid__row__item--span7@md grid__row__item--span12@sm\"><div _ngcontent-serverapp-c64=\"\" class=\"footer-logo\"><a _ngcontent-serverapp-c64=\"\" app-route=\"HOME\" href=\"/\" class=\"\"><img _ngcontent-serverapp-c64=\"\" src=\"assets/media/logo.svg\" alt=\"Google Summer of Code logo\"><span _ngcontent-serverapp-c64=\"\" class=\"visually-hidden\"> Google Summer of Code Home </span></a><div _ngcontent-serverapp-c64=\"\" class=\"vr vr--2x\"></div><p _ngcontent-serverapp-c64=\"\"> Introducing developers to open source software development </p></div></div><div _ngcontent-serverapp-c64=\"\" class=\"grid__row__item grid__row__item--span5@md grid__row__item--span12@sm\"><div _ngcontent-serverapp-c64=\"\" class=\"right-nav-wrapper\"><ul _ngcontent-serverapp-c64=\"\"><li _ngcontent-serverapp-c64=\"\"><a _ngcontent-serverapp-c64=\"\" app-route=\"PUBLIC_ABOUT\" href=\"/about\">About</a></li><li _ngcontent-serverapp-c64=\"\"><a _ngcontent-serverapp-c64=\"\" app-route=\"PUBLIC_GET_STARTED\" href=\"/get-started\"> Get started </a></li><li _ngcontent-serverapp-c64=\"\"><a _ngcontent-serverapp-c64=\"\" app-route=\"PUBLIC_HOW_IT_WORKS\" href=\"/how-it-works\"> How it works </a></li><li _ngcontent-serverapp-c64=\"\"><a _ngcontent-serverapp-c64=\"\" app-route=\"ARCHIVED_PROGRAMS\" href=\"/archive\"> Past programs </a></li></ul><ul _ngcontent-serverapp-c64=\"\"><li _ngcontent-serverapp-c64=\"\"><a _ngcontent-serverapp-c64=\"\" href=\"https://opensource.googleblog.com/search/label/gsoc\" target=\"_blank\" title=\"Opens in a new window\"> News </a></li><li _ngcontent-serverapp-c64=\"\"><a _ngcontent-serverapp-c64=\"\" app-route=\"PUBLIC_HELP\" href=\"/help\">Help</a></li><li _ngcontent-serverapp-c64=\"\"><a _ngcontent-serverapp-c64=\"\" href=\"https://developers.google.com/open-source/gsoc/contact\" target=\"_blank\" title=\"Opens in a new window\"> Contact </a></li></ul></div></div></div><div _ngcontent-serverapp-c64=\"\" class=\"grid__row\"><div _ngcontent-serverapp-c64=\"\" class=\"grid__row__item\"><hr _ngcontent-serverapp-c64=\"\"></div></div><div _ngcontent-serverapp-c64=\"\" class=\"grid__row\"><div _ngcontent-serverapp-c64=\"\" class=\"grid__row__item\"><div _ngcontent-serverapp-c64=\"\" class=\"bottom-nav-wrapper\"><div _ngcontent-serverapp-c64=\"\" class=\"vr vr--3x\"></div><ul _ngcontent-serverapp-c64=\"\"><li _ngcontent-serverapp-c64=\"\"><a _ngcontent-serverapp-c64=\"\" href=\"https://www.google.com\" target=\"_blank\" title=\"Opens in a new window\" aria-label=\"Google\"><span _ngcontent-serverapp-c64=\"\" class=\"google-word\"></span></a></li><li _ngcontent-serverapp-c64=\"\"><a _ngcontent-serverapp-c64=\"\" href=\"https://policies.google.com/privacy?hl=en\" target=\"_blank\" title=\"Opens in a new window\"> Privacy </a></li><li _ngcontent-serverapp-c64=\"\"><a _ngcontent-serverapp-c64=\"\" app-route=\"PUBLIC_RULES\" href=\"/rules\">Rules</a></li><li _ngcontent-serverapp-c64=\"\"><a _ngcontent-serverapp-c64=\"\" app-route=\"PUBLIC_TERMS\" href=\"/terms\">Terms</a></li><!----></ul></div></div></div></div></div></footer></app-footer></mat-sidenav-content><!----><!----></mat-sidenav-container></app-layout></app-root>\\n        <script data-autoload-cookie-consent-bar=\"true\" data-autoload-cookie-consent-bar-intl-code=\"\" src=\"https://www.gstatic.com/brandstudio/kato/cookie_choice_component/cookie_consent_bar.v3.js\"></script>\\n    <script src=\"runtime.b0120a480315cc2f73d7.js\" defer=\"\"></script><script src=\"polyfills.b2b3d4c66688de988060.js\" defer=\"\"></script><script src=\"main.2f91d6e4983c9fd394aa.js\" defer=\"\"></script>\\n\\n<div class=\"cdk-live-announcer-element cdk-visually-hidden\" aria-atomic=\"true\" aria-live=\"polite\"></div><iframe id=\"ssIFrame_google\" sandbox=\"allow-scripts allow-same-origin\" aria-hidden=\"true\" frame-border=\"0\" src=\"https://accounts.google.com/o/oauth2/iframe#origin=https%3A%2F%2Fsummerofcode.withgoogle.com&amp;rpcToken=448057881.3178385\" style=\"position: absolute; width: 1px; height: 1px; inset: -9999px; display: none;\"></iframe></body></html>'"
            ]
          },
          "metadata": {},
          "execution_count": 171
        }
      ]
    },
    {
      "cell_type": "code",
      "source": [
        "soup = BeautifulSoup(page, \"html.parser\")"
      ],
      "metadata": {
        "id": "ZSkxeJGbtZnM"
      },
      "execution_count": 174,
      "outputs": []
    },
    {
      "cell_type": "code",
      "source": [
        "soup.title"
      ],
      "metadata": {
        "colab": {
          "base_uri": "https://localhost:8080/"
        },
        "id": "wl6r2pJotdcz",
        "outputId": "55e0cc73-83ca-48e0-f1f4-afb5cc75ac15"
      },
      "execution_count": 175,
      "outputs": [
        {
          "output_type": "execute_result",
          "data": {
            "text/plain": [
              "<title>Archive Organizations | Google Summer of Code</title>"
            ]
          },
          "metadata": {},
          "execution_count": 175
        }
      ]
    },
    {
      "cell_type": "code",
      "source": [
        "orgs = soup.find_all(\"div\", class_=\"card\")"
      ],
      "metadata": {
        "id": "q_8MSI_xtfRr"
      },
      "execution_count": 176,
      "outputs": []
    },
    {
      "cell_type": "code",
      "source": [
        "len(orgs)"
      ],
      "metadata": {
        "colab": {
          "base_uri": "https://localhost:8080/"
        },
        "id": "o4HmadyRt4eE",
        "outputId": "e485b48c-ead7-47bc-e1a5-62874c618f45"
      },
      "execution_count": 177,
      "outputs": [
        {
          "output_type": "execute_result",
          "data": {
            "text/plain": [
              "50"
            ]
          },
          "metadata": {},
          "execution_count": 177
        }
      ]
    },
    {
      "cell_type": "code",
      "source": [
        "org = orgs[0]\n"
      ],
      "metadata": {
        "id": "6ByImA29t6F7"
      },
      "execution_count": 178,
      "outputs": []
    },
    {
      "cell_type": "code",
      "source": [
        "org_name = org.find(\"div\", class_='name')"
      ],
      "metadata": {
        "id": "Lbjfba3fuHEu"
      },
      "execution_count": 179,
      "outputs": []
    },
    {
      "cell_type": "code",
      "source": [
        "org_name.text"
      ],
      "metadata": {
        "colab": {
          "base_uri": "https://localhost:8080/",
          "height": 35
        },
        "id": "bvHcG0oEuRJx",
        "outputId": "509d2c76-ad48-4721-edc9-d5314fa732f9"
      },
      "execution_count": 181,
      "outputs": [
        {
          "output_type": "execute_result",
          "data": {
            "application/vnd.google.colaboratory.intrinsic+json": {
              "type": "string"
            },
            "text/plain": [
              "' 52°North GmbH '"
            ]
          },
          "metadata": {},
          "execution_count": 181
        }
      ]
    },
    {
      "cell_type": "code",
      "source": [
        "url = \"https://summerofcode.withgoogle.com/\" + org.a[\"href\"]"
      ],
      "metadata": {
        "id": "OuFA8rlQuR_4"
      },
      "execution_count": 184,
      "outputs": []
    },
    {
      "cell_type": "code",
      "source": [
        "url"
      ],
      "metadata": {
        "colab": {
          "base_uri": "https://localhost:8080/",
          "height": 35
        },
        "id": "aUTgsvJMuf13",
        "outputId": "dd8fdf6e-abb7-40bf-be0f-3bbacfa7197a"
      },
      "execution_count": 185,
      "outputs": [
        {
          "output_type": "execute_result",
          "data": {
            "application/vnd.google.colaboratory.intrinsic+json": {
              "type": "string"
            },
            "text/plain": [
              "'https://summerofcode.withgoogle.com//archive/2021/organizations/5129526253715456'"
            ]
          },
          "metadata": {},
          "execution_count": 185
        }
      ]
    },
    {
      "cell_type": "code",
      "source": [
        "driver.get(url)\n",
        "time.sleep(2)\n",
        "page = driver.page_source\n",
        "org_soup = BeautifulSoup(page, \"html.parser\")"
      ],
      "metadata": {
        "id": "EmAuKu3ru7d4"
      },
      "execution_count": 191,
      "outputs": []
    },
    {
      "cell_type": "code",
      "source": [
        "tech = org_soup.find(\"div\", class_=\"tech__content\")"
      ],
      "metadata": {
        "id": "mlRoBd2EvTAo"
      },
      "execution_count": 194,
      "outputs": []
    },
    {
      "cell_type": "code",
      "source": [
        "tech.text.split(\", \")"
      ],
      "metadata": {
        "colab": {
          "base_uri": "https://localhost:8080/"
        },
        "id": "_aV83j_7vY9K",
        "outputId": "3da49016-87fc-41de-d5e6-14db1a4fff90"
      },
      "execution_count": 196,
      "outputs": [
        {
          "output_type": "execute_result",
          "data": {
            "text/plain": [
              "['python', 'javascript', 'java', 'web services', 'ogc standards']"
            ]
          },
          "metadata": {},
          "execution_count": 196
        }
      ]
    },
    {
      "cell_type": "markdown",
      "source": [
        "**Code to click on next button - LOCAL SYSTEM**"
      ],
      "metadata": {
        "id": "PcGR-po85Vp3"
      }
    },
    {
      "cell_type": "code",
      "source": [
        "from selenium import webdriver\n",
        "browser = webdriver.Chrome('chromedriver')"
      ],
      "metadata": {
        "id": "DriuebiS5mSj"
      },
      "execution_count": null,
      "outputs": []
    },
    {
      "cell_type": "code",
      "source": [
        "url = \"https://summerofcode.withgoogle.com/archive/2021/organizations\"\n",
        "browser.get(url)"
      ],
      "metadata": {
        "id": "NPddAlky5oH2"
      },
      "execution_count": null,
      "outputs": []
    },
    {
      "cell_type": "code",
      "source": [
        "from selenium.webdriver.common.by import By\n",
        "\n",
        "button = browser.find_element(By.CSS_SELECTOR , 'body > app-root > app-layout > mat-sidenav-container > mat-sidenav-content > div > div > main > app-organizations > app-orgs-grid > section.list-wrapper.section.theme--gray > div > div:nth-child(2) > mat-paginator > div > div > div.mat-paginator-range-actions > button.mat-focus-indicator.mat-tooltip-trigger.mat-paginator-navigation-next.mat-icon-button')"
      ],
      "metadata": {
        "id": "AAJavXyI5nsF"
      },
      "execution_count": null,
      "outputs": []
    },
    {
      "cell_type": "code",
      "source": [
        "button.click()"
      ],
      "metadata": {
        "id": "fLTG8kdv5xk_"
      },
      "execution_count": null,
      "outputs": []
    },
    {
      "cell_type": "markdown",
      "source": [
        "### **Read Table using Pandas**"
      ],
      "metadata": {
        "id": "UwAI0zmP5MYB"
      }
    },
    {
      "cell_type": "code",
      "source": [
        "table = pd.read_html(\"https://sports.yahoo.com/nba/stats/team/?selectedTable=0&guce_referrer=aHR0cHM6Ly93d3cuZ29vZ2xlLmNvbS8&guce_referrer_sig=AQAAABAYuBC__LxpDBmFei0t4um5RdZnh4NDt_g0EmOKj9BF74C9I-Ksyu3px5TFE0-H4J6E8SGurm3p787klJD4-aaA5Sm2WPpniIFMUCAmLoiFbwtJacrlnF0EQYQp7OBg4_GaaOyJZp_jPmWA1wK0gw5Jm61xGo9wlq0pLkYXQ1WL&guccounter=2\")"
      ],
      "metadata": {
        "id": "8j7tZ8RivZiK"
      },
      "execution_count": 199,
      "outputs": []
    },
    {
      "cell_type": "code",
      "source": [
        "len(table)"
      ],
      "metadata": {
        "colab": {
          "base_uri": "https://localhost:8080/"
        },
        "id": "fpfDc82z1hzM",
        "outputId": "2df4a857-0cd6-48b0-e6f0-5a03e8aadb17"
      },
      "execution_count": 200,
      "outputs": [
        {
          "output_type": "execute_result",
          "data": {
            "text/plain": [
              "1"
            ]
          },
          "metadata": {},
          "execution_count": 200
        }
      ]
    },
    {
      "cell_type": "code",
      "source": [
        "table"
      ],
      "metadata": {
        "colab": {
          "base_uri": "https://localhost:8080/"
        },
        "id": "7D5X4RmV2M2a",
        "outputId": "63ce0fab-a577-44af-a6a4-4bb7ef94a2b4"
      },
      "execution_count": 201,
      "outputs": [
        {
          "output_type": "execute_result",
          "data": {
            "text/plain": [
              "[             Team   FGM   FGA   FG%   3PM  ...    TO   Stl  Blk    PF    Pts\n",
              " 0       Charlotte  42.4  92.0  46.1  13.9  ...  12.6   8.8  5.0  19.5  114.3\n",
              " 1            Utah  40.5  85.9  47.2  14.5  ...  13.3   7.1  4.8  18.9  113.4\n",
              " 2         Phoenix  42.7  89.2  47.8  11.6  ...  12.8   8.6  4.2  19.3  113.0\n",
              " 3         Memphis  42.5  93.2  45.6  11.1  ...  12.7  10.2  6.4  19.1  112.2\n",
              " 4       Minnesota  40.7  91.4  44.5  14.3  ...  14.1   8.8  5.8  21.8  112.0\n",
              " 5       Milwaukee  40.4  88.8  45.5  14.1  ...  13.2   7.7  4.2  17.9  111.8\n",
              " 6        Brooklyn  41.6  88.2  47.2  11.1  ...  13.3   7.0  5.5  20.0  111.6\n",
              " 7         Atlanta  40.7  87.3  46.6  12.5  ...  11.7   6.7  4.4  18.3  111.5\n",
              " 8     San Antonio  43.4  93.4  46.5  11.2  ...  12.3   7.5  5.2  17.7  111.4\n",
              " 9         Chicago  41.5  87.0  47.7  11.4  ...  12.4   7.4  4.6  18.8  111.3\n",
              " 10      LA Lakers  41.3  89.1  46.3  12.1  ...  14.1   8.1  5.6  20.3  110.8\n",
              " 11   Golden State  40.3  86.5  46.6  14.5  ...  15.0   9.4  5.0  20.3  110.7\n",
              " 12     Sacramento  40.4  89.5  45.2  11.7  ...  13.3   7.1  4.7  19.4  109.3\n",
              " 13         Denver  40.8  86.5  47.2  12.8  ...  13.3   7.2  3.8  19.3  109.1\n",
              " 14        Indiana  40.6  88.8  45.7  11.8  ...  13.3   6.9  5.7  20.4  109.1\n",
              " 15          Miami  39.3  85.6  45.9  13.6  ...  14.2   7.3  3.3  20.5  108.7\n",
              " 16        Houston  38.7  85.7  45.1  13.2  ...  16.1   7.3  4.7  20.0  108.4\n",
              " 17         Boston  39.3  87.5  45.0  12.4  ...  13.6   7.3  5.8  18.8  108.1\n",
              " 18       Portland  38.9  86.6  44.9  13.7  ...  13.1   7.6  4.7  20.1  108.1\n",
              " 19   Philadelphia  39.6  85.4  46.4  11.1  ...  11.8   7.7  5.7  19.1  107.8\n",
              " 20        Toronto  39.8  90.9  43.8  12.3  ...  12.0   9.2  4.9  19.9  107.5\n",
              " 21     Washington  40.0  86.1  46.5  10.1  ...  12.8   6.0  5.1  18.7  107.4\n",
              " 22      Cleveland  39.7  85.1  46.7  11.8  ...  13.8   7.2  4.4  16.9  106.8\n",
              " 23         Dallas  39.2  86.4  45.3  12.3  ...  11.8   7.1  4.2  19.7  106.3\n",
              " 24    LA Clippers  39.2  87.2  44.9  12.4  ...  13.6   7.5  4.5  18.6  106.1\n",
              " 25    New Orleans  38.4  87.8  43.8  10.8  ...  13.4   7.5  4.1  19.4  105.4\n",
              " 26       New York  37.4  85.5  43.7  13.1  ...  12.8   6.9  5.0  19.6  104.2\n",
              " 27        Orlando  37.9  87.5  43.3  11.8  ...  14.0   6.8  4.8  20.0  103.1\n",
              " 28        Detroit  37.0  87.7  42.2  11.1  ...  13.9   8.0  4.8  21.4  102.3\n",
              " 29  Oklahoma City  37.2  89.2  41.7  11.8  ...  12.8   7.5  4.6  18.3  101.1\n",
              " \n",
              " [30 rows x 19 columns]]"
            ]
          },
          "metadata": {},
          "execution_count": 201
        }
      ]
    },
    {
      "cell_type": "code",
      "source": [
        ""
      ],
      "metadata": {
        "id": "licPtHvM2OSE"
      },
      "execution_count": null,
      "outputs": []
    },
    {
      "cell_type": "markdown",
      "source": [
        "## **LOGIN to Pepcoding**"
      ],
      "metadata": {
        "id": "ysLFjUhP53t6"
      }
    },
    {
      "cell_type": "code",
      "source": [
        "from selenium import webdriver\n",
        "from selenium.webdriver.common.by import By\n",
        "import time"
      ],
      "metadata": {
        "id": "oe-8SQT36V9u"
      },
      "execution_count": null,
      "outputs": []
    },
    {
      "cell_type": "code",
      "source": [
        "url = \"https://www.pepcoding.com/login\"\n",
        "id = \"purnachandramansingh135@gmai.com\"\n",
        "passwd = \"purna@123\""
      ],
      "metadata": {
        "id": "RICBE3pm6Y80"
      },
      "execution_count": null,
      "outputs": []
    },
    {
      "cell_type": "code",
      "source": [
        "option = webdriver.ChromeOptions()\n",
        "option.add_argument(\"--start-maximized\")\n",
        "browser = webdriver.Chrome(executable_path=\"chromedriver.exe\", options=option)"
      ],
      "metadata": {
        "id": "3iU50EfL6bFm"
      },
      "execution_count": null,
      "outputs": []
    },
    {
      "cell_type": "code",
      "source": [
        "browser.get(url)\n",
        "time.sleep(1)"
      ],
      "metadata": {
        "id": "b1rjMOWW6dVb"
      },
      "execution_count": null,
      "outputs": []
    },
    {
      "cell_type": "code",
      "source": [
        "username = browser.find_element(By.NAME, 'email')\n",
        "username.send_keys(id)"
      ],
      "metadata": {
        "id": "R8xrmMg66vCp"
      },
      "execution_count": null,
      "outputs": []
    },
    {
      "cell_type": "code",
      "source": [
        "username = browser.find_element(By.NAME, 'password')\n",
        "username.send_keys(passwd)"
      ],
      "metadata": {
        "id": "9RM7MSIK6xDw"
      },
      "execution_count": null,
      "outputs": []
    },
    {
      "cell_type": "code",
      "source": [
        "login = browser.find_element(By.XPATH, '//button')\n",
        "login.click()"
      ],
      "metadata": {
        "id": "R4dPPMfA6zIW"
      },
      "execution_count": null,
      "outputs": []
    },
    {
      "cell_type": "code",
      "source": [
        "browser.quit()"
      ],
      "metadata": {
        "id": "OT-s60ls61C5"
      },
      "execution_count": null,
      "outputs": []
    }
  ]
}